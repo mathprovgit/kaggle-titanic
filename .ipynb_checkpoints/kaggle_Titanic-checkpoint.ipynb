{
 "cells": [
  {
   "cell_type": "markdown",
   "metadata": {},
   "source": [
    "# Titanic<sub>An introduction to machine learning <sub>\n",
    "[Home Page](https://www.kaggle.com/c/titanic)\n",
    "\n",
    "\n"
   ]
  },
  {
   "cell_type": "markdown",
   "metadata": {},
   "source": [
    "<img src=\"https://i0.wp.com/intheboatshed.net/wp-content/uploads/2008/04/titanic_4.jpg\" width=\"800px\">"
   ]
  },
  {
   "cell_type": "markdown",
   "metadata": {},
   "source": [
    "# Preliminaries"
   ]
  },
  {
   "cell_type": "markdown",
   "metadata": {},
   "source": [
    "## Interesting Links"
   ]
  },
  {
   "cell_type": "markdown",
   "metadata": {},
   "source": [
    "kaggle intern:\n",
    " - https://www.kaggle.com/alexisbcook/titanic-tutorial\n",
    " - https://www.kaggle.com/parulpandey/10-simple-hacks-to-speed-up-your-data-analysis#758058\n",
    " - https://www.kaggle.com/startupsci/titanic-data-science-solutions\n",
    " - https://www.kaggle.com/mrisdal/exploring-survival-on-the-titanic\n",
    " - https://www.kaggle.com/pratsiuk/valueerror-unknown-label-type-continuous\n",
    " - https://www.kaggle.com/omarelgabry/a-journey-through-titanic\n",
    " \n",
    " - https://www.kaggle.com/yassineghouzam/titanic-top-4-with-ensemble-modeling\n",
    " \n",
    " others:\n",
    " - https://pandas-profiling.github.io/pandas-profiling/docs/\n"
   ]
  },
  {
   "cell_type": "markdown",
   "metadata": {},
   "source": [
    "## Settings"
   ]
  },
  {
   "cell_type": "code",
   "execution_count": 1,
   "metadata": {
    "ExecuteTime": {
     "end_time": "2020-03-04T12:22:08.526354Z",
     "start_time": "2020-03-04T12:22:08.523386Z"
    },
    "_cell_guid": "b1076dfc-b9ad-4769-8c92-a6c4dae69d19",
    "_uuid": "8f2839f25d086af736a60e9eeb907d3b93b6e0e5",
    "code_folding": []
   },
   "outputs": [],
   "source": [
    "# settings\n",
    "# display all outputs\n",
    "#from IPython.core.interactiveshell import InteractiveShell  \n",
    "#InteractiveShell.ast_node_interactivity = \"all\"\n",
    "#To revert to the original setting :\n",
    "# InteractiveShell.ast_node_interactivity = \"last_expr\""
   ]
  },
  {
   "cell_type": "markdown",
   "metadata": {},
   "source": [
    "## Imports"
   ]
  },
  {
   "cell_type": "code",
   "execution_count": 2,
   "metadata": {
    "ExecuteTime": {
     "end_time": "2020-03-04T12:22:10.647904Z",
     "start_time": "2020-03-04T12:22:08.602357Z"
    },
    "_cell_guid": "79c7e3d0-c299-4dcb-8224-4455121ee9b0",
    "_uuid": "d629ff2d2480ee46fbb7e2d37f6b5fab8052498a",
    "code_folding": []
   },
   "outputs": [],
   "source": [
    "#imports\n",
    "# os \n",
    "import os\n",
    "\n",
    "# data analysis and wrangling\n",
    "import numpy as np # linear algebra\n",
    "import pandas as pd # data processing, CSV file I/O (e.g. pd.read_csv)\n",
    "import random \n",
    "\n",
    "# visualization and reporting\n",
    "import pandas_profiling # dataframe profiling @\n",
    "import seaborn as sns\n",
    "import matplotlib.pyplot as plt\n",
    "%matplotlib inline\n",
    "import calmap\n",
    "\n",
    "\n",
    "# machine learning\n",
    "from sklearn import preprocessing\n",
    "from sklearn.ensemble import RandomForestClassifier\n",
    "from sklearn.linear_model import LogisticRegression\n",
    "from sklearn.svm import SVC, LinearSVC\n",
    "from sklearn.neighbors import KNeighborsClassifier\n",
    "from sklearn.naive_bayes import GaussianNB\n",
    "from sklearn.linear_model import Perceptron\n",
    "from sklearn.linear_model import SGDClassifier\n",
    "from sklearn.tree import DecisionTreeClassifier\n",
    "\n",
    "# combination'\n",
    "from itertools import combinations"
   ]
  },
  {
   "cell_type": "code",
   "execution_count": 3,
   "metadata": {
    "ExecuteTime": {
     "end_time": "2020-03-04T12:22:10.656885Z",
     "start_time": "2020-03-04T12:22:10.648880Z"
    },
    "_kg_hide-input": false,
    "_kg_hide-output": true,
    "code_folding": []
   },
   "outputs": [
    {
     "name": "stdout",
     "output_type": "stream",
     "text": [
      "kaggle/input\\gender_submission.csv kaggle/input\\test.csv kaggle/input\\train.csv\n"
     ]
    }
   ],
   "source": [
    "# walk file structure and find input data\n",
    "input_files=[]\n",
    "for dirname, _, filenames in os.walk('kaggle/input'):\n",
    "    for filename in filenames:\n",
    "        path=os.path.join(dirname, filename)\n",
    "        if path.endswith('submission.csv'):\n",
    "            path_gs=path\n",
    "        elif path.endswith('test.csv'):\n",
    "            path_test=path\n",
    "        elif path.endswith('train.csv'):\n",
    "            path_train=path\n",
    "print(path_gs,path_test,path_train)            "
   ]
  },
  {
   "cell_type": "markdown",
   "metadata": {},
   "source": [
    "## DataFrame Creation"
   ]
  },
  {
   "cell_type": "code",
   "execution_count": 4,
   "metadata": {
    "ExecuteTime": {
     "end_time": "2020-03-04T12:22:10.672940Z",
     "start_time": "2020-03-04T12:22:10.658945Z"
    },
    "code_folding": [
     0
    ]
   },
   "outputs": [],
   "source": [
    "# create a dataframe for each csv file\n",
    "test_df=pd.read_csv(path_test)\n",
    "train_df=pd.read_csv(path_train)\n",
    "\n",
    "combo=[test_df,train_df]"
   ]
  },
  {
   "cell_type": "markdown",
   "metadata": {},
   "source": [
    "# Data Insight"
   ]
  },
  {
   "cell_type": "markdown",
   "metadata": {},
   "source": [
    "## Fast report"
   ]
  },
  {
   "cell_type": "code",
   "execution_count": 5,
   "metadata": {
    "ExecuteTime": {
     "end_time": "2020-03-04T12:22:10.724770Z",
     "start_time": "2020-03-04T12:22:10.674944Z"
    },
    "code_folding": [
     1,
     6
    ],
    "scrolled": false
   },
   "outputs": [
    {
     "name": "stdout",
     "output_type": "stream",
     "text": [
      "<class 'pandas.core.frame.DataFrame'>\n",
      "RangeIndex: 891 entries, 0 to 890\n",
      "Data columns (total 12 columns):\n",
      "PassengerId    891 non-null int64\n",
      "Survived       891 non-null int64\n",
      "Pclass         891 non-null int64\n",
      "Name           891 non-null object\n",
      "Sex            891 non-null object\n",
      "Age            714 non-null float64\n",
      "SibSp          891 non-null int64\n",
      "Parch          891 non-null int64\n",
      "Ticket         891 non-null object\n",
      "Fare           891 non-null float64\n",
      "Cabin          204 non-null object\n",
      "Embarked       889 non-null object\n",
      "dtypes: float64(2), int64(5), object(5)\n",
      "memory usage: 83.7+ KB\n"
     ]
    }
   ],
   "source": [
    "# display\n",
    "if False: # test report\n",
    "    test_df.head()\n",
    "    test_df.info()\n",
    "    test_df.describe(include='all')\n",
    "if True: # Train report\n",
    "    train_df.head()\n",
    "    train_df.info()\n",
    "    #train_df.describe()\n",
    "    train_df.describe(include='all')"
   ]
  },
  {
   "cell_type": "markdown",
   "metadata": {},
   "source": [
    "## Missing values"
   ]
  },
  {
   "cell_type": "code",
   "execution_count": 6,
   "metadata": {
    "ExecuteTime": {
     "end_time": "2020-03-04T12:22:10.977245Z",
     "start_time": "2020-03-04T12:22:10.725765Z"
    }
   },
   "outputs": [
    {
     "data": {
      "text/plain": [
       "<matplotlib.axes._subplots.AxesSubplot at 0x1f206c3db88>"
      ]
     },
     "execution_count": 6,
     "metadata": {},
     "output_type": "execute_result"
    },
    {
     "data": {
      "image/png": "[encoded data removed]",
      "text/plain": [
       "<Figure size 432x288 with 1 Axes>"
      ]
     },
     "metadata": {
      "needs_background": "light"
     },
     "output_type": "display_data"
    }
   ],
   "source": [
    "#heat map\n",
    "sns.heatmap(train_df.isnull(), cbar=False)"
   ]
  },
  {
   "cell_type": "markdown",
   "metadata": {},
   "source": [
    "## Full report"
   ]
  },
  {
   "cell_type": "code",
   "execution_count": 7,
   "metadata": {
    "ExecuteTime": {
     "end_time": "2020-03-04T12:22:10.982240Z",
     "start_time": "2020-03-04T12:22:10.978212Z"
    },
    "code_folding": [
     1,
     6
    ],
    "scrolled": true
   },
   "outputs": [],
   "source": [
    "#profile report inline\n",
    "if False: # Train Data report generation\n",
    "    profile_train = train_df.profile_report(title='Titanic train data') \n",
    "    profile_train.to_file(output_file=\"kaggle/profile_report/Titanic_train_data.html\") # save the report \n",
    "    profile_train # display inline\n",
    "if False: # Test Data report generation\n",
    "    profile_test = test_df.profile_report(title='Titanic test data')\n",
    "    profile_test.to_file(output_file=\"kaggle/profile_report/Titanic_test_data.html\") # save the report \n",
    "    profile_test # in order to display inline"
   ]
  },
  {
   "cell_type": "markdown",
   "metadata": {
    "ExecuteTime": {
     "end_time": "2020-03-03T14:51:33.399411Z",
     "start_time": "2020-03-03T14:51:33.395422Z"
    },
    "code_folding": []
   },
   "source": [
    "To do: \n",
    " 1. **Name**: Get title \n",
    " 2. **Age**: \n",
    "     - Estimate missing value\n",
    "     - get isChildren\n",
    " 3. **Sibs** & **Parch**: Get FamillySize\n",
    " 4. **Fare**: Estimate missing value\n",
    " 5. **Embarked**: Estimate missing value\n",
    " 6. **Tiket** and **Cabin**: erase \n",
    " 7. Idea"
   ]
  },
  {
   "cell_type": "markdown",
   "metadata": {},
   "source": [
    "# Data Wrangling"
   ]
  },
  {
   "cell_type": "markdown",
   "metadata": {},
   "source": [
    "## Name"
   ]
  },
  {
   "cell_type": "markdown",
   "metadata": {},
   "source": [
    "### extract Title from Name"
   ]
  },
  {
   "cell_type": "code",
   "execution_count": 8,
   "metadata": {},
   "outputs": [
    {
     "data": {
      "text/html": [
       "<div>\n",
       "<style scoped>\n",
       "    .dataframe tbody tr th:only-of-type {\n",
       "        vertical-align: middle;\n",
       "    }\n",
       "\n",
       "    .dataframe tbody tr th {\n",
       "        vertical-align: top;\n",
       "    }\n",
       "\n",
       "    .dataframe thead th {\n",
       "        text-align: right;\n",
       "    }\n",
       "</style>\n",
       "<table border=\"1\" class=\"dataframe\">\n",
       "  <thead>\n",
       "    <tr style=\"text-align: right;\">\n",
       "      <th></th>\n",
       "      <th>PassengerId</th>\n",
       "      <th>Survived</th>\n",
       "      <th>Pclass</th>\n",
       "      <th>Name</th>\n",
       "      <th>Sex</th>\n",
       "      <th>Age</th>\n",
       "      <th>SibSp</th>\n",
       "      <th>Parch</th>\n",
       "      <th>Ticket</th>\n",
       "      <th>Fare</th>\n",
       "      <th>Cabin</th>\n",
       "      <th>Embarked</th>\n",
       "      <th>Surname</th>\n",
       "    </tr>\n",
       "  </thead>\n",
       "  <tbody>\n",
       "    <tr>\n",
       "      <th>0</th>\n",
       "      <td>1</td>\n",
       "      <td>0</td>\n",
       "      <td>3</td>\n",
       "      <td>Braund, Mr. Owen Harris</td>\n",
       "      <td>male</td>\n",
       "      <td>22.0</td>\n",
       "      <td>1</td>\n",
       "      <td>0</td>\n",
       "      <td>A/5 21171</td>\n",
       "      <td>7.2500</td>\n",
       "      <td>NaN</td>\n",
       "      <td>S</td>\n",
       "      <td>Braund</td>\n",
       "    </tr>\n",
       "    <tr>\n",
       "      <th>1</th>\n",
       "      <td>2</td>\n",
       "      <td>1</td>\n",
       "      <td>1</td>\n",
       "      <td>Cumings, Mrs. John Bradley (Florence Briggs Th...</td>\n",
       "      <td>female</td>\n",
       "      <td>38.0</td>\n",
       "      <td>1</td>\n",
       "      <td>0</td>\n",
       "      <td>PC 17599</td>\n",
       "      <td>71.2833</td>\n",
       "      <td>C85</td>\n",
       "      <td>C</td>\n",
       "      <td>Cumings</td>\n",
       "    </tr>\n",
       "    <tr>\n",
       "      <th>2</th>\n",
       "      <td>3</td>\n",
       "      <td>1</td>\n",
       "      <td>3</td>\n",
       "      <td>Heikkinen, Miss. Laina</td>\n",
       "      <td>female</td>\n",
       "      <td>26.0</td>\n",
       "      <td>0</td>\n",
       "      <td>0</td>\n",
       "      <td>STON/O2. 3101282</td>\n",
       "      <td>7.9250</td>\n",
       "      <td>NaN</td>\n",
       "      <td>S</td>\n",
       "      <td>Heikkinen</td>\n",
       "    </tr>\n",
       "    <tr>\n",
       "      <th>3</th>\n",
       "      <td>4</td>\n",
       "      <td>1</td>\n",
       "      <td>1</td>\n",
       "      <td>Futrelle, Mrs. Jacques Heath (Lily May Peel)</td>\n",
       "      <td>female</td>\n",
       "      <td>35.0</td>\n",
       "      <td>1</td>\n",
       "      <td>0</td>\n",
       "      <td>113803</td>\n",
       "      <td>53.1000</td>\n",
       "      <td>C123</td>\n",
       "      <td>S</td>\n",
       "      <td>Futrelle</td>\n",
       "    </tr>\n",
       "    <tr>\n",
       "      <th>4</th>\n",
       "      <td>5</td>\n",
       "      <td>0</td>\n",
       "      <td>3</td>\n",
       "      <td>Allen, Mr. William Henry</td>\n",
       "      <td>male</td>\n",
       "      <td>35.0</td>\n",
       "      <td>0</td>\n",
       "      <td>0</td>\n",
       "      <td>373450</td>\n",
       "      <td>8.0500</td>\n",
       "      <td>NaN</td>\n",
       "      <td>S</td>\n",
       "      <td>Allen</td>\n",
       "    </tr>\n",
       "  </tbody>\n",
       "</table>\n",
       "</div>"
      ],
      "text/plain": [
       "   PassengerId  Survived  Pclass  \\\n",
       "0            1         0       3   \n",
       "1            2         1       1   \n",
       "2            3         1       3   \n",
       "3            4         1       1   \n",
       "4            5         0       3   \n",
       "\n",
       "                                                Name     Sex   Age  SibSp  \\\n",
       "0                            Braund, Mr. Owen Harris    male  22.0      1   \n",
       "1  Cumings, Mrs. John Bradley (Florence Briggs Th...  female  38.0      1   \n",
       "2                             Heikkinen, Miss. Laina  female  26.0      0   \n",
       "3       Futrelle, Mrs. Jacques Heath (Lily May Peel)  female  35.0      1   \n",
       "4                           Allen, Mr. William Henry    male  35.0      0   \n",
       "\n",
       "   Parch            Ticket     Fare Cabin Embarked    Surname  \n",
       "0      0         A/5 21171   7.2500   NaN        S     Braund  \n",
       "1      0          PC 17599  71.2833   C85        C    Cumings  \n",
       "2      0  STON/O2. 3101282   7.9250   NaN        S  Heikkinen  \n",
       "3      0            113803  53.1000  C123        S   Futrelle  \n",
       "4      0            373450   8.0500   NaN        S      Allen  "
      ]
     },
     "execution_count": 8,
     "metadata": {},
     "output_type": "execute_result"
    }
   ],
   "source": [
    "train_df['Surname'] = train_df.Name.str.split(',').str[0]\n",
    "train_df.head()"
   ]
  },
  {
   "cell_type": "code",
   "execution_count": 9,
   "metadata": {
    "ExecuteTime": {
     "end_time": "2020-03-04T12:22:11.036285Z",
     "start_time": "2020-03-04T12:22:10.983251Z"
    },
    "code_folding": []
   },
   "outputs": [
    {
     "data": {
      "text/html": [
       "<style  type=\"text/css\" >\n",
       "    #T_068366a8_62e2_11ea_8015_a46fff3d379frow0_col0 {\n",
       "            background-color:  #67000d;\n",
       "            color:  #f1f1f1;\n",
       "        }    #T_068366a8_62e2_11ea_8015_a46fff3d379frow1_col0 {\n",
       "            background-color:  #67000d;\n",
       "            color:  #f1f1f1;\n",
       "        }    #T_068366a8_62e2_11ea_8015_a46fff3d379frow2_col0 {\n",
       "            background-color:  #67000d;\n",
       "            color:  #f1f1f1;\n",
       "        }    #T_068366a8_62e2_11ea_8015_a46fff3d379frow3_col0 {\n",
       "            background-color:  #67000d;\n",
       "            color:  #f1f1f1;\n",
       "        }    #T_068366a8_62e2_11ea_8015_a46fff3d379frow4_col0 {\n",
       "            background-color:  #67000d;\n",
       "            color:  #f1f1f1;\n",
       "        }    #T_068366a8_62e2_11ea_8015_a46fff3d379frow5_col0 {\n",
       "            background-color:  #67000d;\n",
       "            color:  #f1f1f1;\n",
       "        }    #T_068366a8_62e2_11ea_8015_a46fff3d379frow6_col0 {\n",
       "            background-color:  #be151a;\n",
       "            color:  #f1f1f1;\n",
       "        }    #T_068366a8_62e2_11ea_8015_a46fff3d379frow7_col0 {\n",
       "            background-color:  #da2723;\n",
       "            color:  #f1f1f1;\n",
       "        }    #T_068366a8_62e2_11ea_8015_a46fff3d379frow8_col0 {\n",
       "            background-color:  #f44d38;\n",
       "            color:  #000000;\n",
       "        }    #T_068366a8_62e2_11ea_8015_a46fff3d379frow9_col0 {\n",
       "            background-color:  #fb694a;\n",
       "            color:  #000000;\n",
       "        }    #T_068366a8_62e2_11ea_8015_a46fff3d379frow10_col0 {\n",
       "            background-color:  #fb694a;\n",
       "            color:  #000000;\n",
       "        }    #T_068366a8_62e2_11ea_8015_a46fff3d379frow11_col0 {\n",
       "            background-color:  #fc8161;\n",
       "            color:  #000000;\n",
       "        }    #T_068366a8_62e2_11ea_8015_a46fff3d379frow12_col0 {\n",
       "            background-color:  #fdd7c6;\n",
       "            color:  #000000;\n",
       "        }    #T_068366a8_62e2_11ea_8015_a46fff3d379frow13_col0 {\n",
       "            background-color:  #fff5f0;\n",
       "            color:  #000000;\n",
       "        }    #T_068366a8_62e2_11ea_8015_a46fff3d379frow14_col0 {\n",
       "            background-color:  #fff5f0;\n",
       "            color:  #000000;\n",
       "        }    #T_068366a8_62e2_11ea_8015_a46fff3d379frow15_col0 {\n",
       "            background-color:  #fff5f0;\n",
       "            color:  #000000;\n",
       "        }    #T_068366a8_62e2_11ea_8015_a46fff3d379frow16_col0 {\n",
       "            background-color:  #fff5f0;\n",
       "            color:  #000000;\n",
       "        }</style><table id=\"T_068366a8_62e2_11ea_8015_a46fff3d379f\" ><thead>    <tr>        <th class=\"blank level0\" ></th>        <th class=\"col_heading level0 col0\" >Survived</th>    </tr>    <tr>        <th class=\"index_name level0\" >Title</th>        <th class=\"blank\" ></th>    </tr></thead><tbody>\n",
       "                <tr>\n",
       "                        <th id=\"T_068366a8_62e2_11ea_8015_a46fff3d379flevel0_row0\" class=\"row_heading level0 row0\" >Sir</th>\n",
       "                        <td id=\"T_068366a8_62e2_11ea_8015_a46fff3d379frow0_col0\" class=\"data row0 col0\" >1</td>\n",
       "            </tr>\n",
       "            <tr>\n",
       "                        <th id=\"T_068366a8_62e2_11ea_8015_a46fff3d379flevel0_row1\" class=\"row_heading level0 row1\" >Countess</th>\n",
       "                        <td id=\"T_068366a8_62e2_11ea_8015_a46fff3d379frow1_col0\" class=\"data row1 col0\" >1</td>\n",
       "            </tr>\n",
       "            <tr>\n",
       "                        <th id=\"T_068366a8_62e2_11ea_8015_a46fff3d379flevel0_row2\" class=\"row_heading level0 row2\" >Ms</th>\n",
       "                        <td id=\"T_068366a8_62e2_11ea_8015_a46fff3d379frow2_col0\" class=\"data row2 col0\" >1</td>\n",
       "            </tr>\n",
       "            <tr>\n",
       "                        <th id=\"T_068366a8_62e2_11ea_8015_a46fff3d379flevel0_row3\" class=\"row_heading level0 row3\" >Mme</th>\n",
       "                        <td id=\"T_068366a8_62e2_11ea_8015_a46fff3d379frow3_col0\" class=\"data row3 col0\" >1</td>\n",
       "            </tr>\n",
       "            <tr>\n",
       "                        <th id=\"T_068366a8_62e2_11ea_8015_a46fff3d379flevel0_row4\" class=\"row_heading level0 row4\" >Lady</th>\n",
       "                        <td id=\"T_068366a8_62e2_11ea_8015_a46fff3d379frow4_col0\" class=\"data row4 col0\" >1</td>\n",
       "            </tr>\n",
       "            <tr>\n",
       "                        <th id=\"T_068366a8_62e2_11ea_8015_a46fff3d379flevel0_row5\" class=\"row_heading level0 row5\" >Mlle</th>\n",
       "                        <td id=\"T_068366a8_62e2_11ea_8015_a46fff3d379frow5_col0\" class=\"data row5 col0\" >1</td>\n",
       "            </tr>\n",
       "            <tr>\n",
       "                        <th id=\"T_068366a8_62e2_11ea_8015_a46fff3d379flevel0_row6\" class=\"row_heading level0 row6\" >Mrs</th>\n",
       "                        <td id=\"T_068366a8_62e2_11ea_8015_a46fff3d379frow6_col0\" class=\"data row6 col0\" >0.792</td>\n",
       "            </tr>\n",
       "            <tr>\n",
       "                        <th id=\"T_068366a8_62e2_11ea_8015_a46fff3d379flevel0_row7\" class=\"row_heading level0 row7\" >Miss</th>\n",
       "                        <td id=\"T_068366a8_62e2_11ea_8015_a46fff3d379frow7_col0\" class=\"data row7 col0\" >0.697802</td>\n",
       "            </tr>\n",
       "            <tr>\n",
       "                        <th id=\"T_068366a8_62e2_11ea_8015_a46fff3d379flevel0_row8\" class=\"row_heading level0 row8\" >Master</th>\n",
       "                        <td id=\"T_068366a8_62e2_11ea_8015_a46fff3d379frow8_col0\" class=\"data row8 col0\" >0.575</td>\n",
       "            </tr>\n",
       "            <tr>\n",
       "                        <th id=\"T_068366a8_62e2_11ea_8015_a46fff3d379flevel0_row9\" class=\"row_heading level0 row9\" >Col</th>\n",
       "                        <td id=\"T_068366a8_62e2_11ea_8015_a46fff3d379frow9_col0\" class=\"data row9 col0\" >0.5</td>\n",
       "            </tr>\n",
       "            <tr>\n",
       "                        <th id=\"T_068366a8_62e2_11ea_8015_a46fff3d379flevel0_row10\" class=\"row_heading level0 row10\" >Major</th>\n",
       "                        <td id=\"T_068366a8_62e2_11ea_8015_a46fff3d379frow10_col0\" class=\"data row10 col0\" >0.5</td>\n",
       "            </tr>\n",
       "            <tr>\n",
       "                        <th id=\"T_068366a8_62e2_11ea_8015_a46fff3d379flevel0_row11\" class=\"row_heading level0 row11\" >Dr</th>\n",
       "                        <td id=\"T_068366a8_62e2_11ea_8015_a46fff3d379frow11_col0\" class=\"data row11 col0\" >0.428571</td>\n",
       "            </tr>\n",
       "            <tr>\n",
       "                        <th id=\"T_068366a8_62e2_11ea_8015_a46fff3d379flevel0_row12\" class=\"row_heading level0 row12\" >Mr</th>\n",
       "                        <td id=\"T_068366a8_62e2_11ea_8015_a46fff3d379frow12_col0\" class=\"data row12 col0\" >0.156673</td>\n",
       "            </tr>\n",
       "            <tr>\n",
       "                        <th id=\"T_068366a8_62e2_11ea_8015_a46fff3d379flevel0_row13\" class=\"row_heading level0 row13\" >Jonkheer</th>\n",
       "                        <td id=\"T_068366a8_62e2_11ea_8015_a46fff3d379frow13_col0\" class=\"data row13 col0\" >0</td>\n",
       "            </tr>\n",
       "            <tr>\n",
       "                        <th id=\"T_068366a8_62e2_11ea_8015_a46fff3d379flevel0_row14\" class=\"row_heading level0 row14\" >Don</th>\n",
       "                        <td id=\"T_068366a8_62e2_11ea_8015_a46fff3d379frow14_col0\" class=\"data row14 col0\" >0</td>\n",
       "            </tr>\n",
       "            <tr>\n",
       "                        <th id=\"T_068366a8_62e2_11ea_8015_a46fff3d379flevel0_row15\" class=\"row_heading level0 row15\" >Rev</th>\n",
       "                        <td id=\"T_068366a8_62e2_11ea_8015_a46fff3d379frow15_col0\" class=\"data row15 col0\" >0</td>\n",
       "            </tr>\n",
       "            <tr>\n",
       "                        <th id=\"T_068366a8_62e2_11ea_8015_a46fff3d379flevel0_row16\" class=\"row_heading level0 row16\" >Capt</th>\n",
       "                        <td id=\"T_068366a8_62e2_11ea_8015_a46fff3d379frow16_col0\" class=\"data row16 col0\" >0</td>\n",
       "            </tr>\n",
       "    </tbody></table>"
      ],
      "text/plain": [
       "<pandas.io.formats.style.Styler at 0x1f206fe94c8>"
      ]
     },
     "execution_count": 9,
     "metadata": {},
     "output_type": "execute_result"
    }
   ],
   "source": [
    "# extract Title\n",
    "for df in combo:\n",
    "    df['Title'] = df.Name.str.extract(' ([A-Za-z]+)\\.', expand=False)\n",
    "    df['Surname'] = df.Name.str.split(',').str[0]\n",
    "    \n",
    "#display    \n",
    "train_df[['Title','Survived']].groupby(['Title'],as_index=True).mean().sort_values(by='Survived',ascending=False).style.background_gradient(cmap='Reds')   "
   ]
  },
  {
   "cell_type": "markdown",
   "metadata": {},
   "source": [
    "### Regroup Title in Categories"
   ]
  },
  {
   "cell_type": "code",
   "execution_count": 10,
   "metadata": {
    "ExecuteTime": {
     "end_time": "2020-03-04T12:22:11.058211Z",
     "start_time": "2020-03-04T12:22:11.038229Z"
    }
   },
   "outputs": [
    {
     "data": {
      "text/html": [
       "<style  type=\"text/css\" >\n",
       "    #T_0687841c_62e2_11ea_9070_a46fff3d379frow0_col0 {\n",
       "            background-color:  #67000d;\n",
       "            color:  #f1f1f1;\n",
       "        }    #T_0687841c_62e2_11ea_9070_a46fff3d379frow1_col0 {\n",
       "            background-color:  #aa1016;\n",
       "            color:  #f1f1f1;\n",
       "        }    #T_0687841c_62e2_11ea_9070_a46fff3d379frow2_col0 {\n",
       "            background-color:  #e53228;\n",
       "            color:  #f1f1f1;\n",
       "        }    #T_0687841c_62e2_11ea_9070_a46fff3d379frow3_col0 {\n",
       "            background-color:  #fcab8f;\n",
       "            color:  #000000;\n",
       "        }    #T_0687841c_62e2_11ea_9070_a46fff3d379frow4_col0 {\n",
       "            background-color:  #fff5f0;\n",
       "            color:  #000000;\n",
       "        }</style><table id=\"T_0687841c_62e2_11ea_9070_a46fff3d379f\" ><thead>    <tr>        <th class=\"blank level0\" ></th>        <th class=\"col_heading level0 col0\" >Survived</th>    </tr>    <tr>        <th class=\"index_name level0\" >Title</th>        <th class=\"blank\" ></th>    </tr></thead><tbody>\n",
       "                <tr>\n",
       "                        <th id=\"T_0687841c_62e2_11ea_9070_a46fff3d379flevel0_row0\" class=\"row_heading level0 row0\" >Mrs</th>\n",
       "                        <td id=\"T_0687841c_62e2_11ea_9070_a46fff3d379frow0_col0\" class=\"data row0 col0\" >0.793651</td>\n",
       "            </tr>\n",
       "            <tr>\n",
       "                        <th id=\"T_0687841c_62e2_11ea_9070_a46fff3d379flevel0_row1\" class=\"row_heading level0 row1\" >Miss</th>\n",
       "                        <td id=\"T_0687841c_62e2_11ea_9070_a46fff3d379frow1_col0\" class=\"data row1 col0\" >0.702703</td>\n",
       "            </tr>\n",
       "            <tr>\n",
       "                        <th id=\"T_0687841c_62e2_11ea_9070_a46fff3d379flevel0_row2\" class=\"row_heading level0 row2\" >Master</th>\n",
       "                        <td id=\"T_0687841c_62e2_11ea_9070_a46fff3d379frow2_col0\" class=\"data row2 col0\" >0.575</td>\n",
       "            </tr>\n",
       "            <tr>\n",
       "                        <th id=\"T_0687841c_62e2_11ea_9070_a46fff3d379flevel0_row3\" class=\"row_heading level0 row3\" >Rare</th>\n",
       "                        <td id=\"T_0687841c_62e2_11ea_9070_a46fff3d379frow3_col0\" class=\"data row3 col0\" >0.347826</td>\n",
       "            </tr>\n",
       "            <tr>\n",
       "                        <th id=\"T_0687841c_62e2_11ea_9070_a46fff3d379flevel0_row4\" class=\"row_heading level0 row4\" >Mr</th>\n",
       "                        <td id=\"T_0687841c_62e2_11ea_9070_a46fff3d379frow4_col0\" class=\"data row4 col0\" >0.156673</td>\n",
       "            </tr>\n",
       "    </tbody></table>"
      ],
      "text/plain": [
       "<pandas.io.formats.style.Styler at 0x1f206fe4b48>"
      ]
     },
     "execution_count": 10,
     "metadata": {},
     "output_type": "execute_result"
    }
   ],
   "source": [
    "for df in combo:\n",
    "    #Rare Titles\n",
    "    df['Title'] = df['Title'].replace(['Lady', 'Countess','Capt', 'Col','Don', 'Dr', 'Major', 'Rev', 'Sir', 'Jonkheer', 'Dona'], 'Rare')\n",
    "    \n",
    "    #Miss, Mlle, Ms,Mme and so on\n",
    "    df['Title'] = df['Title'].replace('Mlle', 'Miss')\n",
    "    df['Title'] = df['Title'].replace('Ms', 'Miss')\n",
    "    df['Title'] = df['Title'].replace('Mme', 'Mrs')\n",
    "    \n",
    "#display    \n",
    "train_df[['Title','Survived']].groupby(['Title'],as_index=True).mean().sort_values(by='Survived',ascending=False).style.background_gradient(cmap='Reds')  "
   ]
  },
  {
   "cell_type": "markdown",
   "metadata": {},
   "source": [
    "## Sibs & Parch"
   ]
  },
  {
   "cell_type": "code",
   "execution_count": 11,
   "metadata": {
    "ExecuteTime": {
     "end_time": "2020-03-04T12:22:11.065158Z",
     "start_time": "2020-03-04T12:22:11.059213Z"
    }
   },
   "outputs": [],
   "source": [
    "for df in combo:\n",
    "    df['FamilySize'] = df.SibSp + df.Parch + 1   \n",
    "    #df.drop(['SibSp','Parch'],axis=True,inplace=True)"
   ]
  },
  {
   "cell_type": "code",
   "execution_count": 12,
   "metadata": {
    "ExecuteTime": {
     "end_time": "2020-03-04T12:22:11.082142Z",
     "start_time": "2020-03-04T12:22:11.067152Z"
    },
    "scrolled": false
   },
   "outputs": [
    {
     "data": {
      "text/html": [
       "<style  type=\"text/css\" >\n",
       "    #T_068b2b14_62e2_11ea_a8bb_a46fff3d379frow0_col0 {\n",
       "            background-color:  #fc8464;\n",
       "            color:  #000000;\n",
       "        }    #T_068b2b14_62e2_11ea_a8bb_a46fff3d379frow1_col0 {\n",
       "            background-color:  #c7171c;\n",
       "            color:  #f1f1f1;\n",
       "        }    #T_068b2b14_62e2_11ea_a8bb_a46fff3d379frow2_col0 {\n",
       "            background-color:  #bc141a;\n",
       "            color:  #f1f1f1;\n",
       "        }    #T_068b2b14_62e2_11ea_a8bb_a46fff3d379frow3_col0 {\n",
       "            background-color:  #67000d;\n",
       "            color:  #f1f1f1;\n",
       "        }    #T_068b2b14_62e2_11ea_a8bb_a46fff3d379frow4_col0 {\n",
       "            background-color:  #fcb398;\n",
       "            color:  #000000;\n",
       "        }    #T_068b2b14_62e2_11ea_a8bb_a46fff3d379frow5_col0 {\n",
       "            background-color:  #fdcdb9;\n",
       "            color:  #000000;\n",
       "        }    #T_068b2b14_62e2_11ea_a8bb_a46fff3d379frow6_col0 {\n",
       "            background-color:  #fb7757;\n",
       "            color:  #000000;\n",
       "        }    #T_068b2b14_62e2_11ea_a8bb_a46fff3d379frow7_col0 {\n",
       "            background-color:  #fff5f0;\n",
       "            color:  #000000;\n",
       "        }    #T_068b2b14_62e2_11ea_a8bb_a46fff3d379frow8_col0 {\n",
       "            background-color:  #fff5f0;\n",
       "            color:  #000000;\n",
       "        }</style><table id=\"T_068b2b14_62e2_11ea_a8bb_a46fff3d379f\" ><thead>    <tr>        <th class=\"blank level0\" ></th>        <th class=\"col_heading level0 col0\" >Survived</th>    </tr>    <tr>        <th class=\"index_name level0\" >FamilySize</th>        <th class=\"blank\" ></th>    </tr></thead><tbody>\n",
       "                <tr>\n",
       "                        <th id=\"T_068b2b14_62e2_11ea_a8bb_a46fff3d379flevel0_row0\" class=\"row_heading level0 row0\" >1</th>\n",
       "                        <td id=\"T_068b2b14_62e2_11ea_a8bb_a46fff3d379frow0_col0\" class=\"data row0 col0\" >0.303538</td>\n",
       "            </tr>\n",
       "            <tr>\n",
       "                        <th id=\"T_068b2b14_62e2_11ea_a8bb_a46fff3d379flevel0_row1\" class=\"row_heading level0 row1\" >2</th>\n",
       "                        <td id=\"T_068b2b14_62e2_11ea_a8bb_a46fff3d379frow1_col0\" class=\"data row1 col0\" >0.552795</td>\n",
       "            </tr>\n",
       "            <tr>\n",
       "                        <th id=\"T_068b2b14_62e2_11ea_a8bb_a46fff3d379flevel0_row2\" class=\"row_heading level0 row2\" >3</th>\n",
       "                        <td id=\"T_068b2b14_62e2_11ea_a8bb_a46fff3d379frow2_col0\" class=\"data row2 col0\" >0.578431</td>\n",
       "            </tr>\n",
       "            <tr>\n",
       "                        <th id=\"T_068b2b14_62e2_11ea_a8bb_a46fff3d379flevel0_row3\" class=\"row_heading level0 row3\" >4</th>\n",
       "                        <td id=\"T_068b2b14_62e2_11ea_a8bb_a46fff3d379frow3_col0\" class=\"data row3 col0\" >0.724138</td>\n",
       "            </tr>\n",
       "            <tr>\n",
       "                        <th id=\"T_068b2b14_62e2_11ea_a8bb_a46fff3d379flevel0_row4\" class=\"row_heading level0 row4\" >5</th>\n",
       "                        <td id=\"T_068b2b14_62e2_11ea_a8bb_a46fff3d379frow4_col0\" class=\"data row4 col0\" >0.2</td>\n",
       "            </tr>\n",
       "            <tr>\n",
       "                        <th id=\"T_068b2b14_62e2_11ea_a8bb_a46fff3d379flevel0_row5\" class=\"row_heading level0 row5\" >6</th>\n",
       "                        <td id=\"T_068b2b14_62e2_11ea_a8bb_a46fff3d379frow5_col0\" class=\"data row5 col0\" >0.136364</td>\n",
       "            </tr>\n",
       "            <tr>\n",
       "                        <th id=\"T_068b2b14_62e2_11ea_a8bb_a46fff3d379flevel0_row6\" class=\"row_heading level0 row6\" >7</th>\n",
       "                        <td id=\"T_068b2b14_62e2_11ea_a8bb_a46fff3d379frow6_col0\" class=\"data row6 col0\" >0.333333</td>\n",
       "            </tr>\n",
       "            <tr>\n",
       "                        <th id=\"T_068b2b14_62e2_11ea_a8bb_a46fff3d379flevel0_row7\" class=\"row_heading level0 row7\" >8</th>\n",
       "                        <td id=\"T_068b2b14_62e2_11ea_a8bb_a46fff3d379frow7_col0\" class=\"data row7 col0\" >0</td>\n",
       "            </tr>\n",
       "            <tr>\n",
       "                        <th id=\"T_068b2b14_62e2_11ea_a8bb_a46fff3d379flevel0_row8\" class=\"row_heading level0 row8\" >11</th>\n",
       "                        <td id=\"T_068b2b14_62e2_11ea_a8bb_a46fff3d379frow8_col0\" class=\"data row8 col0\" >0</td>\n",
       "            </tr>\n",
       "    </tbody></table>"
      ],
      "text/plain": [
       "<pandas.io.formats.style.Styler at 0x1f207020208>"
      ]
     },
     "execution_count": 12,
     "metadata": {},
     "output_type": "execute_result"
    }
   ],
   "source": [
    "train_df[['FamilySize','Survived']].groupby('FamilySize',as_index=True).mean().sort_values('FamilySize',ascending=True).style.background_gradient(cmap='Reds')"
   ]
  },
  {
   "cell_type": "code",
   "execution_count": 13,
   "metadata": {},
   "outputs": [
    {
     "data": {
      "text/html": [
       "<style  type=\"text/css\" >\n",
       "    #T_068ed078_62e2_11ea_bf88_a46fff3d379frow0_col0 {\n",
       "            background-color:  #fff5f0;\n",
       "            color:  #000000;\n",
       "        }    #T_068ed078_62e2_11ea_bf88_a46fff3d379frow1_col0 {\n",
       "            background-color:  #fcbba1;\n",
       "            color:  #000000;\n",
       "        }    #T_068ed078_62e2_11ea_bf88_a46fff3d379frow2_col0 {\n",
       "            background-color:  #d52221;\n",
       "            color:  #f1f1f1;\n",
       "        }    #T_068ed078_62e2_11ea_bf88_a46fff3d379frow3_col0 {\n",
       "            background-color:  #67000d;\n",
       "            color:  #f1f1f1;\n",
       "        }</style><table id=\"T_068ed078_62e2_11ea_bf88_a46fff3d379f\" ><thead>    <tr>        <th class=\"blank level0\" ></th>        <th class=\"col_heading level0 col0\" >Survived</th>    </tr>    <tr>        <th class=\"index_name level0\" >FamilySize</th>        <th class=\"blank\" ></th>    </tr></thead><tbody>\n",
       "                <tr>\n",
       "                        <th id=\"T_068ed078_62e2_11ea_bf88_a46fff3d379flevel0_row0\" class=\"row_heading level0 row0\" >large</th>\n",
       "                        <td id=\"T_068ed078_62e2_11ea_bf88_a46fff3d379frow0_col0\" class=\"data row0 col0\" >0.16129</td>\n",
       "            </tr>\n",
       "            <tr>\n",
       "                        <th id=\"T_068ed078_62e2_11ea_bf88_a46fff3d379flevel0_row1\" class=\"row_heading level0 row1\" >alone</th>\n",
       "                        <td id=\"T_068ed078_62e2_11ea_bf88_a46fff3d379frow1_col0\" class=\"data row1 col0\" >0.303538</td>\n",
       "            </tr>\n",
       "            <tr>\n",
       "                        <th id=\"T_068ed078_62e2_11ea_bf88_a46fff3d379flevel0_row2\" class=\"row_heading level0 row2\" >small</th>\n",
       "                        <td id=\"T_068ed078_62e2_11ea_bf88_a46fff3d379frow2_col0\" class=\"data row2 col0\" >0.562738</td>\n",
       "            </tr>\n",
       "            <tr>\n",
       "                        <th id=\"T_068ed078_62e2_11ea_bf88_a46fff3d379flevel0_row3\" class=\"row_heading level0 row3\" >medium</th>\n",
       "                        <td id=\"T_068ed078_62e2_11ea_bf88_a46fff3d379frow3_col0\" class=\"data row3 col0\" >0.724138</td>\n",
       "            </tr>\n",
       "    </tbody></table>"
      ],
      "text/plain": [
       "<pandas.io.formats.style.Styler at 0x1f206fec9c8>"
      ]
     },
     "execution_count": 13,
     "metadata": {},
     "output_type": "execute_result"
    }
   ],
   "source": [
    "title_mapping = {1: \"alone\",2: \"small\" ,3:\"small\",4: \"medium\",5: \"large\",6:\"large\",7:\"large\",8:\"large\",9:\"large\",10:\"large\",11: \"large\"}\n",
    "#title_mapping = {1: \"alone\",2: \"family\" ,3:\"family\",4: \"family\",5: \"family\",6:\"family\",7:\"family\",8:\"family\",9:\"family\",10:\"family\",11: \"family\"}\n",
    "\n",
    "for df in combo:\n",
    "    df['FamilySize'] = df['FamilySize'].map(title_mapping)   \n",
    "train_df[['FamilySize','Survived']].groupby('FamilySize',as_index=True).mean().sort_values('Survived',ascending=True).style.background_gradient(cmap='Reds')"
   ]
  },
  {
   "cell_type": "markdown",
   "metadata": {},
   "source": [
    "## Fare"
   ]
  },
  {
   "cell_type": "code",
   "execution_count": 14,
   "metadata": {
    "ExecuteTime": {
     "end_time": "2020-03-04T12:22:11.096120Z",
     "start_time": "2020-03-04T12:22:11.083109Z"
    },
    "scrolled": true
   },
   "outputs": [
    {
     "data": {
      "text/html": [
       "<div>\n",
       "<style scoped>\n",
       "    .dataframe tbody tr th:only-of-type {\n",
       "        vertical-align: middle;\n",
       "    }\n",
       "\n",
       "    .dataframe tbody tr th {\n",
       "        vertical-align: top;\n",
       "    }\n",
       "\n",
       "    .dataframe thead th {\n",
       "        text-align: right;\n",
       "    }\n",
       "</style>\n",
       "<table border=\"1\" class=\"dataframe\">\n",
       "  <thead>\n",
       "    <tr style=\"text-align: right;\">\n",
       "      <th></th>\n",
       "      <th>PassengerId</th>\n",
       "      <th>Pclass</th>\n",
       "      <th>Name</th>\n",
       "      <th>Sex</th>\n",
       "      <th>Age</th>\n",
       "      <th>SibSp</th>\n",
       "      <th>Parch</th>\n",
       "      <th>Ticket</th>\n",
       "      <th>Fare</th>\n",
       "      <th>Cabin</th>\n",
       "      <th>Embarked</th>\n",
       "      <th>Title</th>\n",
       "      <th>Surname</th>\n",
       "      <th>FamilySize</th>\n",
       "    </tr>\n",
       "  </thead>\n",
       "  <tbody>\n",
       "    <tr>\n",
       "      <th>152</th>\n",
       "      <td>1044</td>\n",
       "      <td>3</td>\n",
       "      <td>Storey, Mr. Thomas</td>\n",
       "      <td>male</td>\n",
       "      <td>60.5</td>\n",
       "      <td>0</td>\n",
       "      <td>0</td>\n",
       "      <td>3701</td>\n",
       "      <td>NaN</td>\n",
       "      <td>NaN</td>\n",
       "      <td>S</td>\n",
       "      <td>Mr</td>\n",
       "      <td>Storey</td>\n",
       "      <td>alone</td>\n",
       "    </tr>\n",
       "  </tbody>\n",
       "</table>\n",
       "</div>"
      ],
      "text/plain": [
       "     PassengerId  Pclass                Name   Sex   Age  SibSp  Parch Ticket  \\\n",
       "152         1044       3  Storey, Mr. Thomas  male  60.5      0      0   3701   \n",
       "\n",
       "     Fare Cabin Embarked Title Surname FamilySize  \n",
       "152   NaN   NaN        S    Mr  Storey      alone  "
      ]
     },
     "execution_count": 14,
     "metadata": {},
     "output_type": "execute_result"
    }
   ],
   "source": [
    "test_df.loc[test_df.Fare.isna()]"
   ]
  },
  {
   "cell_type": "code",
   "execution_count": 15,
   "metadata": {
    "ExecuteTime": {
     "end_time": "2020-03-04T12:22:11.106050Z",
     "start_time": "2020-03-04T12:22:11.097073Z"
    }
   },
   "outputs": [
    {
     "data": {
      "text/plain": [
       "8.05"
      ]
     },
     "execution_count": 15,
     "metadata": {},
     "output_type": "execute_result"
    }
   ],
   "source": [
    "median_train=train_df.loc[(train_df.Pclass==3)&\n",
    "             (train_df.Sex=='male')&\n",
    "             (train_df.Embarked=='S')]['Fare'].median()\n",
    "median_train"
   ]
  },
  {
   "cell_type": "code",
   "execution_count": 16,
   "metadata": {
    "ExecuteTime": {
     "end_time": "2020-03-04T12:22:11.113029Z",
     "start_time": "2020-03-04T12:22:11.107047Z"
    }
   },
   "outputs": [],
   "source": [
    "# replace missing value by median considering known information\n",
    "test_df.loc[test_df.Fare.isna(),'Fare']=median_train"
   ]
  },
  {
   "cell_type": "code",
   "execution_count": 17,
   "metadata": {
    "ExecuteTime": {
     "end_time": "2020-03-04T12:22:15.523941Z",
     "start_time": "2020-03-04T12:22:15.518909Z"
    }
   },
   "outputs": [
    {
     "data": {
      "text/plain": [
       "0.0"
      ]
     },
     "execution_count": 17,
     "metadata": {},
     "output_type": "execute_result"
    }
   ],
   "source": [
    "#check for more missing value\n",
    "test_df.loc[test_df.Fare.isna()]['Fare'].sum()"
   ]
  },
  {
   "cell_type": "code",
   "execution_count": 18,
   "metadata": {
    "scrolled": true
   },
   "outputs": [],
   "source": [
    "#convert float to int\n",
    "for df in combo:\n",
    "    df['Fare'] = df['Fare'].astype(int)"
   ]
  },
  {
   "cell_type": "markdown",
   "metadata": {},
   "source": [
    "## PClass"
   ]
  },
  {
   "cell_type": "code",
   "execution_count": 19,
   "metadata": {
    "scrolled": true
   },
   "outputs": [
    {
     "data": {
      "text/html": [
       "<style  type=\"text/css\" >\n",
       "    #T_0699c578_62e2_11ea_bc66_a46fff3d379frow0_col0 {\n",
       "            background-color:  #fff5f0;\n",
       "            color:  #000000;\n",
       "        }    #T_0699c578_62e2_11ea_bc66_a46fff3d379frow1_col0 {\n",
       "            background-color:  #f24633;\n",
       "            color:  #000000;\n",
       "        }    #T_0699c578_62e2_11ea_bc66_a46fff3d379frow2_col0 {\n",
       "            background-color:  #67000d;\n",
       "            color:  #f1f1f1;\n",
       "        }</style><table id=\"T_0699c578_62e2_11ea_bc66_a46fff3d379f\" ><thead>    <tr>        <th class=\"blank level0\" ></th>        <th class=\"col_heading level0 col0\" >Survived</th>    </tr>    <tr>        <th class=\"index_name level0\" >Pclass</th>        <th class=\"blank\" ></th>    </tr></thead><tbody>\n",
       "                <tr>\n",
       "                        <th id=\"T_0699c578_62e2_11ea_bc66_a46fff3d379flevel0_row0\" class=\"row_heading level0 row0\" >3</th>\n",
       "                        <td id=\"T_0699c578_62e2_11ea_bc66_a46fff3d379frow0_col0\" class=\"data row0 col0\" >0.242363</td>\n",
       "            </tr>\n",
       "            <tr>\n",
       "                        <th id=\"T_0699c578_62e2_11ea_bc66_a46fff3d379flevel0_row1\" class=\"row_heading level0 row1\" >2</th>\n",
       "                        <td id=\"T_0699c578_62e2_11ea_bc66_a46fff3d379frow1_col0\" class=\"data row1 col0\" >0.472826</td>\n",
       "            </tr>\n",
       "            <tr>\n",
       "                        <th id=\"T_0699c578_62e2_11ea_bc66_a46fff3d379flevel0_row2\" class=\"row_heading level0 row2\" >1</th>\n",
       "                        <td id=\"T_0699c578_62e2_11ea_bc66_a46fff3d379frow2_col0\" class=\"data row2 col0\" >0.62963</td>\n",
       "            </tr>\n",
       "    </tbody></table>"
      ],
      "text/plain": [
       "<pandas.io.formats.style.Styler at 0x1f207090d08>"
      ]
     },
     "execution_count": 19,
     "metadata": {},
     "output_type": "execute_result"
    }
   ],
   "source": [
    "for df in combo:\n",
    "    df['Pclass'] = df['Pclass'].astype(str)\n",
    "    \n",
    "train_df[['Pclass','Survived']].groupby('Pclass',as_index=True).mean().sort_values('Survived',ascending=True).style.background_gradient(cmap='Reds')"
   ]
  },
  {
   "cell_type": "markdown",
   "metadata": {},
   "source": [
    "## Embarked"
   ]
  },
  {
   "cell_type": "markdown",
   "metadata": {},
   "source": [
    "### Missing Value"
   ]
  },
  {
   "cell_type": "code",
   "execution_count": 20,
   "metadata": {
    "ExecuteTime": {
     "end_time": "2020-03-04T12:22:21.932761Z",
     "start_time": "2020-03-04T12:22:21.915283Z"
    },
    "scrolled": true
   },
   "outputs": [
    {
     "data": {
      "text/html": [
       "<div>\n",
       "<style scoped>\n",
       "    .dataframe tbody tr th:only-of-type {\n",
       "        vertical-align: middle;\n",
       "    }\n",
       "\n",
       "    .dataframe tbody tr th {\n",
       "        vertical-align: top;\n",
       "    }\n",
       "\n",
       "    .dataframe thead th {\n",
       "        text-align: right;\n",
       "    }\n",
       "</style>\n",
       "<table border=\"1\" class=\"dataframe\">\n",
       "  <thead>\n",
       "    <tr style=\"text-align: right;\">\n",
       "      <th></th>\n",
       "      <th>PassengerId</th>\n",
       "      <th>Pclass</th>\n",
       "      <th>Name</th>\n",
       "      <th>Sex</th>\n",
       "      <th>Age</th>\n",
       "      <th>SibSp</th>\n",
       "      <th>Parch</th>\n",
       "      <th>Ticket</th>\n",
       "      <th>Fare</th>\n",
       "      <th>Cabin</th>\n",
       "      <th>Embarked</th>\n",
       "      <th>Title</th>\n",
       "      <th>Surname</th>\n",
       "      <th>FamilySize</th>\n",
       "    </tr>\n",
       "  </thead>\n",
       "  <tbody>\n",
       "  </tbody>\n",
       "</table>\n",
       "</div>"
      ],
      "text/plain": [
       "Empty DataFrame\n",
       "Columns: [PassengerId, Pclass, Name, Sex, Age, SibSp, Parch, Ticket, Fare, Cabin, Embarked, Title, Surname, FamilySize]\n",
       "Index: []"
      ]
     },
     "execution_count": 20,
     "metadata": {},
     "output_type": "execute_result"
    }
   ],
   "source": [
    "train_df.loc[train_df.Embarked.isna()]\n",
    "test_df.loc[test_df.Embarked.isna()]"
   ]
  },
  {
   "cell_type": "markdown",
   "metadata": {},
   "source": [
    "**Comment:**\n",
    " - The First class Ladies share a cabin and a Tiket but are not from the same family, probably friends allthough they have a significant age difference\n",
    " - Let's check the Fare statistic"
   ]
  },
  {
   "cell_type": "code",
   "execution_count": 21,
   "metadata": {
    "ExecuteTime": {
     "end_time": "2020-03-04T12:22:23.493198Z",
     "start_time": "2020-03-04T12:22:23.442133Z"
    },
    "scrolled": true
   },
   "outputs": [
    {
     "data": {
      "text/html": [
       "<div>\n",
       "<style scoped>\n",
       "    .dataframe tbody tr th:only-of-type {\n",
       "        vertical-align: middle;\n",
       "    }\n",
       "\n",
       "    .dataframe tbody tr th {\n",
       "        vertical-align: top;\n",
       "    }\n",
       "\n",
       "    .dataframe thead tr th {\n",
       "        text-align: left;\n",
       "    }\n",
       "\n",
       "    .dataframe thead tr:last-of-type th {\n",
       "        text-align: right;\n",
       "    }\n",
       "</style>\n",
       "<table border=\"1\" class=\"dataframe\">\n",
       "  <thead>\n",
       "    <tr>\n",
       "      <th></th>\n",
       "      <th></th>\n",
       "      <th colspan=\"8\" halign=\"left\">Fare</th>\n",
       "    </tr>\n",
       "    <tr>\n",
       "      <th></th>\n",
       "      <th></th>\n",
       "      <th>count</th>\n",
       "      <th>mean</th>\n",
       "      <th>std</th>\n",
       "      <th>min</th>\n",
       "      <th>25%</th>\n",
       "      <th>50%</th>\n",
       "      <th>75%</th>\n",
       "      <th>max</th>\n",
       "    </tr>\n",
       "    <tr>\n",
       "      <th>Pclass</th>\n",
       "      <th>Embarked</th>\n",
       "      <th></th>\n",
       "      <th></th>\n",
       "      <th></th>\n",
       "      <th></th>\n",
       "      <th></th>\n",
       "      <th></th>\n",
       "      <th></th>\n",
       "      <th></th>\n",
       "    </tr>\n",
       "  </thead>\n",
       "  <tbody>\n",
       "    <tr>\n",
       "      <th rowspan=\"3\" valign=\"top\">1</th>\n",
       "      <th>C</th>\n",
       "      <td>85.0</td>\n",
       "      <td>104.235294</td>\n",
       "      <td>99.124579</td>\n",
       "      <td>26.0</td>\n",
       "      <td>49.0</td>\n",
       "      <td>78.0</td>\n",
       "      <td>110.00</td>\n",
       "      <td>512.0</td>\n",
       "    </tr>\n",
       "    <tr>\n",
       "      <th>Q</th>\n",
       "      <td>2.0</td>\n",
       "      <td>90.000000</td>\n",
       "      <td>0.000000</td>\n",
       "      <td>90.0</td>\n",
       "      <td>90.0</td>\n",
       "      <td>90.0</td>\n",
       "      <td>90.00</td>\n",
       "      <td>90.0</td>\n",
       "    </tr>\n",
       "    <tr>\n",
       "      <th>S</th>\n",
       "      <td>127.0</td>\n",
       "      <td>69.992126</td>\n",
       "      <td>58.802939</td>\n",
       "      <td>0.0</td>\n",
       "      <td>29.0</td>\n",
       "      <td>52.0</td>\n",
       "      <td>83.00</td>\n",
       "      <td>263.0</td>\n",
       "    </tr>\n",
       "    <tr>\n",
       "      <th rowspan=\"3\" valign=\"top\">2</th>\n",
       "      <th>C</th>\n",
       "      <td>17.0</td>\n",
       "      <td>25.000000</td>\n",
       "      <td>11.407235</td>\n",
       "      <td>12.0</td>\n",
       "      <td>13.0</td>\n",
       "      <td>24.0</td>\n",
       "      <td>37.00</td>\n",
       "      <td>41.0</td>\n",
       "    </tr>\n",
       "    <tr>\n",
       "      <th>Q</th>\n",
       "      <td>3.0</td>\n",
       "      <td>12.000000</td>\n",
       "      <td>0.000000</td>\n",
       "      <td>12.0</td>\n",
       "      <td>12.0</td>\n",
       "      <td>12.0</td>\n",
       "      <td>12.00</td>\n",
       "      <td>12.0</td>\n",
       "    </tr>\n",
       "    <tr>\n",
       "      <th>S</th>\n",
       "      <td>164.0</td>\n",
       "      <td>20.140244</td>\n",
       "      <td>13.626430</td>\n",
       "      <td>0.0</td>\n",
       "      <td>13.0</td>\n",
       "      <td>13.0</td>\n",
       "      <td>26.00</td>\n",
       "      <td>73.0</td>\n",
       "    </tr>\n",
       "    <tr>\n",
       "      <th rowspan=\"3\" valign=\"top\">3</th>\n",
       "      <th>C</th>\n",
       "      <td>66.0</td>\n",
       "      <td>10.833333</td>\n",
       "      <td>4.824882</td>\n",
       "      <td>4.0</td>\n",
       "      <td>7.0</td>\n",
       "      <td>7.0</td>\n",
       "      <td>14.00</td>\n",
       "      <td>22.0</td>\n",
       "    </tr>\n",
       "    <tr>\n",
       "      <th>Q</th>\n",
       "      <td>72.0</td>\n",
       "      <td>10.555556</td>\n",
       "      <td>6.927977</td>\n",
       "      <td>6.0</td>\n",
       "      <td>7.0</td>\n",
       "      <td>7.0</td>\n",
       "      <td>9.75</td>\n",
       "      <td>29.0</td>\n",
       "    </tr>\n",
       "    <tr>\n",
       "      <th>S</th>\n",
       "      <td>353.0</td>\n",
       "      <td>14.144476</td>\n",
       "      <td>13.266031</td>\n",
       "      <td>0.0</td>\n",
       "      <td>7.0</td>\n",
       "      <td>8.0</td>\n",
       "      <td>16.00</td>\n",
       "      <td>69.0</td>\n",
       "    </tr>\n",
       "  </tbody>\n",
       "</table>\n",
       "</div>"
      ],
      "text/plain": [
       "                  Fare                                                        \n",
       "                 count        mean        std   min   25%   50%     75%    max\n",
       "Pclass Embarked                                                               \n",
       "1      C          85.0  104.235294  99.124579  26.0  49.0  78.0  110.00  512.0\n",
       "       Q           2.0   90.000000   0.000000  90.0  90.0  90.0   90.00   90.0\n",
       "       S         127.0   69.992126  58.802939   0.0  29.0  52.0   83.00  263.0\n",
       "2      C          17.0   25.000000  11.407235  12.0  13.0  24.0   37.00   41.0\n",
       "       Q           3.0   12.000000   0.000000  12.0  12.0  12.0   12.00   12.0\n",
       "       S         164.0   20.140244  13.626430   0.0  13.0  13.0   26.00   73.0\n",
       "3      C          66.0   10.833333   4.824882   4.0   7.0   7.0   14.00   22.0\n",
       "       Q          72.0   10.555556   6.927977   6.0   7.0   7.0    9.75   29.0\n",
       "       S         353.0   14.144476  13.266031   0.0   7.0   8.0   16.00   69.0"
      ]
     },
     "execution_count": 21,
     "metadata": {},
     "output_type": "execute_result"
    }
   ],
   "source": [
    "train_df[['Pclass','Fare','Embarked']].dropna().groupby(['Pclass','Embarked'],as_index=True).describe()"
   ]
  },
  {
   "cell_type": "code",
   "execution_count": 22,
   "metadata": {
    "ExecuteTime": {
     "end_time": "2020-03-04T12:22:27.440322Z",
     "start_time": "2020-03-04T12:22:27.140458Z"
    }
   },
   "outputs": [
    {
     "data": {
      "text/plain": [
       "<matplotlib.lines.Line2D at 0x1f2070a3fc8>"
      ]
     },
     "execution_count": 22,
     "metadata": {},
     "output_type": "execute_result"
    },
    {
     "data": {
      "image/png": "[encoded data removed]",
      "text/plain": [
       "<Figure size 864x432 with 1 Axes>"
      ]
     },
     "metadata": {
      "needs_background": "light"
     },
     "output_type": "display_data"
    }
   ],
   "source": [
    "Fare_price=train_df.loc[train_df.PassengerId==62,'Fare'].values[0]\n",
    "ax=train_df[['Pclass','Fare','Embarked']].dropna().boxplot(column='Fare',by=['Embarked','Pclass'],figsize=(12,6))\n",
    "ax.axhline(y=Fare_price, color=\"red\",linewidth=2,linestyle='dotted')"
   ]
  },
  {
   "cell_type": "markdown",
   "metadata": {},
   "source": [
    "They would likly have Embarked in **Cherbourg** since:\n",
    "- the median of C is about **80**, And have a significant 1st class embarkation\n",
    "- Q have only embarked two 1st class its median is  90\n",
    "- S 1st Class median is arround 50"
   ]
  },
  {
   "cell_type": "code",
   "execution_count": 23,
   "metadata": {
    "ExecuteTime": {
     "end_time": "2020-03-04T12:22:31.768936Z",
     "start_time": "2020-03-04T12:22:31.763833Z"
    }
   },
   "outputs": [],
   "source": [
    "#fill missing \n",
    "train_df.loc[train_df.Embarked.isna(),'Embarked']='C'"
   ]
  },
  {
   "cell_type": "code",
   "execution_count": 24,
   "metadata": {
    "ExecuteTime": {
     "end_time": "2020-03-04T12:22:32.053960Z",
     "start_time": "2020-03-04T12:22:32.046007Z"
    }
   },
   "outputs": [
    {
     "data": {
      "text/html": [
       "<div>\n",
       "<style scoped>\n",
       "    .dataframe tbody tr th:only-of-type {\n",
       "        vertical-align: middle;\n",
       "    }\n",
       "\n",
       "    .dataframe tbody tr th {\n",
       "        vertical-align: top;\n",
       "    }\n",
       "\n",
       "    .dataframe thead th {\n",
       "        text-align: right;\n",
       "    }\n",
       "</style>\n",
       "<table border=\"1\" class=\"dataframe\">\n",
       "  <thead>\n",
       "    <tr style=\"text-align: right;\">\n",
       "      <th></th>\n",
       "      <th>PassengerId</th>\n",
       "      <th>Survived</th>\n",
       "      <th>Pclass</th>\n",
       "      <th>Name</th>\n",
       "      <th>Sex</th>\n",
       "      <th>Age</th>\n",
       "      <th>SibSp</th>\n",
       "      <th>Parch</th>\n",
       "      <th>Ticket</th>\n",
       "      <th>Fare</th>\n",
       "      <th>Cabin</th>\n",
       "      <th>Embarked</th>\n",
       "      <th>Surname</th>\n",
       "      <th>Title</th>\n",
       "      <th>FamilySize</th>\n",
       "    </tr>\n",
       "  </thead>\n",
       "  <tbody>\n",
       "  </tbody>\n",
       "</table>\n",
       "</div>"
      ],
      "text/plain": [
       "Empty DataFrame\n",
       "Columns: [PassengerId, Survived, Pclass, Name, Sex, Age, SibSp, Parch, Ticket, Fare, Cabin, Embarked, Surname, Title, FamilySize]\n",
       "Index: []"
      ]
     },
     "execution_count": 24,
     "metadata": {},
     "output_type": "execute_result"
    }
   ],
   "source": [
    "#check\n",
    "train_df.loc[train_df.Embarked.isna()]"
   ]
  },
  {
   "cell_type": "markdown",
   "metadata": {},
   "source": [
    "## Age"
   ]
  },
  {
   "cell_type": "markdown",
   "metadata": {},
   "source": [
    "### Age with distribution"
   ]
  },
  {
   "cell_type": "code",
   "execution_count": 25,
   "metadata": {},
   "outputs": [],
   "source": [
    "for df in combo:\n",
    "    # get average, std, and number of NaN values in train_df\n",
    "    average_age_df   = df[\"Age\"].mean()\n",
    "    std_age_df       = df[\"Age\"].std()\n",
    "    count_nan_age_df = df[\"Age\"].isnull().sum()\n",
    "\n",
    "    # generate random numbers between (mean - std) & (mean + std)\n",
    "    rand = np.random.randint(average_age_df - std_age_df, average_age_df + std_age_df, size = count_nan_age_df)\n",
    "\n",
    "    # fill NaN values in Age column with random values generated\n",
    "    df.loc[df.Age.isnull(),'Age'] = rand\n",
    "\n",
    "    # convert from float to int\n",
    "    df['Age'] = df['Age'].astype(int)\n"
   ]
  },
  {
   "cell_type": "code",
   "execution_count": 26,
   "metadata": {
    "code_folding": []
   },
   "outputs": [
    {
     "data": {
      "image/png": "[encoded data removed]",
      "text/plain": [
       "<Figure size 864x720 with 2 Axes>"
      ]
     },
     "metadata": {
      "needs_background": "light"
     },
     "output_type": "display_data"
    }
   ],
   "source": [
    "#plot old vs new overlap grid 2,1\n",
    "if True:\n",
    "    fig, axs = plt.subplots(2, 1,figsize=(12,10))\n",
    "    axs[0].set_title('\\n Age - Train \\n')\n",
    "    axs[1].set_title('\\n Age - Test \\n')\n",
    "\n",
    "\n",
    "    # plot Old Age Values\n",
    "    train_df['Age'].dropna().astype(int).hist(bins=70,width=1, ax=axs[0],label=\"old\")\n",
    "    test_df['Age'].dropna().astype(int).hist(bins=70,width=1, ax=axs[1],label=\"old\")\n",
    "\n",
    "    # plot new Age Values\n",
    "    train_df['Age'].hist(bins=70,width=0.5, ax=axs[0],label=\"new\")\n",
    "    test_df['Age'].hist(bins=70,width=0.5, ax=axs[1],label=\"new\")\n",
    "    axs[1].legend()\n",
    "    axs[0].legend()"
   ]
  },
  {
   "cell_type": "code",
   "execution_count": 27,
   "metadata": {
    "code_folding": []
   },
   "outputs": [],
   "source": [
    "#plot old vs new grid 2x2\n",
    "if False:\n",
    "    fig, axs = plt.subplots(2, 2,figsize=(15,8))\n",
    "    axs[0, 0].set_title(' Age - Train')\n",
    "    axs[0, 1].set_title('New Age values - Train')\n",
    "    axs[1, 0].set_title(' Age - Test')\n",
    "    axs[1, 1].set_title('New Age values - Test')\n",
    "\n",
    "    # plot Old Age Values\n",
    "    train_df['Age'].dropna().astype(int).hist(bins=50, ax=axs[0, 0])\n",
    "    test_df['Age'].dropna().astype(int).hist(bins=50, ax=axs[1, 0])\n",
    "\n",
    "    # plot new Age Values\n",
    "    train_df['Age'].hist(bins=50, ax=axs[0, 1])\n",
    "    test_df['Age'].hist(bins=50, ax=axs[1, 1])\n",
    "    #train_df['Age'].hist(bins=50, ax=axs[0, 0])\n",
    "    #test_df['Age'].hist(bins=50, ax=axs[1, 0])"
   ]
  },
  {
   "cell_type": "code",
   "execution_count": 28,
   "metadata": {
    "scrolled": true
   },
   "outputs": [
    {
     "data": {
      "text/plain": [
       "<matplotlib.axes._subplots.AxesSubplot at 0x1f207952688>"
      ]
     },
     "execution_count": 28,
     "metadata": {},
     "output_type": "execute_result"
    },
    {
     "data": {
      "image/png": "[encoded data removed]",
      "text/plain": [
       "<Figure size 432x288 with 1 Axes>"
      ]
     },
     "metadata": {
      "needs_background": "light"
     },
     "output_type": "display_data"
    }
   ],
   "source": [
    "#check if anymore missing values\n",
    "sns.heatmap(test_df.isnull(), cbar=False)"
   ]
  },
  {
   "cell_type": "markdown",
   "metadata": {},
   "source": [
    "## New Ideas"
   ]
  },
  {
   "cell_type": "markdown",
   "metadata": {},
   "source": [
    "### Child"
   ]
  },
  {
   "cell_type": "code",
   "execution_count": 29,
   "metadata": {
    "ExecuteTime": {
     "end_time": "2020-03-04T11:47:36.225563Z",
     "start_time": "2020-03-04T11:47:36.212562Z"
    }
   },
   "outputs": [],
   "source": [
    "Age_adulthood=16\n",
    "for df in combo:\n",
    "    df['isChild'] = 'yes'\n",
    "    df.loc[df['Age']>=Age_adulthood,'isChild']='no'"
   ]
  },
  {
   "cell_type": "code",
   "execution_count": 30,
   "metadata": {
    "ExecuteTime": {
     "end_time": "2020-03-04T11:47:36.240487Z",
     "start_time": "2020-03-04T11:47:36.226527Z"
    },
    "scrolled": true
   },
   "outputs": [
    {
     "data": {
      "text/html": [
       "<style  type=\"text/css\" >\n",
       "    #T_07999f46_62e2_11ea_9d3e_a46fff3d379frow0_col0 {\n",
       "            background-color:  #67000d;\n",
       "            color:  #f1f1f1;\n",
       "        }    #T_07999f46_62e2_11ea_9d3e_a46fff3d379frow1_col0 {\n",
       "            background-color:  #fff5f0;\n",
       "            color:  #000000;\n",
       "        }</style><table id=\"T_07999f46_62e2_11ea_9d3e_a46fff3d379f\" ><thead>    <tr>        <th class=\"blank level0\" ></th>        <th class=\"col_heading level0 col0\" >Survived</th>    </tr>    <tr>        <th class=\"index_name level0\" >isChild</th>        <th class=\"blank\" ></th>    </tr></thead><tbody>\n",
       "                <tr>\n",
       "                        <th id=\"T_07999f46_62e2_11ea_9d3e_a46fff3d379flevel0_row0\" class=\"row_heading level0 row0\" >yes</th>\n",
       "                        <td id=\"T_07999f46_62e2_11ea_9d3e_a46fff3d379frow0_col0\" class=\"data row0 col0\" >0.561798</td>\n",
       "            </tr>\n",
       "            <tr>\n",
       "                        <th id=\"T_07999f46_62e2_11ea_9d3e_a46fff3d379flevel0_row1\" class=\"row_heading level0 row1\" >no</th>\n",
       "                        <td id=\"T_07999f46_62e2_11ea_9d3e_a46fff3d379frow1_col0\" class=\"data row1 col0\" >0.36409</td>\n",
       "            </tr>\n",
       "    </tbody></table>"
      ],
      "text/plain": [
       "<pandas.io.formats.style.Styler at 0x1f2070faf48>"
      ]
     },
     "execution_count": 30,
     "metadata": {},
     "output_type": "execute_result"
    }
   ],
   "source": [
    "train_df[['isChild', 'Survived']].groupby(['isChild'], as_index=True).mean().sort_values(by='Survived',ascending=False).style.background_gradient(cmap='Reds')"
   ]
  },
  {
   "cell_type": "markdown",
   "metadata": {},
   "source": [
    "### Motherhood"
   ]
  },
  {
   "cell_type": "code",
   "execution_count": 31,
   "metadata": {
    "ExecuteTime": {
     "end_time": "2020-03-04T12:22:36.648878Z",
     "start_time": "2020-03-04T12:22:36.634920Z"
    },
    "scrolled": true
   },
   "outputs": [
    {
     "data": {
      "text/html": [
       "<div>\n",
       "<style scoped>\n",
       "    .dataframe tbody tr th:only-of-type {\n",
       "        vertical-align: middle;\n",
       "    }\n",
       "\n",
       "    .dataframe tbody tr th {\n",
       "        vertical-align: top;\n",
       "    }\n",
       "\n",
       "    .dataframe thead th {\n",
       "        text-align: right;\n",
       "    }\n",
       "</style>\n",
       "<table border=\"1\" class=\"dataframe\">\n",
       "  <thead>\n",
       "    <tr style=\"text-align: right;\">\n",
       "      <th></th>\n",
       "      <th>PassengerId</th>\n",
       "      <th>Survived</th>\n",
       "      <th>Pclass</th>\n",
       "      <th>Name</th>\n",
       "      <th>Sex</th>\n",
       "      <th>Age</th>\n",
       "      <th>SibSp</th>\n",
       "      <th>Parch</th>\n",
       "      <th>Ticket</th>\n",
       "      <th>Fare</th>\n",
       "      <th>Cabin</th>\n",
       "      <th>Embarked</th>\n",
       "      <th>Surname</th>\n",
       "      <th>Title</th>\n",
       "      <th>FamilySize</th>\n",
       "      <th>isChild</th>\n",
       "    </tr>\n",
       "  </thead>\n",
       "  <tbody>\n",
       "    <tr>\n",
       "      <th>13</th>\n",
       "      <td>14</td>\n",
       "      <td>0</td>\n",
       "      <td>3</td>\n",
       "      <td>Andersson, Mr. Anders Johan</td>\n",
       "      <td>male</td>\n",
       "      <td>39</td>\n",
       "      <td>1</td>\n",
       "      <td>5</td>\n",
       "      <td>347082</td>\n",
       "      <td>31</td>\n",
       "      <td>NaN</td>\n",
       "      <td>S</td>\n",
       "      <td>Andersson</td>\n",
       "      <td>Mr</td>\n",
       "      <td>large</td>\n",
       "      <td>no</td>\n",
       "    </tr>\n",
       "    <tr>\n",
       "      <th>27</th>\n",
       "      <td>28</td>\n",
       "      <td>0</td>\n",
       "      <td>1</td>\n",
       "      <td>Fortune, Mr. Charles Alexander</td>\n",
       "      <td>male</td>\n",
       "      <td>19</td>\n",
       "      <td>3</td>\n",
       "      <td>2</td>\n",
       "      <td>19950</td>\n",
       "      <td>263</td>\n",
       "      <td>C23 C25 C27</td>\n",
       "      <td>S</td>\n",
       "      <td>Fortune</td>\n",
       "      <td>Mr</td>\n",
       "      <td>large</td>\n",
       "      <td>no</td>\n",
       "    </tr>\n",
       "    <tr>\n",
       "      <th>54</th>\n",
       "      <td>55</td>\n",
       "      <td>0</td>\n",
       "      <td>1</td>\n",
       "      <td>Ostby, Mr. Engelhart Cornelius</td>\n",
       "      <td>male</td>\n",
       "      <td>65</td>\n",
       "      <td>0</td>\n",
       "      <td>1</td>\n",
       "      <td>113509</td>\n",
       "      <td>61</td>\n",
       "      <td>B30</td>\n",
       "      <td>C</td>\n",
       "      <td>Ostby</td>\n",
       "      <td>Mr</td>\n",
       "      <td>small</td>\n",
       "      <td>no</td>\n",
       "    </tr>\n",
       "    <tr>\n",
       "      <th>86</th>\n",
       "      <td>87</td>\n",
       "      <td>0</td>\n",
       "      <td>3</td>\n",
       "      <td>Ford, Mr. William Neal</td>\n",
       "      <td>male</td>\n",
       "      <td>16</td>\n",
       "      <td>1</td>\n",
       "      <td>3</td>\n",
       "      <td>W./C. 6608</td>\n",
       "      <td>34</td>\n",
       "      <td>NaN</td>\n",
       "      <td>S</td>\n",
       "      <td>Ford</td>\n",
       "      <td>Mr</td>\n",
       "      <td>large</td>\n",
       "      <td>no</td>\n",
       "    </tr>\n",
       "    <tr>\n",
       "      <th>93</th>\n",
       "      <td>94</td>\n",
       "      <td>0</td>\n",
       "      <td>3</td>\n",
       "      <td>Dean, Mr. Bertram Frank</td>\n",
       "      <td>male</td>\n",
       "      <td>26</td>\n",
       "      <td>1</td>\n",
       "      <td>2</td>\n",
       "      <td>C.A. 2315</td>\n",
       "      <td>20</td>\n",
       "      <td>NaN</td>\n",
       "      <td>S</td>\n",
       "      <td>Dean</td>\n",
       "      <td>Mr</td>\n",
       "      <td>medium</td>\n",
       "      <td>no</td>\n",
       "    </tr>\n",
       "  </tbody>\n",
       "</table>\n",
       "</div>"
      ],
      "text/plain": [
       "    PassengerId  Survived Pclass                            Name   Sex  Age  \\\n",
       "13           14         0      3     Andersson, Mr. Anders Johan  male   39   \n",
       "27           28         0      1  Fortune, Mr. Charles Alexander  male   19   \n",
       "54           55         0      1  Ostby, Mr. Engelhart Cornelius  male   65   \n",
       "86           87         0      3          Ford, Mr. William Neal  male   16   \n",
       "93           94         0      3         Dean, Mr. Bertram Frank  male   26   \n",
       "\n",
       "    SibSp  Parch      Ticket  Fare        Cabin Embarked    Surname Title  \\\n",
       "13      1      5      347082    31          NaN        S  Andersson    Mr   \n",
       "27      3      2       19950   263  C23 C25 C27        S    Fortune    Mr   \n",
       "54      0      1      113509    61          B30        C      Ostby    Mr   \n",
       "86      1      3  W./C. 6608    34          NaN        S       Ford    Mr   \n",
       "93      1      2   C.A. 2315    20          NaN        S       Dean    Mr   \n",
       "\n",
       "   FamilySize isChild  \n",
       "13      large      no  \n",
       "27      large      no  \n",
       "54      small      no  \n",
       "86      large      no  \n",
       "93     medium      no  "
      ]
     },
     "execution_count": 31,
     "metadata": {},
     "output_type": "execute_result"
    }
   ],
   "source": [
    "#Motherhood\n",
    "train_df.loc[(train_df.Sex=='male')&\n",
    "             (train_df.Parch!=0)&\n",
    "             (train_df.Title=='Mr')].head()"
   ]
  },
  {
   "cell_type": "code",
   "execution_count": 32,
   "metadata": {
    "ExecuteTime": {
     "end_time": "2020-03-04T12:22:37.487138Z",
     "start_time": "2020-03-04T12:22:37.475171Z"
    }
   },
   "outputs": [],
   "source": [
    "for df in combo:\n",
    "    df['isParent']='no'\n",
    "    df.loc[(df.Sex=='female') & (df.Parch!=0) & (df.Title=='Mrs'),'isParent']='mother'\n",
    "    df.loc[(df.Sex=='male') & (df.Parch!=0) & (df.Title=='Mr'),'isParent']='father'"
   ]
  },
  {
   "cell_type": "code",
   "execution_count": 33,
   "metadata": {
    "ExecuteTime": {
     "end_time": "2020-03-04T12:22:40.257379Z",
     "start_time": "2020-03-04T12:22:40.253391Z"
    }
   },
   "outputs": [],
   "source": [
    "# for categorical data only\n",
    "#pd.crosstab(train_df.isMother, train_df.Survived)"
   ]
  },
  {
   "cell_type": "code",
   "execution_count": 34,
   "metadata": {
    "ExecuteTime": {
     "end_time": "2020-03-04T12:22:41.551030Z",
     "start_time": "2020-03-04T12:22:41.538065Z"
    },
    "scrolled": false
   },
   "outputs": [
    {
     "data": {
      "text/html": [
       "<style  type=\"text/css\" >\n",
       "    #T_07a1b012_62e2_11ea_af0c_a46fff3d379frow0_col0 {\n",
       "            background-color:  #67000d;\n",
       "            color:  #f1f1f1;\n",
       "        }    #T_07a1b012_62e2_11ea_af0c_a46fff3d379frow1_col0 {\n",
       "            background-color:  #fc8565;\n",
       "            color:  #000000;\n",
       "        }    #T_07a1b012_62e2_11ea_af0c_a46fff3d379frow2_col0 {\n",
       "            background-color:  #fff5f0;\n",
       "            color:  #000000;\n",
       "        }</style><table id=\"T_07a1b012_62e2_11ea_af0c_a46fff3d379f\" ><thead>    <tr>        <th class=\"blank level0\" ></th>        <th class=\"col_heading level0 col0\" >Survived</th>    </tr>    <tr>        <th class=\"index_name level0\" >isParent</th>        <th class=\"blank\" ></th>    </tr></thead><tbody>\n",
       "                <tr>\n",
       "                        <th id=\"T_07a1b012_62e2_11ea_af0c_a46fff3d379flevel0_row0\" class=\"row_heading level0 row0\" >mother</th>\n",
       "                        <td id=\"T_07a1b012_62e2_11ea_af0c_a46fff3d379frow0_col0\" class=\"data row0 col0\" >0.714286</td>\n",
       "            </tr>\n",
       "            <tr>\n",
       "                        <th id=\"T_07a1b012_62e2_11ea_af0c_a46fff3d379flevel0_row1\" class=\"row_heading level0 row1\" >no</th>\n",
       "                        <td id=\"T_07a1b012_62e2_11ea_af0c_a46fff3d379frow1_col0\" class=\"data row1 col0\" >0.376756</td>\n",
       "            </tr>\n",
       "            <tr>\n",
       "                        <th id=\"T_07a1b012_62e2_11ea_af0c_a46fff3d379flevel0_row2\" class=\"row_heading level0 row2\" >father</th>\n",
       "                        <td id=\"T_07a1b012_62e2_11ea_af0c_a46fff3d379frow2_col0\" class=\"data row2 col0\" >0.134615</td>\n",
       "            </tr>\n",
       "    </tbody></table>"
      ],
      "text/plain": [
       "<pandas.io.formats.style.Styler at 0x1f2076f6f08>"
      ]
     },
     "execution_count": 34,
     "metadata": {},
     "output_type": "execute_result"
    }
   ],
   "source": [
    "train_df[['isParent', 'Survived']].groupby(['isParent'], as_index=True).mean().sort_values(by='Survived',ascending=False).style.background_gradient(cmap='Reds')"
   ]
  },
  {
   "cell_type": "markdown",
   "metadata": {},
   "source": [
    "### Person"
   ]
  },
  {
   "cell_type": "code",
   "execution_count": 35,
   "metadata": {},
   "outputs": [],
   "source": [
    "for df in combo:\n",
    "    df.loc[:,'Person']=df.loc[:,'Sex']\n",
    "    df.loc[df.isChild=='yes','Person']='Child'\n",
    "    #df.loc[df.isParent=='mother','Person']='Mother'\n",
    "    #df.loc[df.isParent=='father','Person']='father'"
   ]
  },
  {
   "cell_type": "code",
   "execution_count": 36,
   "metadata": {
    "scrolled": true
   },
   "outputs": [
    {
     "data": {
      "text/html": [
       "<style  type=\"text/css\" >\n",
       "    #T_07a5a4fa_62e2_11ea_be7c_a46fff3d379frow0_col0 {\n",
       "            background-color:  #67000d;\n",
       "            color:  #f1f1f1;\n",
       "        }    #T_07a5a4fa_62e2_11ea_be7c_a46fff3d379frow1_col0 {\n",
       "            background-color:  #e32f27;\n",
       "            color:  #f1f1f1;\n",
       "        }    #T_07a5a4fa_62e2_11ea_be7c_a46fff3d379frow2_col0 {\n",
       "            background-color:  #fff5f0;\n",
       "            color:  #000000;\n",
       "        }</style><table id=\"T_07a5a4fa_62e2_11ea_be7c_a46fff3d379f\" ><thead>    <tr>        <th class=\"blank level0\" ></th>        <th class=\"col_heading level0 col0\" >Survived</th>    </tr>    <tr>        <th class=\"index_name level0\" >Person</th>        <th class=\"blank\" ></th>    </tr></thead><tbody>\n",
       "                <tr>\n",
       "                        <th id=\"T_07a5a4fa_62e2_11ea_be7c_a46fff3d379flevel0_row0\" class=\"row_heading level0 row0\" >female</th>\n",
       "                        <td id=\"T_07a5a4fa_62e2_11ea_be7c_a46fff3d379frow0_col0\" class=\"data row0 col0\" >0.761194</td>\n",
       "            </tr>\n",
       "            <tr>\n",
       "                        <th id=\"T_07a5a4fa_62e2_11ea_be7c_a46fff3d379flevel0_row1\" class=\"row_heading level0 row1\" >Child</th>\n",
       "                        <td id=\"T_07a5a4fa_62e2_11ea_be7c_a46fff3d379frow1_col0\" class=\"data row1 col0\" >0.561798</td>\n",
       "            </tr>\n",
       "            <tr>\n",
       "                        <th id=\"T_07a5a4fa_62e2_11ea_be7c_a46fff3d379flevel0_row2\" class=\"row_heading level0 row2\" >male</th>\n",
       "                        <td id=\"T_07a5a4fa_62e2_11ea_be7c_a46fff3d379frow2_col0\" class=\"data row2 col0\" >0.164794</td>\n",
       "            </tr>\n",
       "    </tbody></table>"
      ],
      "text/plain": [
       "<pandas.io.formats.style.Styler at 0x1f2076f73c8>"
      ]
     },
     "execution_count": 36,
     "metadata": {},
     "output_type": "execute_result"
    }
   ],
   "source": [
    "train_df[['Person', 'Survived']].groupby(['Person'], as_index=True).mean().sort_values(by='Survived',ascending=False).style.background_gradient(cmap='Reds')"
   ]
  },
  {
   "cell_type": "markdown",
   "metadata": {},
   "source": [
    "## Cleaning"
   ]
  },
  {
   "cell_type": "markdown",
   "metadata": {},
   "source": [
    "### Ticket and Cabin"
   ]
  },
  {
   "cell_type": "markdown",
   "metadata": {},
   "source": [
    "**Ticket** and **Cabin** Have So many uncertainties that they can not be of anymore Help"
   ]
  },
  {
   "cell_type": "code",
   "execution_count": 37,
   "metadata": {
    "ExecuteTime": {
     "end_time": "2020-03-04T11:47:36.923188Z",
     "start_time": "2020-03-04T11:47:36.918200Z"
    }
   },
   "outputs": [],
   "source": [
    "for df in combo:\n",
    "    df.drop(['Ticket','Cabin'],axis=1,inplace=True)"
   ]
  },
  {
   "cell_type": "markdown",
   "metadata": {},
   "source": [
    "**Name** is no longer usefull"
   ]
  },
  {
   "cell_type": "code",
   "execution_count": 38,
   "metadata": {
    "ExecuteTime": {
     "end_time": "2020-03-04T11:47:36.932203Z",
     "start_time": "2020-03-04T11:47:36.925182Z"
    }
   },
   "outputs": [],
   "source": [
    "for df in combo:\n",
    "\n",
    "    df.drop(['Name'],axis=1,inplace=True)"
   ]
  },
  {
   "cell_type": "code",
   "execution_count": 39,
   "metadata": {
    "ExecuteTime": {
     "end_time": "2020-03-04T11:47:36.936153Z",
     "start_time": "2020-03-04T11:47:36.933160Z"
    },
    "scrolled": false
   },
   "outputs": [
    {
     "data": {
      "text/plain": [
       "<matplotlib.axes._subplots.AxesSubplot at 0x1f205bf3908>"
      ]
     },
     "execution_count": 39,
     "metadata": {},
     "output_type": "execute_result"
    },
    {
     "data": {
      "image/png": "[encoded data removed]",
      "text/plain": [
       "<Figure size 432x288 with 1 Axes>"
      ]
     },
     "metadata": {
      "needs_background": "light"
     },
     "output_type": "display_data"
    }
   ],
   "source": [
    "#check\n",
    "sns.heatmap(train_df.isnull(), cbar=False)\n",
    "\n",
    "#sns.heatmap(test_df.isnull(), cbar=False)"
   ]
  },
  {
   "cell_type": "markdown",
   "metadata": {},
   "source": [
    "# Machine learning"
   ]
  },
  {
   "cell_type": "markdown",
   "metadata": {},
   "source": [
    "## all possible Features"
   ]
  },
  {
   "cell_type": "code",
   "execution_count": 40,
   "metadata": {
    "ExecuteTime": {
     "end_time": "2020-03-04T11:47:36.942138Z",
     "start_time": "2020-03-04T11:47:36.937151Z"
    }
   },
   "outputs": [
    {
     "name": "stdout",
     "output_type": "stream",
     "text": [
      "['Pclass', 'Sex', 'Age', 'SibSp', 'Parch', 'Fare', 'Embarked', 'Surname', 'Title', 'FamilySize', 'isChild', 'isParent', 'Person']\n"
     ]
    }
   ],
   "source": [
    "# all possible feature\n",
    "Possible_features=train_df.columns.to_list()\n",
    "Possible_features.remove('PassengerId')\n",
    "Possible_features.remove('Survived')\n",
    "print(Possible_features)"
   ]
  },
  {
   "cell_type": "markdown",
   "metadata": {},
   "source": [
    "## Remove manually Features"
   ]
  },
  {
   "cell_type": "code",
   "execution_count": 41,
   "metadata": {},
   "outputs": [
    {
     "name": "stdout",
     "output_type": "stream",
     "text": [
      "['Pclass', 'Sex', 'Age', 'SibSp', 'Parch', 'Fare', 'Embarked', 'Title', 'FamilySize', 'Person']\n"
     ]
    }
   ],
   "source": [
    "# remove feature\n",
    "# orginal\n",
    "#Possible_features.remove('Age')\n",
    "#Possible_features.remove('Fare')\n",
    "#Possible_features.remove('Embarked')\n",
    "#Possible_features.remove('Sex')\n",
    "#Possible_features.remove('SibSp')\n",
    "#Possible_features.remove('Parch')\n",
    "\n",
    "# new\n",
    "#Possible_features.remove('FamilySize')\n",
    "#Possible_features.remove('Title')\n",
    "Possible_features.remove('Surname')\n",
    "Possible_features.remove('isParent')\n",
    "Possible_features.remove('isChild')\n",
    "#Possible_features.remove('Person')\n",
    "\n",
    "features=Possible_features\n",
    "print(features)"
   ]
  },
  {
   "cell_type": "markdown",
   "metadata": {},
   "source": [
    "## determine the best feature set with score"
   ]
  },
  {
   "cell_type": "markdown",
   "metadata": {},
   "source": [
    "### All possible combinason of Possible_features"
   ]
  },
  {
   "cell_type": "code",
   "execution_count": 42,
   "metadata": {},
   "outputs": [],
   "source": [
    "feature_combi = sum([list(map(list, combinations(Possible_features, i))) for i in range(len(Possible_features) + 1)], [])"
   ]
  },
  {
   "cell_type": "code",
   "execution_count": 43,
   "metadata": {},
   "outputs": [
    {
     "data": {
      "text/plain": [
       "1024"
      ]
     },
     "execution_count": 43,
     "metadata": {},
     "output_type": "execute_result"
    }
   ],
   "source": [
    "len(feature_combi)"
   ]
  },
  {
   "cell_type": "markdown",
   "metadata": {},
   "source": [
    "### results data frame"
   ]
  },
  {
   "cell_type": "code",
   "execution_count": 44,
   "metadata": {},
   "outputs": [],
   "source": [
    "ml_results=pd.DataFrame(columns=['feature_set','Ml_score'])"
   ]
  },
  {
   "cell_type": "code",
   "execution_count": null,
   "metadata": {
    "scrolled": true
   },
   "outputs": [],
   "source": [
    "i=0\n",
    "for feature_set in feature_combi:\n",
    "    if len(feature_set)>=2:\n",
    "        \n",
    "        #prepare data\n",
    "        Y_train  = train_df[\"Survived\"]\n",
    "        X_train  = pd.get_dummies(train_df[feature_set])\n",
    "        X_test = pd.get_dummies(test_df[feature_set])\n",
    "        \n",
    "        #compute model\n",
    "        model = RandomForestClassifier(n_estimators=100)\n",
    "        model.fit(X_train, Y_train)\n",
    "        predictions = model.predict(X_test)\n",
    "        \n",
    "        #Determine Score \n",
    "        score=round(model.score(X_train, Y_train)*100,2)\n",
    "        \n",
    "        #update ml result\n",
    "        ml_results.loc[i]=feature_set,score\n",
    "        i+=1"
   ]
  },
  {
   "cell_type": "markdown",
   "metadata": {},
   "source": [
    "### best score"
   ]
  },
  {
   "cell_type": "code",
   "execution_count": null,
   "metadata": {},
   "outputs": [],
   "source": [
    "best_score=ml_results.loc[ml_results.Ml_score==ml_results.Ml_score.max()]\n",
    "best_score"
   ]
  },
  {
   "cell_type": "markdown",
   "metadata": {
    "ExecuteTime": {
     "end_time": "2020-03-04T11:48:00.150970Z",
     "start_time": "2020-03-04T11:48:00.140983Z"
    }
   },
   "source": [
    "### best feature set"
   ]
  },
  {
   "cell_type": "markdown",
   "metadata": {},
   "source": [
    "#### smallest"
   ]
  },
  {
   "cell_type": "code",
   "execution_count": null,
   "metadata": {},
   "outputs": [],
   "source": [
    "feature_Set_small = best_score.loc[ best_score.index.min(),'feature_set']\n",
    "feature_Set_small"
   ]
  },
  {
   "cell_type": "code",
   "execution_count": null,
   "metadata": {
    "scrolled": false
   },
   "outputs": [],
   "source": [
    "Y_train  = train_df[\"Survived\"]\n",
    "X_train  = pd.get_dummies(train_df[feature_Set_small])\n",
    "X_test = pd.get_dummies(test_df[feature_Set_small])\n",
    "\n",
    "model = RandomForestClassifier(n_estimators=100)\n",
    "model.fit(X_train, Y_train)\n",
    "predictions_small_set = model.predict(X_test)\n",
    "\n",
    "# importance\n",
    "variable_importance = pd.DataFrame({'feature': X_train.columns, 'importance': model.feature_importances_*100})\n",
    "variable_importance['feature']=variable_importance['feature'].str.split(\"_\", n = 1, expand = True) \n",
    "variable_importance=variable_importance.groupby('feature',as_index=True).sum().sort_values(by='importance', ascending=True)\n",
    "variable_importance.plot.barh()\n",
    "variable_importance.sort_values(by='importance', ascending=False).style.background_gradient(cmap='Greens')"
   ]
  },
  {
   "cell_type": "markdown",
   "metadata": {},
   "source": [
    "#### biggest"
   ]
  },
  {
   "cell_type": "code",
   "execution_count": null,
   "metadata": {},
   "outputs": [],
   "source": [
    "feature_Set_big = best_score.loc[ best_score.index.max(),'feature_set']\n",
    "feature_Set_big"
   ]
  },
  {
   "cell_type": "code",
   "execution_count": null,
   "metadata": {
    "scrolled": false
   },
   "outputs": [],
   "source": [
    "Y_train  = train_df[\"Survived\"]\n",
    "X_train  = pd.get_dummies(train_df[feature_Set_big])\n",
    "X_test = pd.get_dummies(test_df[feature_Set_big])\n",
    "\n",
    "model = RandomForestClassifier(n_estimators=100)\n",
    "model.fit(X_train, Y_train)\n",
    "predictions_big_set = model.predict(X_test)\n",
    "\n",
    "# importance\n",
    "variable_importance = pd.DataFrame({'feature': X_train.columns, 'importance': model.feature_importances_*100})\n",
    "variable_importance['feature']=variable_importance['feature'].str.split(\"_\", n = 1, expand = True) \n",
    "variable_importance=variable_importance.groupby('feature',as_index=True).sum().sort_values(by='importance', ascending=True)\n",
    "variable_importance.plot.barh()\n",
    "variable_importance.sort_values(by='importance', ascending=False).style.background_gradient(cmap='Greens')"
   ]
  },
  {
   "cell_type": "markdown",
   "metadata": {},
   "source": [
    "##  determine the Ml model "
   ]
  },
  {
   "cell_type": "markdown",
   "metadata": {},
   "source": [
    "- for big and small best feature set\n",
    "- according to model score"
   ]
  },
  {
   "cell_type": "markdown",
   "metadata": {},
   "source": [
    "The different models for the study:\n",
    "    \n",
    "1. LR or Logistic Regression\n",
    "1. KNN or k-Nearest Neighbors\n",
    "1. SVM or Support Vector Machines\n",
    "1. GNB or Gaussian Naive Bayes classifier\n",
    "1. DT or Decision Tree\n",
    "1. RF or Random Forrest\n",
    "1. P or Perceptron\n",
    "1. SVC or Linear SVC\n",
    "1. SGD or Stochastic Gradient Descent\n"
   ]
  },
  {
   "cell_type": "markdown",
   "metadata": {},
   "source": [
    "### prepare results"
   ]
  },
  {
   "cell_type": "code",
   "execution_count": null,
   "metadata": {},
   "outputs": [],
   "source": [
    "ml_model_results=pd.DataFrame(index=range(9),columns=['N','Name'])\n",
    "Model_name_short=['LR','KNN','SVM','GNB','DT','RF','P','SVC','SGD']\n",
    "Model_name_long=['Logistic Regression','k-Nearest Neighbors','Support Vector Machines',\n",
    "                 'Gaussian Naive Bayes classifier','Decision Tree','Random Forrest','Perceptron',\n",
    "                 'Linear SVC','Stochastic Gradient Descent']\n",
    "\n",
    "ml_model_results.loc[:,'N']=Model_name_short\n",
    "ml_model_results.loc[:,'Name']=Model_name_long\n"
   ]
  },
  {
   "cell_type": "markdown",
   "metadata": {},
   "source": [
    "### Prepare Model"
   ]
  },
  {
   "cell_type": "code",
   "execution_count": null,
   "metadata": {},
   "outputs": [],
   "source": [
    "model_list = [LogisticRegression(solver ='liblinear'),\n",
    "              KNeighborsClassifier(n_neighbors = 3),\n",
    "              SVC(gamma='auto'),\n",
    "              GaussianNB(),\n",
    "              DecisionTreeClassifier(),\n",
    "              RandomForestClassifier(n_estimators=100),\n",
    "              Perceptron(),\n",
    "              LinearSVC(max_iter=10000),\n",
    "              SGDClassifier()         \n",
    "             ]\n",
    "feature_Set_small=smallest_feature_Set\n",
    "feature_Set_big=biggest_feature_Set\n",
    "feature_sets=[feature_Set_small,feature_Set_big]"
   ]
  },
  {
   "cell_type": "markdown",
   "metadata": {},
   "source": [
    "### determine best model"
   ]
  },
  {
   "cell_type": "code",
   "execution_count": null,
   "metadata": {},
   "outputs": [],
   "source": [
    "j=0\n",
    "for feature_set in feature_sets:\n",
    "    j+=1\n",
    "    colname='Model_score_'+str(j)\n",
    "    ml_model_results[colname]=np.nan\n",
    "    #small featureset\n",
    "    X_train  = pd.get_dummies(train_df[feature_set])\n",
    "    X_test = pd.get_dummies(test_df[feature_set])\n",
    "    i=0\n",
    "    for model in model_list:\n",
    "        mod=model\n",
    "        mod.fit(X_train, Y_train)\n",
    "        prediction = mod.predict(X_test)\n",
    "        score = round(mod.score(X_train, Y_train), 4)\n",
    "        ml_model_results.loc[i,colname]=float(score)\n",
    "        i+=1\n",
    "    ml_model_results[colname]=ml_model_results[colname].astype(float)\n",
    "  "
   ]
  },
  {
   "cell_type": "markdown",
   "metadata": {},
   "source": [
    "### display result"
   ]
  },
  {
   "cell_type": "code",
   "execution_count": null,
   "metadata": {
    "scrolled": false
   },
   "outputs": [],
   "source": [
    "#display best result\n",
    "ml_model_results.style.background_gradient(cmap='Greens')"
   ]
  },
  {
   "cell_type": "markdown",
   "metadata": {},
   "source": [
    "## determine ML parameter"
   ]
  },
  {
   "cell_type": "code",
   "execution_count": null,
   "metadata": {},
   "outputs": [],
   "source": []
  },
  {
   "cell_type": "code",
   "execution_count": null,
   "metadata": {},
   "outputs": [],
   "source": []
  },
  {
   "cell_type": "code",
   "execution_count": null,
   "metadata": {},
   "outputs": [],
   "source": []
  },
  {
   "cell_type": "markdown",
   "metadata": {
    "ExecuteTime": {
     "end_time": "2020-03-03T11:38:38.924871Z",
     "start_time": "2020-03-03T11:38:38.920831Z"
    }
   },
   "source": [
    "# Submit"
   ]
  },
  {
   "cell_type": "code",
   "execution_count": null,
   "metadata": {
    "ExecuteTime": {
     "end_time": "2020-03-04T11:48:20.048934Z",
     "start_time": "2020-03-04T11:48:20.042788Z"
    }
   },
   "outputs": [],
   "source": [
    "#output_small_set = pd.DataFrame({'PassengerId': test_df.PassengerId, 'Survived': predictions_small_set})\n",
    "#output_big_set = pd.DataFrame({'PassengerId': test_df.PassengerId, 'Survived': predictions_big_set})\n",
    "\n",
    "#output.set_index('PassengerId',inplace=True)\n",
    "#output.head()"
   ]
  },
  {
   "cell_type": "code",
   "execution_count": null,
   "metadata": {
    "ExecuteTime": {
     "end_time": "2020-03-04T11:48:20.836048Z",
     "start_time": "2020-03-04T11:48:20.829073Z"
    }
   },
   "outputs": [],
   "source": [
    "#output_small_set.to_csv('kaggle/output/small_set_submission.csv', index=False)\n",
    "#output_big_set.to_csv('kaggle/output/big_set_submission.csv', index=False)\n",
    "\n",
    "#output.to_csv('my_ml_submission.csv', index=False)\n"
   ]
  },
  {
   "cell_type": "code",
   "execution_count": null,
   "metadata": {},
   "outputs": [],
   "source": []
  },
  {
   "cell_type": "code",
   "execution_count": null,
   "metadata": {},
   "outputs": [],
   "source": []
  },
  {
   "cell_type": "code",
   "execution_count": null,
   "metadata": {},
   "outputs": [],
   "source": []
  },
  {
   "cell_type": "code",
   "execution_count": null,
   "metadata": {},
   "outputs": [],
   "source": []
  }
 ],
 "metadata": {
  "kernelspec": {
   "display_name": "Python 3",
   "language": "python",
   "name": "python3"
  },
  "language_info": {
   "codemirror_mode": {
    "name": "ipython",
    "version": 3
   },
   "file_extension": ".py",
   "mimetype": "text/x-python",
   "name": "python",
   "nbconvert_exporter": "python",
   "pygments_lexer": "ipython3",
   "version": "3.7.4"
  },
  "latex_envs": {
   "LaTeX_envs_menu_present": true,
   "autoclose": false,
   "autocomplete": true,
   "bibliofile": "biblio.bib",
   "cite_by": "apalike",
   "current_citInitial": 1,
   "eqLabelWithNumbers": true,
   "eqNumInitial": 1,
   "hotkeys": {
    "equation": "Ctrl-E",
    "itemize": "Ctrl-I"
   },
   "labels_anchors": false,
   "latex_user_defs": false,
   "report_style_numbering": false,
   "user_envs_cfg": false
  },
  "toc": {
   "base_numbering": 1,
   "nav_menu": {},
   "number_sections": true,
   "sideBar": true,
   "skip_h1_title": false,
   "title_cell": "Table of Contents",
   "title_sidebar": "Contents",
   "toc_cell": false,
   "toc_position": {},
   "toc_section_display": true,
   "toc_window_display": false
  },
  "varInspector": {
   "cols": {
    "lenName": 16,
    "lenType": 16,
    "lenVar": 40
   },
   "kernels_config": {
    "python": {
     "delete_cmd_postfix": "",
     "delete_cmd_prefix": "del ",
     "library": "var_list.py",
     "varRefreshCmd": "print(var_dic_list())"
    },
    "r": {
     "delete_cmd_postfix": ") ",
     "delete_cmd_prefix": "rm(",
     "library": "var_list.r",
     "varRefreshCmd": "cat(var_dic_list()) "
    }
   },
   "types_to_exclude": [
    "module",
    "function",
    "builtin_function_or_method",
    "instance",
    "_Feature"
   ],
   "window_display": false
  }
 },
 "nbformat": 4,
 "nbformat_minor": 4
}
