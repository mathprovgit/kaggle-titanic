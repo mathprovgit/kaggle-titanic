{
 "cells": [
  {
   "cell_type": "markdown",
   "metadata": {},
   "source": [
    "# Titanic<sub>An introduction to machine learning <sub>\n",
    "[Home Page](https://www.kaggle.com/c/titanic)\n",
    "\n",
    "\n"
   ]
  },
  {
   "cell_type": "markdown",
   "metadata": {},
   "source": [
    "<img src=\"https://i0.wp.com/intheboatshed.net/wp-content/uploads/2008/04/titanic_4.jpg\" width=\"800px\">"
   ]
  },
  {
   "cell_type": "markdown",
   "metadata": {},
   "source": [
    "# Preliminaries"
   ]
  },
  {
   "cell_type": "markdown",
   "metadata": {},
   "source": [
    "## Interesting Links"
   ]
  },
  {
   "cell_type": "markdown",
   "metadata": {},
   "source": [
    "kaggle intern:\n",
    " - https://www.kaggle.com/alexisbcook/titanic-tutorial\n",
    " - https://www.kaggle.com/parulpandey/10-simple-hacks-to-speed-up-your-data-analysis#758058\n",
    " - https://www.kaggle.com/startupsci/titanic-data-science-solutions\n",
    " - https://www.kaggle.com/mrisdal/exploring-survival-on-the-titanic\n",
    " - https://www.kaggle.com/pratsiuk/valueerror-unknown-label-type-continuous\n",
    " \n",
    " others:\n",
    " - https://pandas-profiling.github.io/pandas-profiling/docs/\n"
   ]
  },
  {
   "cell_type": "markdown",
   "metadata": {},
   "source": [
    "## Settings"
   ]
  },
  {
   "cell_type": "code",
   "execution_count": 1,
   "metadata": {
    "ExecuteTime": {
     "end_time": "2020-03-04T12:22:08.526354Z",
     "start_time": "2020-03-04T12:22:08.523386Z"
    },
    "_cell_guid": "b1076dfc-b9ad-4769-8c92-a6c4dae69d19",
    "_uuid": "8f2839f25d086af736a60e9eeb907d3b93b6e0e5",
    "code_folding": [
     0
    ]
   },
   "outputs": [],
   "source": [
    "# settings\n",
    "from IPython.core.interactiveshell import InteractiveShell  \n",
    "InteractiveShell.ast_node_interactivity = \"all\"\n",
    "#To revert to the original setting :\n",
    "# InteractiveShell.ast_node_interactivity = \"last_expr\""
   ]
  },
  {
   "cell_type": "markdown",
   "metadata": {},
   "source": [
    "## Imports"
   ]
  },
  {
   "cell_type": "code",
   "execution_count": 2,
   "metadata": {
    "ExecuteTime": {
     "end_time": "2020-03-04T12:22:10.647904Z",
     "start_time": "2020-03-04T12:22:08.602357Z"
    },
    "_cell_guid": "79c7e3d0-c299-4dcb-8224-4455121ee9b0",
    "_uuid": "d629ff2d2480ee46fbb7e2d37f6b5fab8052498a",
    "code_folding": []
   },
   "outputs": [],
   "source": [
    "#imports\n",
    "# os \n",
    "import os\n",
    "\n",
    "# data analysis and wrangling\n",
    "import numpy as np # linear algebra\n",
    "import pandas as pd # data processing, CSV file I/O (e.g. pd.read_csv)\n",
    "import random as rnd\n",
    "\n",
    "# visualization and reporting\n",
    "import pandas_profiling # dataframe profiling @\n",
    "import seaborn as sns\n",
    "import matplotlib.pyplot as plt\n",
    "%matplotlib inline\n",
    "import calmap\n",
    "\n",
    "\n",
    "# machine learning\n",
    "from sklearn import preprocessing\n",
    "from sklearn.ensemble import RandomForestClassifier\n",
    "from sklearn.linear_model import LogisticRegression\n",
    "\n",
    "from sklearn.svm import SVC, LinearSVC\n",
    "from sklearn.neighbors import KNeighborsClassifier\n",
    "from sklearn.naive_bayes import GaussianNB\n",
    "from sklearn.linear_model import Perceptron\n",
    "from sklearn.linear_model import SGDClassifier\n",
    "from sklearn.tree import DecisionTreeClassifier"
   ]
  },
  {
   "cell_type": "code",
   "execution_count": 3,
   "metadata": {
    "ExecuteTime": {
     "end_time": "2020-03-04T12:22:10.656885Z",
     "start_time": "2020-03-04T12:22:10.648880Z"
    },
    "_kg_hide-input": false,
    "_kg_hide-output": true,
    "code_folding": []
   },
   "outputs": [
    {
     "name": "stdout",
     "output_type": "stream",
     "text": [
      "kaggle/input\\gender_submission.csv kaggle/input\\test.csv kaggle/input\\train.csv\n"
     ]
    }
   ],
   "source": [
    "# walk file structure and find input data\n",
    "input_files=[]\n",
    "for dirname, _, filenames in os.walk('kaggle/input'):\n",
    "    for filename in filenames:\n",
    "        path=os.path.join(dirname, filename)\n",
    "        if path.endswith('submission.csv'):\n",
    "            path_gs=path\n",
    "        elif path.endswith('test.csv'):\n",
    "            path_test=path\n",
    "        elif path.endswith('train.csv'):\n",
    "            path_train=path\n",
    "print(path_gs,path_test,path_train)            "
   ]
  },
  {
   "cell_type": "markdown",
   "metadata": {},
   "source": [
    "## DataFrame Creation"
   ]
  },
  {
   "cell_type": "code",
   "execution_count": 4,
   "metadata": {
    "ExecuteTime": {
     "end_time": "2020-03-04T12:22:10.672940Z",
     "start_time": "2020-03-04T12:22:10.658945Z"
    },
    "code_folding": [
     0
    ]
   },
   "outputs": [],
   "source": [
    "# create a dataframe for each csv file\n",
    "test_df=pd.read_csv(path_test)\n",
    "train_df=pd.read_csv(path_train)\n",
    "\n",
    "combo=[test_df,train_df]"
   ]
  },
  {
   "cell_type": "markdown",
   "metadata": {},
   "source": [
    "# Data Insight"
   ]
  },
  {
   "cell_type": "markdown",
   "metadata": {},
   "source": [
    "## Fast report"
   ]
  },
  {
   "cell_type": "code",
   "execution_count": 5,
   "metadata": {
    "ExecuteTime": {
     "end_time": "2020-03-04T12:22:10.724770Z",
     "start_time": "2020-03-04T12:22:10.674944Z"
    },
    "code_folding": [
     1,
     6
    ],
    "scrolled": false
   },
   "outputs": [
    {
     "data": {
      "text/html": [
       "<div>\n",
       "<style scoped>\n",
       "    .dataframe tbody tr th:only-of-type {\n",
       "        vertical-align: middle;\n",
       "    }\n",
       "\n",
       "    .dataframe tbody tr th {\n",
       "        vertical-align: top;\n",
       "    }\n",
       "\n",
       "    .dataframe thead th {\n",
       "        text-align: right;\n",
       "    }\n",
       "</style>\n",
       "<table border=\"1\" class=\"dataframe\">\n",
       "  <thead>\n",
       "    <tr style=\"text-align: right;\">\n",
       "      <th></th>\n",
       "      <th>PassengerId</th>\n",
       "      <th>Survived</th>\n",
       "      <th>Pclass</th>\n",
       "      <th>Name</th>\n",
       "      <th>Sex</th>\n",
       "      <th>Age</th>\n",
       "      <th>SibSp</th>\n",
       "      <th>Parch</th>\n",
       "      <th>Ticket</th>\n",
       "      <th>Fare</th>\n",
       "      <th>Cabin</th>\n",
       "      <th>Embarked</th>\n",
       "    </tr>\n",
       "  </thead>\n",
       "  <tbody>\n",
       "    <tr>\n",
       "      <th>0</th>\n",
       "      <td>1</td>\n",
       "      <td>0</td>\n",
       "      <td>3</td>\n",
       "      <td>Braund, Mr. Owen Harris</td>\n",
       "      <td>male</td>\n",
       "      <td>22.0</td>\n",
       "      <td>1</td>\n",
       "      <td>0</td>\n",
       "      <td>A/5 21171</td>\n",
       "      <td>7.2500</td>\n",
       "      <td>NaN</td>\n",
       "      <td>S</td>\n",
       "    </tr>\n",
       "    <tr>\n",
       "      <th>1</th>\n",
       "      <td>2</td>\n",
       "      <td>1</td>\n",
       "      <td>1</td>\n",
       "      <td>Cumings, Mrs. John Bradley (Florence Briggs Th...</td>\n",
       "      <td>female</td>\n",
       "      <td>38.0</td>\n",
       "      <td>1</td>\n",
       "      <td>0</td>\n",
       "      <td>PC 17599</td>\n",
       "      <td>71.2833</td>\n",
       "      <td>C85</td>\n",
       "      <td>C</td>\n",
       "    </tr>\n",
       "    <tr>\n",
       "      <th>2</th>\n",
       "      <td>3</td>\n",
       "      <td>1</td>\n",
       "      <td>3</td>\n",
       "      <td>Heikkinen, Miss. Laina</td>\n",
       "      <td>female</td>\n",
       "      <td>26.0</td>\n",
       "      <td>0</td>\n",
       "      <td>0</td>\n",
       "      <td>STON/O2. 3101282</td>\n",
       "      <td>7.9250</td>\n",
       "      <td>NaN</td>\n",
       "      <td>S</td>\n",
       "    </tr>\n",
       "    <tr>\n",
       "      <th>3</th>\n",
       "      <td>4</td>\n",
       "      <td>1</td>\n",
       "      <td>1</td>\n",
       "      <td>Futrelle, Mrs. Jacques Heath (Lily May Peel)</td>\n",
       "      <td>female</td>\n",
       "      <td>35.0</td>\n",
       "      <td>1</td>\n",
       "      <td>0</td>\n",
       "      <td>113803</td>\n",
       "      <td>53.1000</td>\n",
       "      <td>C123</td>\n",
       "      <td>S</td>\n",
       "    </tr>\n",
       "    <tr>\n",
       "      <th>4</th>\n",
       "      <td>5</td>\n",
       "      <td>0</td>\n",
       "      <td>3</td>\n",
       "      <td>Allen, Mr. William Henry</td>\n",
       "      <td>male</td>\n",
       "      <td>35.0</td>\n",
       "      <td>0</td>\n",
       "      <td>0</td>\n",
       "      <td>373450</td>\n",
       "      <td>8.0500</td>\n",
       "      <td>NaN</td>\n",
       "      <td>S</td>\n",
       "    </tr>\n",
       "  </tbody>\n",
       "</table>\n",
       "</div>"
      ],
      "text/plain": [
       "   PassengerId  Survived  Pclass  \\\n",
       "0            1         0       3   \n",
       "1            2         1       1   \n",
       "2            3         1       3   \n",
       "3            4         1       1   \n",
       "4            5         0       3   \n",
       "\n",
       "                                                Name     Sex   Age  SibSp  \\\n",
       "0                            Braund, Mr. Owen Harris    male  22.0      1   \n",
       "1  Cumings, Mrs. John Bradley (Florence Briggs Th...  female  38.0      1   \n",
       "2                             Heikkinen, Miss. Laina  female  26.0      0   \n",
       "3       Futrelle, Mrs. Jacques Heath (Lily May Peel)  female  35.0      1   \n",
       "4                           Allen, Mr. William Henry    male  35.0      0   \n",
       "\n",
       "   Parch            Ticket     Fare Cabin Embarked  \n",
       "0      0         A/5 21171   7.2500   NaN        S  \n",
       "1      0          PC 17599  71.2833   C85        C  \n",
       "2      0  STON/O2. 3101282   7.9250   NaN        S  \n",
       "3      0            113803  53.1000  C123        S  \n",
       "4      0            373450   8.0500   NaN        S  "
      ]
     },
     "execution_count": 5,
     "metadata": {},
     "output_type": "execute_result"
    },
    {
     "name": "stdout",
     "output_type": "stream",
     "text": [
      "<class 'pandas.core.frame.DataFrame'>\n",
      "RangeIndex: 891 entries, 0 to 890\n",
      "Data columns (total 12 columns):\n",
      "PassengerId    891 non-null int64\n",
      "Survived       891 non-null int64\n",
      "Pclass         891 non-null int64\n",
      "Name           891 non-null object\n",
      "Sex            891 non-null object\n",
      "Age            714 non-null float64\n",
      "SibSp          891 non-null int64\n",
      "Parch          891 non-null int64\n",
      "Ticket         891 non-null object\n",
      "Fare           891 non-null float64\n",
      "Cabin          204 non-null object\n",
      "Embarked       889 non-null object\n",
      "dtypes: float64(2), int64(5), object(5)\n",
      "memory usage: 83.7+ KB\n"
     ]
    },
    {
     "data": {
      "text/html": [
       "<div>\n",
       "<style scoped>\n",
       "    .dataframe tbody tr th:only-of-type {\n",
       "        vertical-align: middle;\n",
       "    }\n",
       "\n",
       "    .dataframe tbody tr th {\n",
       "        vertical-align: top;\n",
       "    }\n",
       "\n",
       "    .dataframe thead th {\n",
       "        text-align: right;\n",
       "    }\n",
       "</style>\n",
       "<table border=\"1\" class=\"dataframe\">\n",
       "  <thead>\n",
       "    <tr style=\"text-align: right;\">\n",
       "      <th></th>\n",
       "      <th>PassengerId</th>\n",
       "      <th>Survived</th>\n",
       "      <th>Pclass</th>\n",
       "      <th>Name</th>\n",
       "      <th>Sex</th>\n",
       "      <th>Age</th>\n",
       "      <th>SibSp</th>\n",
       "      <th>Parch</th>\n",
       "      <th>Ticket</th>\n",
       "      <th>Fare</th>\n",
       "      <th>Cabin</th>\n",
       "      <th>Embarked</th>\n",
       "    </tr>\n",
       "  </thead>\n",
       "  <tbody>\n",
       "    <tr>\n",
       "      <th>count</th>\n",
       "      <td>891.000000</td>\n",
       "      <td>891.000000</td>\n",
       "      <td>891.000000</td>\n",
       "      <td>891</td>\n",
       "      <td>891</td>\n",
       "      <td>714.000000</td>\n",
       "      <td>891.000000</td>\n",
       "      <td>891.000000</td>\n",
       "      <td>891</td>\n",
       "      <td>891.000000</td>\n",
       "      <td>204</td>\n",
       "      <td>889</td>\n",
       "    </tr>\n",
       "    <tr>\n",
       "      <th>unique</th>\n",
       "      <td>NaN</td>\n",
       "      <td>NaN</td>\n",
       "      <td>NaN</td>\n",
       "      <td>891</td>\n",
       "      <td>2</td>\n",
       "      <td>NaN</td>\n",
       "      <td>NaN</td>\n",
       "      <td>NaN</td>\n",
       "      <td>681</td>\n",
       "      <td>NaN</td>\n",
       "      <td>147</td>\n",
       "      <td>3</td>\n",
       "    </tr>\n",
       "    <tr>\n",
       "      <th>top</th>\n",
       "      <td>NaN</td>\n",
       "      <td>NaN</td>\n",
       "      <td>NaN</td>\n",
       "      <td>Adams, Mr. John</td>\n",
       "      <td>male</td>\n",
       "      <td>NaN</td>\n",
       "      <td>NaN</td>\n",
       "      <td>NaN</td>\n",
       "      <td>347082</td>\n",
       "      <td>NaN</td>\n",
       "      <td>B96 B98</td>\n",
       "      <td>S</td>\n",
       "    </tr>\n",
       "    <tr>\n",
       "      <th>freq</th>\n",
       "      <td>NaN</td>\n",
       "      <td>NaN</td>\n",
       "      <td>NaN</td>\n",
       "      <td>1</td>\n",
       "      <td>577</td>\n",
       "      <td>NaN</td>\n",
       "      <td>NaN</td>\n",
       "      <td>NaN</td>\n",
       "      <td>7</td>\n",
       "      <td>NaN</td>\n",
       "      <td>4</td>\n",
       "      <td>644</td>\n",
       "    </tr>\n",
       "    <tr>\n",
       "      <th>mean</th>\n",
       "      <td>446.000000</td>\n",
       "      <td>0.383838</td>\n",
       "      <td>2.308642</td>\n",
       "      <td>NaN</td>\n",
       "      <td>NaN</td>\n",
       "      <td>29.699118</td>\n",
       "      <td>0.523008</td>\n",
       "      <td>0.381594</td>\n",
       "      <td>NaN</td>\n",
       "      <td>32.204208</td>\n",
       "      <td>NaN</td>\n",
       "      <td>NaN</td>\n",
       "    </tr>\n",
       "    <tr>\n",
       "      <th>std</th>\n",
       "      <td>257.353842</td>\n",
       "      <td>0.486592</td>\n",
       "      <td>0.836071</td>\n",
       "      <td>NaN</td>\n",
       "      <td>NaN</td>\n",
       "      <td>14.526497</td>\n",
       "      <td>1.102743</td>\n",
       "      <td>0.806057</td>\n",
       "      <td>NaN</td>\n",
       "      <td>49.693429</td>\n",
       "      <td>NaN</td>\n",
       "      <td>NaN</td>\n",
       "    </tr>\n",
       "    <tr>\n",
       "      <th>min</th>\n",
       "      <td>1.000000</td>\n",
       "      <td>0.000000</td>\n",
       "      <td>1.000000</td>\n",
       "      <td>NaN</td>\n",
       "      <td>NaN</td>\n",
       "      <td>0.420000</td>\n",
       "      <td>0.000000</td>\n",
       "      <td>0.000000</td>\n",
       "      <td>NaN</td>\n",
       "      <td>0.000000</td>\n",
       "      <td>NaN</td>\n",
       "      <td>NaN</td>\n",
       "    </tr>\n",
       "    <tr>\n",
       "      <th>25%</th>\n",
       "      <td>223.500000</td>\n",
       "      <td>0.000000</td>\n",
       "      <td>2.000000</td>\n",
       "      <td>NaN</td>\n",
       "      <td>NaN</td>\n",
       "      <td>20.125000</td>\n",
       "      <td>0.000000</td>\n",
       "      <td>0.000000</td>\n",
       "      <td>NaN</td>\n",
       "      <td>7.910400</td>\n",
       "      <td>NaN</td>\n",
       "      <td>NaN</td>\n",
       "    </tr>\n",
       "    <tr>\n",
       "      <th>50%</th>\n",
       "      <td>446.000000</td>\n",
       "      <td>0.000000</td>\n",
       "      <td>3.000000</td>\n",
       "      <td>NaN</td>\n",
       "      <td>NaN</td>\n",
       "      <td>28.000000</td>\n",
       "      <td>0.000000</td>\n",
       "      <td>0.000000</td>\n",
       "      <td>NaN</td>\n",
       "      <td>14.454200</td>\n",
       "      <td>NaN</td>\n",
       "      <td>NaN</td>\n",
       "    </tr>\n",
       "    <tr>\n",
       "      <th>75%</th>\n",
       "      <td>668.500000</td>\n",
       "      <td>1.000000</td>\n",
       "      <td>3.000000</td>\n",
       "      <td>NaN</td>\n",
       "      <td>NaN</td>\n",
       "      <td>38.000000</td>\n",
       "      <td>1.000000</td>\n",
       "      <td>0.000000</td>\n",
       "      <td>NaN</td>\n",
       "      <td>31.000000</td>\n",
       "      <td>NaN</td>\n",
       "      <td>NaN</td>\n",
       "    </tr>\n",
       "    <tr>\n",
       "      <th>max</th>\n",
       "      <td>891.000000</td>\n",
       "      <td>1.000000</td>\n",
       "      <td>3.000000</td>\n",
       "      <td>NaN</td>\n",
       "      <td>NaN</td>\n",
       "      <td>80.000000</td>\n",
       "      <td>8.000000</td>\n",
       "      <td>6.000000</td>\n",
       "      <td>NaN</td>\n",
       "      <td>512.329200</td>\n",
       "      <td>NaN</td>\n",
       "      <td>NaN</td>\n",
       "    </tr>\n",
       "  </tbody>\n",
       "</table>\n",
       "</div>"
      ],
      "text/plain": [
       "        PassengerId    Survived      Pclass             Name   Sex  \\\n",
       "count    891.000000  891.000000  891.000000              891   891   \n",
       "unique          NaN         NaN         NaN              891     2   \n",
       "top             NaN         NaN         NaN  Adams, Mr. John  male   \n",
       "freq            NaN         NaN         NaN                1   577   \n",
       "mean     446.000000    0.383838    2.308642              NaN   NaN   \n",
       "std      257.353842    0.486592    0.836071              NaN   NaN   \n",
       "min        1.000000    0.000000    1.000000              NaN   NaN   \n",
       "25%      223.500000    0.000000    2.000000              NaN   NaN   \n",
       "50%      446.000000    0.000000    3.000000              NaN   NaN   \n",
       "75%      668.500000    1.000000    3.000000              NaN   NaN   \n",
       "max      891.000000    1.000000    3.000000              NaN   NaN   \n",
       "\n",
       "               Age       SibSp       Parch  Ticket        Fare    Cabin  \\\n",
       "count   714.000000  891.000000  891.000000     891  891.000000      204   \n",
       "unique         NaN         NaN         NaN     681         NaN      147   \n",
       "top            NaN         NaN         NaN  347082         NaN  B96 B98   \n",
       "freq           NaN         NaN         NaN       7         NaN        4   \n",
       "mean     29.699118    0.523008    0.381594     NaN   32.204208      NaN   \n",
       "std      14.526497    1.102743    0.806057     NaN   49.693429      NaN   \n",
       "min       0.420000    0.000000    0.000000     NaN    0.000000      NaN   \n",
       "25%      20.125000    0.000000    0.000000     NaN    7.910400      NaN   \n",
       "50%      28.000000    0.000000    0.000000     NaN   14.454200      NaN   \n",
       "75%      38.000000    1.000000    0.000000     NaN   31.000000      NaN   \n",
       "max      80.000000    8.000000    6.000000     NaN  512.329200      NaN   \n",
       "\n",
       "       Embarked  \n",
       "count       889  \n",
       "unique        3  \n",
       "top           S  \n",
       "freq        644  \n",
       "mean        NaN  \n",
       "std         NaN  \n",
       "min         NaN  \n",
       "25%         NaN  \n",
       "50%         NaN  \n",
       "75%         NaN  \n",
       "max         NaN  "
      ]
     },
     "execution_count": 5,
     "metadata": {},
     "output_type": "execute_result"
    }
   ],
   "source": [
    "# display\n",
    "if False: # test report\n",
    "    test_df.head()\n",
    "    test_df.info()\n",
    "    test_df.describe(include='all')\n",
    "if True: # Train report\n",
    "    train_df.head()\n",
    "    train_df.info()\n",
    "    #train_df.describe()\n",
    "    train_df.describe(include='all')"
   ]
  },
  {
   "cell_type": "markdown",
   "metadata": {},
   "source": [
    "## Missing values"
   ]
  },
  {
   "cell_type": "code",
   "execution_count": 6,
   "metadata": {
    "ExecuteTime": {
     "end_time": "2020-03-04T12:22:10.977245Z",
     "start_time": "2020-03-04T12:22:10.725765Z"
    }
   },
   "outputs": [
    {
     "data": {
      "text/plain": [
       "<matplotlib.axes._subplots.AxesSubplot at 0x237036e58c8>"
      ]
     },
     "execution_count": 6,
     "metadata": {},
     "output_type": "execute_result"
    },
    {
     "data": {
      "image/png": "[encoded data removed]",
      "text/plain": [
       "<Figure size 432x288 with 1 Axes>"
      ]
     },
     "metadata": {
      "needs_background": "light"
     },
     "output_type": "display_data"
    }
   ],
   "source": [
    "#heat map\n",
    "sns.heatmap(train_df.isnull(), cbar=False)"
   ]
  },
  {
   "cell_type": "markdown",
   "metadata": {},
   "source": [
    "## Full report"
   ]
  },
  {
   "cell_type": "code",
   "execution_count": 7,
   "metadata": {
    "ExecuteTime": {
     "end_time": "2020-03-04T12:22:10.982240Z",
     "start_time": "2020-03-04T12:22:10.978212Z"
    },
    "code_folding": [
     1,
     6
    ],
    "scrolled": true
   },
   "outputs": [],
   "source": [
    "#profile report inline\n",
    "if False: # Train Data report generation\n",
    "    profile_train = train_df.profile_report(title='Titanic train data') \n",
    "    profile_train.to_file(output_file=\"kaggle/profile_report/Titanic_train_data.html\") # save the report \n",
    "    profile_train # display inline\n",
    "if False: # Test Data report generation\n",
    "    profile_test = test_df.profile_report(title='Titanic test data')\n",
    "    profile_test.to_file(output_file=\"kaggle/profile_report/Titanic_test_data.html\") # save the report \n",
    "    profile_test # in order to display inline"
   ]
  },
  {
   "cell_type": "markdown",
   "metadata": {
    "ExecuteTime": {
     "end_time": "2020-03-03T14:51:33.399411Z",
     "start_time": "2020-03-03T14:51:33.395422Z"
    },
    "code_folding": []
   },
   "source": [
    "To do: \n",
    " 1. **Name**: Get title \n",
    " 2. **Age**: \n",
    "     - Estimate missing value\n",
    "     - Find children\n",
    "     - Band\n",
    " 3. **Sibs** & **Parch**: Get Familly Size\n",
    " 4. **Fare**: Band\n",
    " 5. **Embarked**: Estimate missing value\n",
    " 6. **Tiket** and **Cabin**: erase \n",
    " 7. Idea"
   ]
  },
  {
   "cell_type": "markdown",
   "metadata": {},
   "source": [
    "# Data Wrangling"
   ]
  },
  {
   "cell_type": "markdown",
   "metadata": {},
   "source": [
    "## Name"
   ]
  },
  {
   "cell_type": "markdown",
   "metadata": {},
   "source": [
    "### extract Title from Name"
   ]
  },
  {
   "cell_type": "code",
   "execution_count": 8,
   "metadata": {
    "ExecuteTime": {
     "end_time": "2020-03-04T12:22:11.036285Z",
     "start_time": "2020-03-04T12:22:10.983251Z"
    },
    "code_folding": []
   },
   "outputs": [
    {
     "data": {
      "text/html": [
       "<style  type=\"text/css\" >\n",
       "    #T_ea1ef90c_5e1e_11ea_8306_a46fff3d379frow0_col0 {\n",
       "            background-color:  #67000d;\n",
       "            color:  #f1f1f1;\n",
       "        }    #T_ea1ef90c_5e1e_11ea_8306_a46fff3d379frow1_col0 {\n",
       "            background-color:  #67000d;\n",
       "            color:  #f1f1f1;\n",
       "        }    #T_ea1ef90c_5e1e_11ea_8306_a46fff3d379frow2_col0 {\n",
       "            background-color:  #67000d;\n",
       "            color:  #f1f1f1;\n",
       "        }    #T_ea1ef90c_5e1e_11ea_8306_a46fff3d379frow3_col0 {\n",
       "            background-color:  #67000d;\n",
       "            color:  #f1f1f1;\n",
       "        }    #T_ea1ef90c_5e1e_11ea_8306_a46fff3d379frow4_col0 {\n",
       "            background-color:  #67000d;\n",
       "            color:  #f1f1f1;\n",
       "        }    #T_ea1ef90c_5e1e_11ea_8306_a46fff3d379frow5_col0 {\n",
       "            background-color:  #67000d;\n",
       "            color:  #f1f1f1;\n",
       "        }    #T_ea1ef90c_5e1e_11ea_8306_a46fff3d379frow6_col0 {\n",
       "            background-color:  #be151a;\n",
       "            color:  #f1f1f1;\n",
       "        }    #T_ea1ef90c_5e1e_11ea_8306_a46fff3d379frow7_col0 {\n",
       "            background-color:  #da2723;\n",
       "            color:  #f1f1f1;\n",
       "        }    #T_ea1ef90c_5e1e_11ea_8306_a46fff3d379frow8_col0 {\n",
       "            background-color:  #f44d38;\n",
       "            color:  #000000;\n",
       "        }    #T_ea1ef90c_5e1e_11ea_8306_a46fff3d379frow9_col0 {\n",
       "            background-color:  #fb694a;\n",
       "            color:  #000000;\n",
       "        }    #T_ea1ef90c_5e1e_11ea_8306_a46fff3d379frow10_col0 {\n",
       "            background-color:  #fb694a;\n",
       "            color:  #000000;\n",
       "        }    #T_ea1ef90c_5e1e_11ea_8306_a46fff3d379frow11_col0 {\n",
       "            background-color:  #fc8161;\n",
       "            color:  #000000;\n",
       "        }    #T_ea1ef90c_5e1e_11ea_8306_a46fff3d379frow12_col0 {\n",
       "            background-color:  #fdd7c6;\n",
       "            color:  #000000;\n",
       "        }    #T_ea1ef90c_5e1e_11ea_8306_a46fff3d379frow13_col0 {\n",
       "            background-color:  #fff5f0;\n",
       "            color:  #000000;\n",
       "        }    #T_ea1ef90c_5e1e_11ea_8306_a46fff3d379frow14_col0 {\n",
       "            background-color:  #fff5f0;\n",
       "            color:  #000000;\n",
       "        }    #T_ea1ef90c_5e1e_11ea_8306_a46fff3d379frow15_col0 {\n",
       "            background-color:  #fff5f0;\n",
       "            color:  #000000;\n",
       "        }    #T_ea1ef90c_5e1e_11ea_8306_a46fff3d379frow16_col0 {\n",
       "            background-color:  #fff5f0;\n",
       "            color:  #000000;\n",
       "        }</style><table id=\"T_ea1ef90c_5e1e_11ea_8306_a46fff3d379f\" ><thead>    <tr>        <th class=\"blank level0\" ></th>        <th class=\"col_heading level0 col0\" >Survived</th>    </tr>    <tr>        <th class=\"index_name level0\" >Title</th>        <th class=\"blank\" ></th>    </tr></thead><tbody>\n",
       "                <tr>\n",
       "                        <th id=\"T_ea1ef90c_5e1e_11ea_8306_a46fff3d379flevel0_row0\" class=\"row_heading level0 row0\" >Sir</th>\n",
       "                        <td id=\"T_ea1ef90c_5e1e_11ea_8306_a46fff3d379frow0_col0\" class=\"data row0 col0\" >1</td>\n",
       "            </tr>\n",
       "            <tr>\n",
       "                        <th id=\"T_ea1ef90c_5e1e_11ea_8306_a46fff3d379flevel0_row1\" class=\"row_heading level0 row1\" >Countess</th>\n",
       "                        <td id=\"T_ea1ef90c_5e1e_11ea_8306_a46fff3d379frow1_col0\" class=\"data row1 col0\" >1</td>\n",
       "            </tr>\n",
       "            <tr>\n",
       "                        <th id=\"T_ea1ef90c_5e1e_11ea_8306_a46fff3d379flevel0_row2\" class=\"row_heading level0 row2\" >Ms</th>\n",
       "                        <td id=\"T_ea1ef90c_5e1e_11ea_8306_a46fff3d379frow2_col0\" class=\"data row2 col0\" >1</td>\n",
       "            </tr>\n",
       "            <tr>\n",
       "                        <th id=\"T_ea1ef90c_5e1e_11ea_8306_a46fff3d379flevel0_row3\" class=\"row_heading level0 row3\" >Mme</th>\n",
       "                        <td id=\"T_ea1ef90c_5e1e_11ea_8306_a46fff3d379frow3_col0\" class=\"data row3 col0\" >1</td>\n",
       "            </tr>\n",
       "            <tr>\n",
       "                        <th id=\"T_ea1ef90c_5e1e_11ea_8306_a46fff3d379flevel0_row4\" class=\"row_heading level0 row4\" >Lady</th>\n",
       "                        <td id=\"T_ea1ef90c_5e1e_11ea_8306_a46fff3d379frow4_col0\" class=\"data row4 col0\" >1</td>\n",
       "            </tr>\n",
       "            <tr>\n",
       "                        <th id=\"T_ea1ef90c_5e1e_11ea_8306_a46fff3d379flevel0_row5\" class=\"row_heading level0 row5\" >Mlle</th>\n",
       "                        <td id=\"T_ea1ef90c_5e1e_11ea_8306_a46fff3d379frow5_col0\" class=\"data row5 col0\" >1</td>\n",
       "            </tr>\n",
       "            <tr>\n",
       "                        <th id=\"T_ea1ef90c_5e1e_11ea_8306_a46fff3d379flevel0_row6\" class=\"row_heading level0 row6\" >Mrs</th>\n",
       "                        <td id=\"T_ea1ef90c_5e1e_11ea_8306_a46fff3d379frow6_col0\" class=\"data row6 col0\" >0.792</td>\n",
       "            </tr>\n",
       "            <tr>\n",
       "                        <th id=\"T_ea1ef90c_5e1e_11ea_8306_a46fff3d379flevel0_row7\" class=\"row_heading level0 row7\" >Miss</th>\n",
       "                        <td id=\"T_ea1ef90c_5e1e_11ea_8306_a46fff3d379frow7_col0\" class=\"data row7 col0\" >0.697802</td>\n",
       "            </tr>\n",
       "            <tr>\n",
       "                        <th id=\"T_ea1ef90c_5e1e_11ea_8306_a46fff3d379flevel0_row8\" class=\"row_heading level0 row8\" >Master</th>\n",
       "                        <td id=\"T_ea1ef90c_5e1e_11ea_8306_a46fff3d379frow8_col0\" class=\"data row8 col0\" >0.575</td>\n",
       "            </tr>\n",
       "            <tr>\n",
       "                        <th id=\"T_ea1ef90c_5e1e_11ea_8306_a46fff3d379flevel0_row9\" class=\"row_heading level0 row9\" >Col</th>\n",
       "                        <td id=\"T_ea1ef90c_5e1e_11ea_8306_a46fff3d379frow9_col0\" class=\"data row9 col0\" >0.5</td>\n",
       "            </tr>\n",
       "            <tr>\n",
       "                        <th id=\"T_ea1ef90c_5e1e_11ea_8306_a46fff3d379flevel0_row10\" class=\"row_heading level0 row10\" >Major</th>\n",
       "                        <td id=\"T_ea1ef90c_5e1e_11ea_8306_a46fff3d379frow10_col0\" class=\"data row10 col0\" >0.5</td>\n",
       "            </tr>\n",
       "            <tr>\n",
       "                        <th id=\"T_ea1ef90c_5e1e_11ea_8306_a46fff3d379flevel0_row11\" class=\"row_heading level0 row11\" >Dr</th>\n",
       "                        <td id=\"T_ea1ef90c_5e1e_11ea_8306_a46fff3d379frow11_col0\" class=\"data row11 col0\" >0.428571</td>\n",
       "            </tr>\n",
       "            <tr>\n",
       "                        <th id=\"T_ea1ef90c_5e1e_11ea_8306_a46fff3d379flevel0_row12\" class=\"row_heading level0 row12\" >Mr</th>\n",
       "                        <td id=\"T_ea1ef90c_5e1e_11ea_8306_a46fff3d379frow12_col0\" class=\"data row12 col0\" >0.156673</td>\n",
       "            </tr>\n",
       "            <tr>\n",
       "                        <th id=\"T_ea1ef90c_5e1e_11ea_8306_a46fff3d379flevel0_row13\" class=\"row_heading level0 row13\" >Jonkheer</th>\n",
       "                        <td id=\"T_ea1ef90c_5e1e_11ea_8306_a46fff3d379frow13_col0\" class=\"data row13 col0\" >0</td>\n",
       "            </tr>\n",
       "            <tr>\n",
       "                        <th id=\"T_ea1ef90c_5e1e_11ea_8306_a46fff3d379flevel0_row14\" class=\"row_heading level0 row14\" >Don</th>\n",
       "                        <td id=\"T_ea1ef90c_5e1e_11ea_8306_a46fff3d379frow14_col0\" class=\"data row14 col0\" >0</td>\n",
       "            </tr>\n",
       "            <tr>\n",
       "                        <th id=\"T_ea1ef90c_5e1e_11ea_8306_a46fff3d379flevel0_row15\" class=\"row_heading level0 row15\" >Rev</th>\n",
       "                        <td id=\"T_ea1ef90c_5e1e_11ea_8306_a46fff3d379frow15_col0\" class=\"data row15 col0\" >0</td>\n",
       "            </tr>\n",
       "            <tr>\n",
       "                        <th id=\"T_ea1ef90c_5e1e_11ea_8306_a46fff3d379flevel0_row16\" class=\"row_heading level0 row16\" >Capt</th>\n",
       "                        <td id=\"T_ea1ef90c_5e1e_11ea_8306_a46fff3d379frow16_col0\" class=\"data row16 col0\" >0</td>\n",
       "            </tr>\n",
       "    </tbody></table>"
      ],
      "text/plain": [
       "<pandas.io.formats.style.Styler at 0x23702275648>"
      ]
     },
     "execution_count": 8,
     "metadata": {},
     "output_type": "execute_result"
    }
   ],
   "source": [
    "# extract Title\n",
    "for df in combo:\n",
    "    df['Title'] = df.Name.str.extract(' ([A-Za-z]+)\\.', expand=False)\n",
    "    \n",
    "#display    \n",
    "train_df[['Title','Survived']].groupby(['Title'],as_index=True).mean().sort_values(by='Survived',ascending=False).style.background_gradient(cmap='Reds')   "
   ]
  },
  {
   "cell_type": "markdown",
   "metadata": {},
   "source": [
    "### Regroup Title in Categories"
   ]
  },
  {
   "cell_type": "code",
   "execution_count": 9,
   "metadata": {
    "ExecuteTime": {
     "end_time": "2020-03-04T12:22:11.058211Z",
     "start_time": "2020-03-04T12:22:11.038229Z"
    }
   },
   "outputs": [
    {
     "data": {
      "text/html": [
       "<style  type=\"text/css\" >\n",
       "    #T_ea22781e_5e1e_11ea_8c9e_a46fff3d379frow0_col0 {\n",
       "            background-color:  #67000d;\n",
       "            color:  #f1f1f1;\n",
       "        }    #T_ea22781e_5e1e_11ea_8c9e_a46fff3d379frow1_col0 {\n",
       "            background-color:  #aa1016;\n",
       "            color:  #f1f1f1;\n",
       "        }    #T_ea22781e_5e1e_11ea_8c9e_a46fff3d379frow2_col0 {\n",
       "            background-color:  #e53228;\n",
       "            color:  #f1f1f1;\n",
       "        }    #T_ea22781e_5e1e_11ea_8c9e_a46fff3d379frow3_col0 {\n",
       "            background-color:  #fcab8f;\n",
       "            color:  #000000;\n",
       "        }    #T_ea22781e_5e1e_11ea_8c9e_a46fff3d379frow4_col0 {\n",
       "            background-color:  #fff5f0;\n",
       "            color:  #000000;\n",
       "        }</style><table id=\"T_ea22781e_5e1e_11ea_8c9e_a46fff3d379f\" ><thead>    <tr>        <th class=\"blank level0\" ></th>        <th class=\"col_heading level0 col0\" >Survived</th>    </tr>    <tr>        <th class=\"index_name level0\" >Title</th>        <th class=\"blank\" ></th>    </tr></thead><tbody>\n",
       "                <tr>\n",
       "                        <th id=\"T_ea22781e_5e1e_11ea_8c9e_a46fff3d379flevel0_row0\" class=\"row_heading level0 row0\" >Mrs</th>\n",
       "                        <td id=\"T_ea22781e_5e1e_11ea_8c9e_a46fff3d379frow0_col0\" class=\"data row0 col0\" >0.793651</td>\n",
       "            </tr>\n",
       "            <tr>\n",
       "                        <th id=\"T_ea22781e_5e1e_11ea_8c9e_a46fff3d379flevel0_row1\" class=\"row_heading level0 row1\" >Miss</th>\n",
       "                        <td id=\"T_ea22781e_5e1e_11ea_8c9e_a46fff3d379frow1_col0\" class=\"data row1 col0\" >0.702703</td>\n",
       "            </tr>\n",
       "            <tr>\n",
       "                        <th id=\"T_ea22781e_5e1e_11ea_8c9e_a46fff3d379flevel0_row2\" class=\"row_heading level0 row2\" >Master</th>\n",
       "                        <td id=\"T_ea22781e_5e1e_11ea_8c9e_a46fff3d379frow2_col0\" class=\"data row2 col0\" >0.575</td>\n",
       "            </tr>\n",
       "            <tr>\n",
       "                        <th id=\"T_ea22781e_5e1e_11ea_8c9e_a46fff3d379flevel0_row3\" class=\"row_heading level0 row3\" >Rare</th>\n",
       "                        <td id=\"T_ea22781e_5e1e_11ea_8c9e_a46fff3d379frow3_col0\" class=\"data row3 col0\" >0.347826</td>\n",
       "            </tr>\n",
       "            <tr>\n",
       "                        <th id=\"T_ea22781e_5e1e_11ea_8c9e_a46fff3d379flevel0_row4\" class=\"row_heading level0 row4\" >Mr</th>\n",
       "                        <td id=\"T_ea22781e_5e1e_11ea_8c9e_a46fff3d379frow4_col0\" class=\"data row4 col0\" >0.156673</td>\n",
       "            </tr>\n",
       "    </tbody></table>"
      ],
      "text/plain": [
       "<pandas.io.formats.style.Styler at 0x23703a8c888>"
      ]
     },
     "execution_count": 9,
     "metadata": {},
     "output_type": "execute_result"
    }
   ],
   "source": [
    "for df in combo:\n",
    "    #Rare Titles\n",
    "    df['Title'] = df['Title'].replace(['Lady', 'Countess','Capt', 'Col','Don', 'Dr', 'Major', 'Rev', 'Sir', 'Jonkheer', 'Dona'], 'Rare')\n",
    "    \n",
    "    #Miss, Mlle, Ms,Mme and so on\n",
    "    df['Title'] = df['Title'].replace('Mlle', 'Miss')\n",
    "    df['Title'] = df['Title'].replace('Ms', 'Miss')\n",
    "    df['Title'] = df['Title'].replace('Mme', 'Mrs')\n",
    "    \n",
    "#display    \n",
    "train_df[['Title','Survived']].groupby(['Title'],as_index=True).mean().sort_values(by='Survived',ascending=False).style.background_gradient(cmap='Reds')  "
   ]
  },
  {
   "cell_type": "markdown",
   "metadata": {},
   "source": [
    "## Sibs & Parch"
   ]
  },
  {
   "cell_type": "code",
   "execution_count": 10,
   "metadata": {
    "ExecuteTime": {
     "end_time": "2020-03-04T12:22:11.065158Z",
     "start_time": "2020-03-04T12:22:11.059213Z"
    }
   },
   "outputs": [],
   "source": [
    "for df in combo:\n",
    "    df['FamilySize'] = df.SibSp + df.Parch + 1   \n",
    "    #df.drop(['SibSp','Parch'],axis=True,inplace=True)"
   ]
  },
  {
   "cell_type": "code",
   "execution_count": 11,
   "metadata": {
    "ExecuteTime": {
     "end_time": "2020-03-04T12:22:11.082142Z",
     "start_time": "2020-03-04T12:22:11.067152Z"
    },
    "scrolled": true
   },
   "outputs": [
    {
     "data": {
      "text/html": [
       "<style  type=\"text/css\" >\n",
       "    #T_ea264668_5e1e_11ea_839b_a46fff3d379frow0_col0 {\n",
       "            background-color:  #fc8464;\n",
       "            color:  #000000;\n",
       "        }    #T_ea264668_5e1e_11ea_839b_a46fff3d379frow1_col0 {\n",
       "            background-color:  #c7171c;\n",
       "            color:  #f1f1f1;\n",
       "        }    #T_ea264668_5e1e_11ea_839b_a46fff3d379frow2_col0 {\n",
       "            background-color:  #bc141a;\n",
       "            color:  #f1f1f1;\n",
       "        }    #T_ea264668_5e1e_11ea_839b_a46fff3d379frow3_col0 {\n",
       "            background-color:  #67000d;\n",
       "            color:  #f1f1f1;\n",
       "        }    #T_ea264668_5e1e_11ea_839b_a46fff3d379frow4_col0 {\n",
       "            background-color:  #fcb398;\n",
       "            color:  #000000;\n",
       "        }    #T_ea264668_5e1e_11ea_839b_a46fff3d379frow5_col0 {\n",
       "            background-color:  #fdcdb9;\n",
       "            color:  #000000;\n",
       "        }    #T_ea264668_5e1e_11ea_839b_a46fff3d379frow6_col0 {\n",
       "            background-color:  #fb7757;\n",
       "            color:  #000000;\n",
       "        }    #T_ea264668_5e1e_11ea_839b_a46fff3d379frow7_col0 {\n",
       "            background-color:  #fff5f0;\n",
       "            color:  #000000;\n",
       "        }    #T_ea264668_5e1e_11ea_839b_a46fff3d379frow8_col0 {\n",
       "            background-color:  #fff5f0;\n",
       "            color:  #000000;\n",
       "        }</style><table id=\"T_ea264668_5e1e_11ea_839b_a46fff3d379f\" ><thead>    <tr>        <th class=\"blank level0\" ></th>        <th class=\"col_heading level0 col0\" >Survived</th>    </tr>    <tr>        <th class=\"index_name level0\" >FamilySize</th>        <th class=\"blank\" ></th>    </tr></thead><tbody>\n",
       "                <tr>\n",
       "                        <th id=\"T_ea264668_5e1e_11ea_839b_a46fff3d379flevel0_row0\" class=\"row_heading level0 row0\" >1</th>\n",
       "                        <td id=\"T_ea264668_5e1e_11ea_839b_a46fff3d379frow0_col0\" class=\"data row0 col0\" >0.303538</td>\n",
       "            </tr>\n",
       "            <tr>\n",
       "                        <th id=\"T_ea264668_5e1e_11ea_839b_a46fff3d379flevel0_row1\" class=\"row_heading level0 row1\" >2</th>\n",
       "                        <td id=\"T_ea264668_5e1e_11ea_839b_a46fff3d379frow1_col0\" class=\"data row1 col0\" >0.552795</td>\n",
       "            </tr>\n",
       "            <tr>\n",
       "                        <th id=\"T_ea264668_5e1e_11ea_839b_a46fff3d379flevel0_row2\" class=\"row_heading level0 row2\" >3</th>\n",
       "                        <td id=\"T_ea264668_5e1e_11ea_839b_a46fff3d379frow2_col0\" class=\"data row2 col0\" >0.578431</td>\n",
       "            </tr>\n",
       "            <tr>\n",
       "                        <th id=\"T_ea264668_5e1e_11ea_839b_a46fff3d379flevel0_row3\" class=\"row_heading level0 row3\" >4</th>\n",
       "                        <td id=\"T_ea264668_5e1e_11ea_839b_a46fff3d379frow3_col0\" class=\"data row3 col0\" >0.724138</td>\n",
       "            </tr>\n",
       "            <tr>\n",
       "                        <th id=\"T_ea264668_5e1e_11ea_839b_a46fff3d379flevel0_row4\" class=\"row_heading level0 row4\" >5</th>\n",
       "                        <td id=\"T_ea264668_5e1e_11ea_839b_a46fff3d379frow4_col0\" class=\"data row4 col0\" >0.2</td>\n",
       "            </tr>\n",
       "            <tr>\n",
       "                        <th id=\"T_ea264668_5e1e_11ea_839b_a46fff3d379flevel0_row5\" class=\"row_heading level0 row5\" >6</th>\n",
       "                        <td id=\"T_ea264668_5e1e_11ea_839b_a46fff3d379frow5_col0\" class=\"data row5 col0\" >0.136364</td>\n",
       "            </tr>\n",
       "            <tr>\n",
       "                        <th id=\"T_ea264668_5e1e_11ea_839b_a46fff3d379flevel0_row6\" class=\"row_heading level0 row6\" >7</th>\n",
       "                        <td id=\"T_ea264668_5e1e_11ea_839b_a46fff3d379frow6_col0\" class=\"data row6 col0\" >0.333333</td>\n",
       "            </tr>\n",
       "            <tr>\n",
       "                        <th id=\"T_ea264668_5e1e_11ea_839b_a46fff3d379flevel0_row7\" class=\"row_heading level0 row7\" >8</th>\n",
       "                        <td id=\"T_ea264668_5e1e_11ea_839b_a46fff3d379frow7_col0\" class=\"data row7 col0\" >0</td>\n",
       "            </tr>\n",
       "            <tr>\n",
       "                        <th id=\"T_ea264668_5e1e_11ea_839b_a46fff3d379flevel0_row8\" class=\"row_heading level0 row8\" >11</th>\n",
       "                        <td id=\"T_ea264668_5e1e_11ea_839b_a46fff3d379frow8_col0\" class=\"data row8 col0\" >0</td>\n",
       "            </tr>\n",
       "    </tbody></table>"
      ],
      "text/plain": [
       "<pandas.io.formats.style.Styler at 0x23703afb6c8>"
      ]
     },
     "execution_count": 11,
     "metadata": {},
     "output_type": "execute_result"
    }
   ],
   "source": [
    "train_df[['FamilySize','Survived']].groupby('FamilySize',as_index=True).mean().sort_values('FamilySize',ascending=True).style.background_gradient(cmap='Reds')"
   ]
  },
  {
   "cell_type": "markdown",
   "metadata": {},
   "source": [
    "## Fare"
   ]
  },
  {
   "cell_type": "code",
   "execution_count": 12,
   "metadata": {
    "ExecuteTime": {
     "end_time": "2020-03-04T12:22:11.096120Z",
     "start_time": "2020-03-04T12:22:11.083109Z"
    },
    "scrolled": true
   },
   "outputs": [
    {
     "data": {
      "text/html": [
       "<div>\n",
       "<style scoped>\n",
       "    .dataframe tbody tr th:only-of-type {\n",
       "        vertical-align: middle;\n",
       "    }\n",
       "\n",
       "    .dataframe tbody tr th {\n",
       "        vertical-align: top;\n",
       "    }\n",
       "\n",
       "    .dataframe thead th {\n",
       "        text-align: right;\n",
       "    }\n",
       "</style>\n",
       "<table border=\"1\" class=\"dataframe\">\n",
       "  <thead>\n",
       "    <tr style=\"text-align: right;\">\n",
       "      <th></th>\n",
       "      <th>PassengerId</th>\n",
       "      <th>Pclass</th>\n",
       "      <th>Name</th>\n",
       "      <th>Sex</th>\n",
       "      <th>Age</th>\n",
       "      <th>SibSp</th>\n",
       "      <th>Parch</th>\n",
       "      <th>Ticket</th>\n",
       "      <th>Fare</th>\n",
       "      <th>Cabin</th>\n",
       "      <th>Embarked</th>\n",
       "      <th>Title</th>\n",
       "      <th>FamilySize</th>\n",
       "    </tr>\n",
       "  </thead>\n",
       "  <tbody>\n",
       "    <tr>\n",
       "      <th>152</th>\n",
       "      <td>1044</td>\n",
       "      <td>3</td>\n",
       "      <td>Storey, Mr. Thomas</td>\n",
       "      <td>male</td>\n",
       "      <td>60.5</td>\n",
       "      <td>0</td>\n",
       "      <td>0</td>\n",
       "      <td>3701</td>\n",
       "      <td>NaN</td>\n",
       "      <td>NaN</td>\n",
       "      <td>S</td>\n",
       "      <td>Mr</td>\n",
       "      <td>1</td>\n",
       "    </tr>\n",
       "  </tbody>\n",
       "</table>\n",
       "</div>"
      ],
      "text/plain": [
       "     PassengerId  Pclass                Name   Sex   Age  SibSp  Parch Ticket  \\\n",
       "152         1044       3  Storey, Mr. Thomas  male  60.5      0      0   3701   \n",
       "\n",
       "     Fare Cabin Embarked Title  FamilySize  \n",
       "152   NaN   NaN        S    Mr           1  "
      ]
     },
     "execution_count": 12,
     "metadata": {},
     "output_type": "execute_result"
    }
   ],
   "source": [
    "test_df.loc[test_df.Fare.isna()]"
   ]
  },
  {
   "cell_type": "code",
   "execution_count": 13,
   "metadata": {
    "ExecuteTime": {
     "end_time": "2020-03-04T12:22:11.106050Z",
     "start_time": "2020-03-04T12:22:11.097073Z"
    }
   },
   "outputs": [
    {
     "data": {
      "text/plain": [
       "8.05"
      ]
     },
     "execution_count": 13,
     "metadata": {},
     "output_type": "execute_result"
    }
   ],
   "source": [
    "median_train=train_df.loc[(train_df.Pclass==3)&\n",
    "             (train_df.Sex=='male')&\n",
    "             (train_df.Embarked=='S')]['Fare'].median()\n",
    "median_train"
   ]
  },
  {
   "cell_type": "code",
   "execution_count": 14,
   "metadata": {
    "ExecuteTime": {
     "end_time": "2020-03-04T12:22:11.113029Z",
     "start_time": "2020-03-04T12:22:11.107047Z"
    }
   },
   "outputs": [],
   "source": [
    "# replace missing value by median considering known information\n",
    "test_df.loc[test_df.Fare.isna(),'Fare']=median_train"
   ]
  },
  {
   "cell_type": "code",
   "execution_count": 15,
   "metadata": {
    "ExecuteTime": {
     "end_time": "2020-03-04T12:22:15.523941Z",
     "start_time": "2020-03-04T12:22:15.518909Z"
    }
   },
   "outputs": [
    {
     "data": {
      "text/plain": [
       "0.0"
      ]
     },
     "execution_count": 15,
     "metadata": {},
     "output_type": "execute_result"
    }
   ],
   "source": [
    "#check for more missing value\n",
    "test_df.loc[test_df.Fare.isna()]['Fare'].sum()"
   ]
  },
  {
   "cell_type": "markdown",
   "metadata": {},
   "source": [
    "## Embarked"
   ]
  },
  {
   "cell_type": "markdown",
   "metadata": {},
   "source": [
    "### Missing Value"
   ]
  },
  {
   "cell_type": "code",
   "execution_count": 16,
   "metadata": {
    "ExecuteTime": {
     "end_time": "2020-03-04T12:22:21.932761Z",
     "start_time": "2020-03-04T12:22:21.915283Z"
    },
    "scrolled": true
   },
   "outputs": [
    {
     "data": {
      "text/html": [
       "<div>\n",
       "<style scoped>\n",
       "    .dataframe tbody tr th:only-of-type {\n",
       "        vertical-align: middle;\n",
       "    }\n",
       "\n",
       "    .dataframe tbody tr th {\n",
       "        vertical-align: top;\n",
       "    }\n",
       "\n",
       "    .dataframe thead th {\n",
       "        text-align: right;\n",
       "    }\n",
       "</style>\n",
       "<table border=\"1\" class=\"dataframe\">\n",
       "  <thead>\n",
       "    <tr style=\"text-align: right;\">\n",
       "      <th></th>\n",
       "      <th>PassengerId</th>\n",
       "      <th>Survived</th>\n",
       "      <th>Pclass</th>\n",
       "      <th>Name</th>\n",
       "      <th>Sex</th>\n",
       "      <th>Age</th>\n",
       "      <th>SibSp</th>\n",
       "      <th>Parch</th>\n",
       "      <th>Ticket</th>\n",
       "      <th>Fare</th>\n",
       "      <th>Cabin</th>\n",
       "      <th>Embarked</th>\n",
       "      <th>Title</th>\n",
       "      <th>FamilySize</th>\n",
       "    </tr>\n",
       "  </thead>\n",
       "  <tbody>\n",
       "    <tr>\n",
       "      <th>61</th>\n",
       "      <td>62</td>\n",
       "      <td>1</td>\n",
       "      <td>1</td>\n",
       "      <td>Icard, Miss. Amelie</td>\n",
       "      <td>female</td>\n",
       "      <td>38.0</td>\n",
       "      <td>0</td>\n",
       "      <td>0</td>\n",
       "      <td>113572</td>\n",
       "      <td>80.0</td>\n",
       "      <td>B28</td>\n",
       "      <td>NaN</td>\n",
       "      <td>Miss</td>\n",
       "      <td>1</td>\n",
       "    </tr>\n",
       "    <tr>\n",
       "      <th>829</th>\n",
       "      <td>830</td>\n",
       "      <td>1</td>\n",
       "      <td>1</td>\n",
       "      <td>Stone, Mrs. George Nelson (Martha Evelyn)</td>\n",
       "      <td>female</td>\n",
       "      <td>62.0</td>\n",
       "      <td>0</td>\n",
       "      <td>0</td>\n",
       "      <td>113572</td>\n",
       "      <td>80.0</td>\n",
       "      <td>B28</td>\n",
       "      <td>NaN</td>\n",
       "      <td>Mrs</td>\n",
       "      <td>1</td>\n",
       "    </tr>\n",
       "  </tbody>\n",
       "</table>\n",
       "</div>"
      ],
      "text/plain": [
       "     PassengerId  Survived  Pclass                                       Name  \\\n",
       "61            62         1       1                        Icard, Miss. Amelie   \n",
       "829          830         1       1  Stone, Mrs. George Nelson (Martha Evelyn)   \n",
       "\n",
       "        Sex   Age  SibSp  Parch  Ticket  Fare Cabin Embarked Title  FamilySize  \n",
       "61   female  38.0      0      0  113572  80.0   B28      NaN  Miss           1  \n",
       "829  female  62.0      0      0  113572  80.0   B28      NaN   Mrs           1  "
      ]
     },
     "execution_count": 16,
     "metadata": {},
     "output_type": "execute_result"
    },
    {
     "data": {
      "text/html": [
       "<div>\n",
       "<style scoped>\n",
       "    .dataframe tbody tr th:only-of-type {\n",
       "        vertical-align: middle;\n",
       "    }\n",
       "\n",
       "    .dataframe tbody tr th {\n",
       "        vertical-align: top;\n",
       "    }\n",
       "\n",
       "    .dataframe thead th {\n",
       "        text-align: right;\n",
       "    }\n",
       "</style>\n",
       "<table border=\"1\" class=\"dataframe\">\n",
       "  <thead>\n",
       "    <tr style=\"text-align: right;\">\n",
       "      <th></th>\n",
       "      <th>PassengerId</th>\n",
       "      <th>Pclass</th>\n",
       "      <th>Name</th>\n",
       "      <th>Sex</th>\n",
       "      <th>Age</th>\n",
       "      <th>SibSp</th>\n",
       "      <th>Parch</th>\n",
       "      <th>Ticket</th>\n",
       "      <th>Fare</th>\n",
       "      <th>Cabin</th>\n",
       "      <th>Embarked</th>\n",
       "      <th>Title</th>\n",
       "      <th>FamilySize</th>\n",
       "    </tr>\n",
       "  </thead>\n",
       "  <tbody>\n",
       "  </tbody>\n",
       "</table>\n",
       "</div>"
      ],
      "text/plain": [
       "Empty DataFrame\n",
       "Columns: [PassengerId, Pclass, Name, Sex, Age, SibSp, Parch, Ticket, Fare, Cabin, Embarked, Title, FamilySize]\n",
       "Index: []"
      ]
     },
     "execution_count": 16,
     "metadata": {},
     "output_type": "execute_result"
    }
   ],
   "source": [
    "train_df.loc[train_df.Embarked.isna()]\n",
    "test_df.loc[test_df.Embarked.isna()]"
   ]
  },
  {
   "cell_type": "markdown",
   "metadata": {},
   "source": [
    "**Comment:**\n",
    " - The First class Ladies share a cabin and a Tiket but are not from the same family, probably friends allthough they have a significant age difference\n",
    " - Let's check the Fare statistic"
   ]
  },
  {
   "cell_type": "code",
   "execution_count": 17,
   "metadata": {
    "ExecuteTime": {
     "end_time": "2020-03-04T12:22:23.493198Z",
     "start_time": "2020-03-04T12:22:23.442133Z"
    },
    "scrolled": true
   },
   "outputs": [
    {
     "data": {
      "text/html": [
       "<div>\n",
       "<style scoped>\n",
       "    .dataframe tbody tr th:only-of-type {\n",
       "        vertical-align: middle;\n",
       "    }\n",
       "\n",
       "    .dataframe tbody tr th {\n",
       "        vertical-align: top;\n",
       "    }\n",
       "\n",
       "    .dataframe thead tr th {\n",
       "        text-align: left;\n",
       "    }\n",
       "\n",
       "    .dataframe thead tr:last-of-type th {\n",
       "        text-align: right;\n",
       "    }\n",
       "</style>\n",
       "<table border=\"1\" class=\"dataframe\">\n",
       "  <thead>\n",
       "    <tr>\n",
       "      <th></th>\n",
       "      <th></th>\n",
       "      <th colspan=\"8\" halign=\"left\">Fare</th>\n",
       "    </tr>\n",
       "    <tr>\n",
       "      <th></th>\n",
       "      <th></th>\n",
       "      <th>count</th>\n",
       "      <th>mean</th>\n",
       "      <th>std</th>\n",
       "      <th>min</th>\n",
       "      <th>25%</th>\n",
       "      <th>50%</th>\n",
       "      <th>75%</th>\n",
       "      <th>max</th>\n",
       "    </tr>\n",
       "    <tr>\n",
       "      <th>Pclass</th>\n",
       "      <th>Embarked</th>\n",
       "      <th></th>\n",
       "      <th></th>\n",
       "      <th></th>\n",
       "      <th></th>\n",
       "      <th></th>\n",
       "      <th></th>\n",
       "      <th></th>\n",
       "      <th></th>\n",
       "    </tr>\n",
       "  </thead>\n",
       "  <tbody>\n",
       "    <tr>\n",
       "      <th rowspan=\"3\" valign=\"top\">1</th>\n",
       "      <th>C</th>\n",
       "      <td>85.0</td>\n",
       "      <td>104.718529</td>\n",
       "      <td>99.093935</td>\n",
       "      <td>26.5500</td>\n",
       "      <td>49.5000</td>\n",
       "      <td>78.2667</td>\n",
       "      <td>110.883300</td>\n",
       "      <td>512.3292</td>\n",
       "    </tr>\n",
       "    <tr>\n",
       "      <th>Q</th>\n",
       "      <td>2.0</td>\n",
       "      <td>90.000000</td>\n",
       "      <td>0.000000</td>\n",
       "      <td>90.0000</td>\n",
       "      <td>90.0000</td>\n",
       "      <td>90.0000</td>\n",
       "      <td>90.000000</td>\n",
       "      <td>90.0000</td>\n",
       "    </tr>\n",
       "    <tr>\n",
       "      <th>S</th>\n",
       "      <td>127.0</td>\n",
       "      <td>70.364862</td>\n",
       "      <td>58.811278</td>\n",
       "      <td>0.0000</td>\n",
       "      <td>29.2500</td>\n",
       "      <td>52.0000</td>\n",
       "      <td>83.475000</td>\n",
       "      <td>263.0000</td>\n",
       "    </tr>\n",
       "    <tr>\n",
       "      <th rowspan=\"3\" valign=\"top\">2</th>\n",
       "      <th>C</th>\n",
       "      <td>17.0</td>\n",
       "      <td>25.358335</td>\n",
       "      <td>11.345067</td>\n",
       "      <td>12.0000</td>\n",
       "      <td>13.8625</td>\n",
       "      <td>24.0000</td>\n",
       "      <td>37.004200</td>\n",
       "      <td>41.5792</td>\n",
       "    </tr>\n",
       "    <tr>\n",
       "      <th>Q</th>\n",
       "      <td>3.0</td>\n",
       "      <td>12.350000</td>\n",
       "      <td>0.000000</td>\n",
       "      <td>12.3500</td>\n",
       "      <td>12.3500</td>\n",
       "      <td>12.3500</td>\n",
       "      <td>12.350000</td>\n",
       "      <td>12.3500</td>\n",
       "    </tr>\n",
       "    <tr>\n",
       "      <th>S</th>\n",
       "      <td>164.0</td>\n",
       "      <td>20.327439</td>\n",
       "      <td>13.630741</td>\n",
       "      <td>0.0000</td>\n",
       "      <td>13.0000</td>\n",
       "      <td>13.5000</td>\n",
       "      <td>26.000000</td>\n",
       "      <td>73.5000</td>\n",
       "    </tr>\n",
       "    <tr>\n",
       "      <th rowspan=\"3\" valign=\"top\">3</th>\n",
       "      <th>C</th>\n",
       "      <td>66.0</td>\n",
       "      <td>11.214083</td>\n",
       "      <td>4.871528</td>\n",
       "      <td>4.0125</td>\n",
       "      <td>7.2292</td>\n",
       "      <td>7.8958</td>\n",
       "      <td>14.458300</td>\n",
       "      <td>22.3583</td>\n",
       "    </tr>\n",
       "    <tr>\n",
       "      <th>Q</th>\n",
       "      <td>72.0</td>\n",
       "      <td>11.183393</td>\n",
       "      <td>6.721677</td>\n",
       "      <td>6.7500</td>\n",
       "      <td>7.7500</td>\n",
       "      <td>7.7500</td>\n",
       "      <td>10.218725</td>\n",
       "      <td>29.1250</td>\n",
       "    </tr>\n",
       "    <tr>\n",
       "      <th>S</th>\n",
       "      <td>353.0</td>\n",
       "      <td>14.644083</td>\n",
       "      <td>13.276609</td>\n",
       "      <td>0.0000</td>\n",
       "      <td>7.8542</td>\n",
       "      <td>8.0500</td>\n",
       "      <td>16.100000</td>\n",
       "      <td>69.5500</td>\n",
       "    </tr>\n",
       "  </tbody>\n",
       "</table>\n",
       "</div>"
      ],
      "text/plain": [
       "                  Fare                                                    \\\n",
       "                 count        mean        std      min      25%      50%   \n",
       "Pclass Embarked                                                            \n",
       "1      C          85.0  104.718529  99.093935  26.5500  49.5000  78.2667   \n",
       "       Q           2.0   90.000000   0.000000  90.0000  90.0000  90.0000   \n",
       "       S         127.0   70.364862  58.811278   0.0000  29.2500  52.0000   \n",
       "2      C          17.0   25.358335  11.345067  12.0000  13.8625  24.0000   \n",
       "       Q           3.0   12.350000   0.000000  12.3500  12.3500  12.3500   \n",
       "       S         164.0   20.327439  13.630741   0.0000  13.0000  13.5000   \n",
       "3      C          66.0   11.214083   4.871528   4.0125   7.2292   7.8958   \n",
       "       Q          72.0   11.183393   6.721677   6.7500   7.7500   7.7500   \n",
       "       S         353.0   14.644083  13.276609   0.0000   7.8542   8.0500   \n",
       "\n",
       "                                       \n",
       "                        75%       max  \n",
       "Pclass Embarked                        \n",
       "1      C         110.883300  512.3292  \n",
       "       Q          90.000000   90.0000  \n",
       "       S          83.475000  263.0000  \n",
       "2      C          37.004200   41.5792  \n",
       "       Q          12.350000   12.3500  \n",
       "       S          26.000000   73.5000  \n",
       "3      C          14.458300   22.3583  \n",
       "       Q          10.218725   29.1250  \n",
       "       S          16.100000   69.5500  "
      ]
     },
     "execution_count": 17,
     "metadata": {},
     "output_type": "execute_result"
    }
   ],
   "source": [
    "train_df[['Pclass','Fare','Embarked']].dropna().groupby(['Pclass','Embarked'],as_index=True).describe()"
   ]
  },
  {
   "cell_type": "code",
   "execution_count": 18,
   "metadata": {
    "ExecuteTime": {
     "end_time": "2020-03-04T12:22:27.440322Z",
     "start_time": "2020-03-04T12:22:27.140458Z"
    }
   },
   "outputs": [
    {
     "data": {
      "text/plain": [
       "<matplotlib.lines.Line2D at 0x2376f02fe48>"
      ]
     },
     "execution_count": 18,
     "metadata": {},
     "output_type": "execute_result"
    },
    {
     "data": {
      "image/png": "[encoded data removed]",
      "text/plain": [
       "<Figure size 864x432 with 1 Axes>"
      ]
     },
     "metadata": {
      "needs_background": "light"
     },
     "output_type": "display_data"
    }
   ],
   "source": [
    "Fare_price=train_df.loc[train_df.PassengerId==62,'Fare'].values[0]\n",
    "ax=train_df[['Pclass','Fare','Embarked']].dropna().boxplot(column='Fare',by=['Embarked','Pclass'],figsize=(12,6))\n",
    "ax.axhline(y=Fare_price, color=\"red\",linewidth=2,linestyle='dotted')"
   ]
  },
  {
   "cell_type": "markdown",
   "metadata": {},
   "source": [
    "They would likly have Embarked in **Cherbourg** since:\n",
    "- the median of C is about **80**, And have a significant 1st class embarkation\n",
    "- Q have only embarked two 1st class its median is  90\n",
    "- S 1st Class median is arround 50"
   ]
  },
  {
   "cell_type": "code",
   "execution_count": 19,
   "metadata": {
    "ExecuteTime": {
     "end_time": "2020-03-04T12:22:31.768936Z",
     "start_time": "2020-03-04T12:22:31.763833Z"
    }
   },
   "outputs": [],
   "source": [
    "#fill missing \n",
    "train_df.loc[train_df.Embarked.isna(),'Embarked']='C'"
   ]
  },
  {
   "cell_type": "code",
   "execution_count": 20,
   "metadata": {
    "ExecuteTime": {
     "end_time": "2020-03-04T12:22:32.053960Z",
     "start_time": "2020-03-04T12:22:32.046007Z"
    }
   },
   "outputs": [
    {
     "data": {
      "text/html": [
       "<div>\n",
       "<style scoped>\n",
       "    .dataframe tbody tr th:only-of-type {\n",
       "        vertical-align: middle;\n",
       "    }\n",
       "\n",
       "    .dataframe tbody tr th {\n",
       "        vertical-align: top;\n",
       "    }\n",
       "\n",
       "    .dataframe thead th {\n",
       "        text-align: right;\n",
       "    }\n",
       "</style>\n",
       "<table border=\"1\" class=\"dataframe\">\n",
       "  <thead>\n",
       "    <tr style=\"text-align: right;\">\n",
       "      <th></th>\n",
       "      <th>PassengerId</th>\n",
       "      <th>Survived</th>\n",
       "      <th>Pclass</th>\n",
       "      <th>Name</th>\n",
       "      <th>Sex</th>\n",
       "      <th>Age</th>\n",
       "      <th>SibSp</th>\n",
       "      <th>Parch</th>\n",
       "      <th>Ticket</th>\n",
       "      <th>Fare</th>\n",
       "      <th>Cabin</th>\n",
       "      <th>Embarked</th>\n",
       "      <th>Title</th>\n",
       "      <th>FamilySize</th>\n",
       "    </tr>\n",
       "  </thead>\n",
       "  <tbody>\n",
       "  </tbody>\n",
       "</table>\n",
       "</div>"
      ],
      "text/plain": [
       "Empty DataFrame\n",
       "Columns: [PassengerId, Survived, Pclass, Name, Sex, Age, SibSp, Parch, Ticket, Fare, Cabin, Embarked, Title, FamilySize]\n",
       "Index: []"
      ]
     },
     "execution_count": 20,
     "metadata": {},
     "output_type": "execute_result"
    }
   ],
   "source": [
    "#check\n",
    "train_df.loc[train_df.Embarked.isna()]"
   ]
  },
  {
   "cell_type": "markdown",
   "metadata": {},
   "source": [
    "## New Ideas"
   ]
  },
  {
   "cell_type": "code",
   "execution_count": 21,
   "metadata": {
    "ExecuteTime": {
     "end_time": "2020-03-04T12:22:36.648878Z",
     "start_time": "2020-03-04T12:22:36.634920Z"
    },
    "scrolled": true
   },
   "outputs": [
    {
     "data": {
      "text/html": [
       "<div>\n",
       "<style scoped>\n",
       "    .dataframe tbody tr th:only-of-type {\n",
       "        vertical-align: middle;\n",
       "    }\n",
       "\n",
       "    .dataframe tbody tr th {\n",
       "        vertical-align: top;\n",
       "    }\n",
       "\n",
       "    .dataframe thead th {\n",
       "        text-align: right;\n",
       "    }\n",
       "</style>\n",
       "<table border=\"1\" class=\"dataframe\">\n",
       "  <thead>\n",
       "    <tr style=\"text-align: right;\">\n",
       "      <th></th>\n",
       "      <th>PassengerId</th>\n",
       "      <th>Survived</th>\n",
       "      <th>Pclass</th>\n",
       "      <th>Name</th>\n",
       "      <th>Sex</th>\n",
       "      <th>Age</th>\n",
       "      <th>SibSp</th>\n",
       "      <th>Parch</th>\n",
       "      <th>Ticket</th>\n",
       "      <th>Fare</th>\n",
       "      <th>Cabin</th>\n",
       "      <th>Embarked</th>\n",
       "      <th>Title</th>\n",
       "      <th>FamilySize</th>\n",
       "    </tr>\n",
       "  </thead>\n",
       "  <tbody>\n",
       "    <tr>\n",
       "      <th>8</th>\n",
       "      <td>9</td>\n",
       "      <td>1</td>\n",
       "      <td>3</td>\n",
       "      <td>Johnson, Mrs. Oscar W (Elisabeth Vilhelmina Berg)</td>\n",
       "      <td>female</td>\n",
       "      <td>27.0</td>\n",
       "      <td>0</td>\n",
       "      <td>2</td>\n",
       "      <td>347742</td>\n",
       "      <td>11.1333</td>\n",
       "      <td>NaN</td>\n",
       "      <td>S</td>\n",
       "      <td>Mrs</td>\n",
       "      <td>3</td>\n",
       "    </tr>\n",
       "    <tr>\n",
       "      <th>25</th>\n",
       "      <td>26</td>\n",
       "      <td>1</td>\n",
       "      <td>3</td>\n",
       "      <td>Asplund, Mrs. Carl Oscar (Selma Augusta Emilia...</td>\n",
       "      <td>female</td>\n",
       "      <td>38.0</td>\n",
       "      <td>1</td>\n",
       "      <td>5</td>\n",
       "      <td>347077</td>\n",
       "      <td>31.3875</td>\n",
       "      <td>NaN</td>\n",
       "      <td>S</td>\n",
       "      <td>Mrs</td>\n",
       "      <td>7</td>\n",
       "    </tr>\n",
       "    <tr>\n",
       "      <th>98</th>\n",
       "      <td>99</td>\n",
       "      <td>1</td>\n",
       "      <td>2</td>\n",
       "      <td>Doling, Mrs. John T (Ada Julia Bone)</td>\n",
       "      <td>female</td>\n",
       "      <td>34.0</td>\n",
       "      <td>0</td>\n",
       "      <td>1</td>\n",
       "      <td>231919</td>\n",
       "      <td>23.0000</td>\n",
       "      <td>NaN</td>\n",
       "      <td>S</td>\n",
       "      <td>Mrs</td>\n",
       "      <td>2</td>\n",
       "    </tr>\n",
       "    <tr>\n",
       "      <th>140</th>\n",
       "      <td>141</td>\n",
       "      <td>0</td>\n",
       "      <td>3</td>\n",
       "      <td>Boulos, Mrs. Joseph (Sultana)</td>\n",
       "      <td>female</td>\n",
       "      <td>NaN</td>\n",
       "      <td>0</td>\n",
       "      <td>2</td>\n",
       "      <td>2678</td>\n",
       "      <td>15.2458</td>\n",
       "      <td>NaN</td>\n",
       "      <td>C</td>\n",
       "      <td>Mrs</td>\n",
       "      <td>3</td>\n",
       "    </tr>\n",
       "    <tr>\n",
       "      <th>166</th>\n",
       "      <td>167</td>\n",
       "      <td>1</td>\n",
       "      <td>1</td>\n",
       "      <td>Chibnall, Mrs. (Edith Martha Bowerman)</td>\n",
       "      <td>female</td>\n",
       "      <td>NaN</td>\n",
       "      <td>0</td>\n",
       "      <td>1</td>\n",
       "      <td>113505</td>\n",
       "      <td>55.0000</td>\n",
       "      <td>E33</td>\n",
       "      <td>S</td>\n",
       "      <td>Mrs</td>\n",
       "      <td>2</td>\n",
       "    </tr>\n",
       "  </tbody>\n",
       "</table>\n",
       "</div>"
      ],
      "text/plain": [
       "     PassengerId  Survived  Pclass  \\\n",
       "8              9         1       3   \n",
       "25            26         1       3   \n",
       "98            99         1       2   \n",
       "140          141         0       3   \n",
       "166          167         1       1   \n",
       "\n",
       "                                                  Name     Sex   Age  SibSp  \\\n",
       "8    Johnson, Mrs. Oscar W (Elisabeth Vilhelmina Berg)  female  27.0      0   \n",
       "25   Asplund, Mrs. Carl Oscar (Selma Augusta Emilia...  female  38.0      1   \n",
       "98                Doling, Mrs. John T (Ada Julia Bone)  female  34.0      0   \n",
       "140                      Boulos, Mrs. Joseph (Sultana)  female   NaN      0   \n",
       "166             Chibnall, Mrs. (Edith Martha Bowerman)  female   NaN      0   \n",
       "\n",
       "     Parch  Ticket     Fare Cabin Embarked Title  FamilySize  \n",
       "8        2  347742  11.1333   NaN        S   Mrs           3  \n",
       "25       5  347077  31.3875   NaN        S   Mrs           7  \n",
       "98       1  231919  23.0000   NaN        S   Mrs           2  \n",
       "140      2    2678  15.2458   NaN        C   Mrs           3  \n",
       "166      1  113505  55.0000   E33        S   Mrs           2  "
      ]
     },
     "execution_count": 21,
     "metadata": {},
     "output_type": "execute_result"
    }
   ],
   "source": [
    "#Motherhood\n",
    "train_df.loc[(train_df.Sex=='female')&\n",
    "             (train_df.Parch!=0)&\n",
    "             (train_df.Title=='Mrs')].head()"
   ]
  },
  {
   "cell_type": "code",
   "execution_count": 22,
   "metadata": {
    "ExecuteTime": {
     "end_time": "2020-03-04T12:22:37.487138Z",
     "start_time": "2020-03-04T12:22:37.475171Z"
    }
   },
   "outputs": [],
   "source": [
    "for df in combo:\n",
    "    df['isMother']='No'\n",
    "    df.loc[(df.Sex=='female') & (df.Parch!=0) & (df.Title=='Mrs'),'isMother']='Yes'"
   ]
  },
  {
   "cell_type": "code",
   "execution_count": 23,
   "metadata": {
    "ExecuteTime": {
     "end_time": "2020-03-04T12:22:40.257379Z",
     "start_time": "2020-03-04T12:22:40.253391Z"
    }
   },
   "outputs": [],
   "source": [
    "# for categorical data only\n",
    "#pd.crosstab(train_df.isMother, train_df.Survived)"
   ]
  },
  {
   "cell_type": "code",
   "execution_count": 24,
   "metadata": {
    "ExecuteTime": {
     "end_time": "2020-03-04T12:22:41.551030Z",
     "start_time": "2020-03-04T12:22:41.538065Z"
    },
    "scrolled": true
   },
   "outputs": [
    {
     "data": {
      "text/html": [
       "<style  type=\"text/css\" >\n",
       "    #T_ea6e7354_5e1e_11ea_9a25_a46fff3d379frow0_col0 {\n",
       "            background-color:  #67000d;\n",
       "            color:  #f1f1f1;\n",
       "        }    #T_ea6e7354_5e1e_11ea_9a25_a46fff3d379frow1_col0 {\n",
       "            background-color:  #fff5f0;\n",
       "            color:  #000000;\n",
       "        }</style><table id=\"T_ea6e7354_5e1e_11ea_9a25_a46fff3d379f\" ><thead>    <tr>        <th class=\"blank level0\" ></th>        <th class=\"col_heading level0 col0\" >Survived</th>    </tr>    <tr>        <th class=\"index_name level0\" >isMother</th>        <th class=\"blank\" ></th>    </tr></thead><tbody>\n",
       "                <tr>\n",
       "                        <th id=\"T_ea6e7354_5e1e_11ea_9a25_a46fff3d379flevel0_row0\" class=\"row_heading level0 row0\" >Yes</th>\n",
       "                        <td id=\"T_ea6e7354_5e1e_11ea_9a25_a46fff3d379frow0_col0\" class=\"data row0 col0\" >0.714286</td>\n",
       "            </tr>\n",
       "            <tr>\n",
       "                        <th id=\"T_ea6e7354_5e1e_11ea_9a25_a46fff3d379flevel0_row1\" class=\"row_heading level0 row1\" >No</th>\n",
       "                        <td id=\"T_ea6e7354_5e1e_11ea_9a25_a46fff3d379frow1_col0\" class=\"data row1 col0\" >0.361677</td>\n",
       "            </tr>\n",
       "    </tbody></table>"
      ],
      "text/plain": [
       "<pandas.io.formats.style.Styler at 0x23703dead88>"
      ]
     },
     "execution_count": 24,
     "metadata": {},
     "output_type": "execute_result"
    }
   ],
   "source": [
    "train_df[['isMother', 'Survived']].groupby(['isMother'], as_index=True).mean().sort_values(by='Survived',ascending=False).style.background_gradient(cmap='Reds')"
   ]
  },
  {
   "cell_type": "markdown",
   "metadata": {},
   "source": [
    "## Age"
   ]
  },
  {
   "cell_type": "code",
   "execution_count": 50,
   "metadata": {
    "ExecuteTime": {
     "end_time": "2020-03-04T12:22:48.043150Z",
     "start_time": "2020-03-04T12:22:48.021022Z"
    }
   },
   "outputs": [],
   "source": [
    "#Prepare ML model\n",
    "new_train=train_df\n",
    "\n",
    "#new_train['Pclass'] = new_train['Pclass'].map( {1: 'U', 2: 'm',3:'L'} )\n",
    "\n",
    "test=new_train.loc[new_train.Age.isna()]\n",
    "train=new_train.loc[new_train.Age.isna()==False]\n",
    "\n",
    "Y_train=train[\"Age\"].astype(int)\n",
    "features=['Pclass','Sex','Embarked']\n",
    "X_train=pd.get_dummies(train[features])\n",
    "X_test=pd.get_dummies(test[features])\n",
    "#X_train=train[features]\n",
    "#X_test=test[features]\n"
   ]
  },
  {
   "cell_type": "code",
   "execution_count": 51,
   "metadata": {},
   "outputs": [],
   "source": [
    "#print(X_train.columns.to_list())\n",
    "#print(X_test.columns.to_list())"
   ]
  },
  {
   "cell_type": "code",
   "execution_count": 52,
   "metadata": {},
   "outputs": [],
   "source": [
    "#X_train.info()\n",
    "#X_train.head()"
   ]
  },
  {
   "cell_type": "code",
   "execution_count": 53,
   "metadata": {},
   "outputs": [],
   "source": [
    "#sns.heatmap(X_train.isnull(), cbar=False)"
   ]
  },
  {
   "cell_type": "code",
   "execution_count": 54,
   "metadata": {},
   "outputs": [],
   "source": [
    "#encoding Y because continuous\n",
    "#lab_enc = preprocessing.LabelEncoder()\n",
    "#Y_train_encoded = lab_enc.fit_transform(Y_train)\n"
   ]
  },
  {
   "cell_type": "code",
   "execution_count": 70,
   "metadata": {
    "scrolled": true
   },
   "outputs": [
    {
     "data": {
      "text/plain": [
       "RandomForestClassifier(bootstrap=True, class_weight=None, criterion='entropy',\n",
       "                       max_depth=None, max_features='auto', max_leaf_nodes=None,\n",
       "                       min_impurity_decrease=0.0, min_impurity_split=None,\n",
       "                       min_samples_leaf=1, min_samples_split=2,\n",
       "                       min_weight_fraction_leaf=0.0, n_estimators=100,\n",
       "                       n_jobs=None, oob_score=False, random_state=None,\n",
       "                       verbose=0, warm_start=False)"
      ]
     },
     "execution_count": 70,
     "metadata": {},
     "output_type": "execute_result"
    },
    {
     "data": {
      "text/plain": [
       "0.088"
      ]
     },
     "execution_count": 70,
     "metadata": {},
     "output_type": "execute_result"
    },
    {
     "data": {
      "text/plain": [
       "LogisticRegression(C=1.0, class_weight=None, dual=False, fit_intercept=True,\n",
       "                   intercept_scaling=1, l1_ratio=None, max_iter=200,\n",
       "                   multi_class='multinomial', n_jobs=None, penalty='l2',\n",
       "                   random_state=None, solver='lbfgs', tol=0.0001, verbose=0,\n",
       "                   warm_start=False)"
      ]
     },
     "execution_count": 70,
     "metadata": {},
     "output_type": "execute_result"
    },
    {
     "data": {
      "text/plain": [
       "0.064"
      ]
     },
     "execution_count": 70,
     "metadata": {},
     "output_type": "execute_result"
    }
   ],
   "source": [
    "#ml\n",
    "if True:\n",
    "    #RFC\n",
    "    RFC = RandomForestClassifier(n_estimators=100,criterion='entropy')\n",
    "    RFC.fit(X_train, Y_train)\n",
    "    predictions = RFC.predict(X_test)\n",
    "    score=round(RFC.score(X_train, Y_train), 3)\n",
    "    score\n",
    "    \n",
    "if True:\n",
    "    logreg = LogisticRegression(solver='lbfgs',multi_class='multinomial',max_iter=200)\n",
    "    logreg.fit(X_train, Y_train)\n",
    "    predictions = logreg.predict(X_test)\n",
    "    acc_log = round(logreg.score(X_train, Y_train), 3)\n",
    "    acc_log"
   ]
  },
  {
   "cell_type": "code",
   "execution_count": 71,
   "metadata": {},
   "outputs": [],
   "source": [
    "#attribution\n",
    "train_df.loc[new_train.Age.isna(),'Age']=predictions"
   ]
  },
  {
   "cell_type": "code",
   "execution_count": 74,
   "metadata": {},
   "outputs": [
    {
     "data": {
      "text/plain": [
       "<matplotlib.axes._subplots.AxesSubplot at 0x237070196c8>"
      ]
     },
     "execution_count": 74,
     "metadata": {},
     "output_type": "execute_result"
    },
    {
     "name": "stderr",
     "output_type": "stream",
     "text": [
      "C:\\Users\\User\\Anaconda3\\lib\\site-packages\\ipykernel_launcher.py:3: SettingWithCopyWarning: \n",
      "A value is trying to be set on a copy of a slice from a DataFrame.\n",
      "Try using .loc[row_indexer,col_indexer] = value instead\n",
      "\n",
      "See the caveats in the documentation: http://pandas.pydata.org/pandas-docs/stable/user_guide/indexing.html#returning-a-view-versus-a-copy\n",
      "  This is separate from the ipykernel package so we can avoid doing imports until\n"
     ]
    },
    {
     "data": {
      "text/plain": [
       "<matplotlib.axes._subplots.AxesSubplot at 0x237070196c8>"
      ]
     },
     "execution_count": 74,
     "metadata": {},
     "output_type": "execute_result"
    },
    {
     "data": {
      "image/png": "[encoded data removed]",
      "text/plain": [
       "<Figure size 432x288 with 1 Axes>"
      ]
     },
     "metadata": {
      "needs_background": "light"
     },
     "output_type": "display_data"
    }
   ],
   "source": [
    "#check\n",
    "train_df.Age.hist(bins=20,width=2)\n",
    "test['Age']=predictions\n",
    "test.Age.hist(bins=20,width=-2)\n",
    "\n"
   ]
  },
  {
   "cell_type": "markdown",
   "metadata": {},
   "source": [
    "### Guess based on Pclass and Sex"
   ]
  },
  {
   "cell_type": "code",
   "execution_count": 10,
   "metadata": {
    "ExecuteTime": {
     "end_time": "2020-03-04T11:47:36.106744Z",
     "start_time": "2020-03-04T11:47:34.240492Z"
    }
   },
   "outputs": [
    {
     "data": {
      "text/plain": [
       "<seaborn.axisgrid.FacetGrid at 0x1969a1194c8>"
      ]
     },
     "execution_count": 10,
     "metadata": {},
     "output_type": "execute_result"
    },
    {
     "data": {
      "text/plain": [
       "<seaborn.axisgrid.FacetGrid at 0x1969a1194c8>"
      ]
     },
     "execution_count": 10,
     "metadata": {},
     "output_type": "execute_result"
    },
    {
     "data": {
      "image/png": "[encoded data removed]",
      "text/plain": [
       "<Figure size 483.2x475.2 with 6 Axes>"
      ]
     },
     "metadata": {
      "needs_background": "light"
     },
     "output_type": "display_data"
    }
   ],
   "source": [
    "grid = sns.FacetGrid(train_df, row='Pclass', col='Sex', height=2.2, aspect=1.5)\n",
    "grid.map(plt.hist, 'Age', alpha=.5, bins=20)\n",
    "grid.add_legend()"
   ]
  },
  {
   "cell_type": "markdown",
   "metadata": {},
   "source": [
    "### Atribute median of each categorie to missing age "
   ]
  },
  {
   "cell_type": "code",
   "execution_count": 11,
   "metadata": {
    "ExecuteTime": {
     "end_time": "2020-03-04T11:47:36.211603Z",
     "start_time": "2020-03-04T11:47:36.107717Z"
    }
   },
   "outputs": [],
   "source": [
    "# replace non known age with median age regarding Pclass and Sex\"\"\"\n",
    "for df in combo:\n",
    "    #init\n",
    "    guess_ages = np.zeros((2,3))\n",
    "    df['Gender'] = df['Sex'].map( {'female': 1, 'male': 0} ).astype(int)\n",
    "    for i in range(0, 2):\n",
    "        for j in range(0, 3):\n",
    "            guess_df = df[(df['Gender'] == i) & (df['Pclass'] == j+1)]['Age'].dropna()\n",
    "\n",
    "            age_guess = guess_df.median()\n",
    "\n",
    "            # Convert random age float to nearest .5 age\n",
    "            guess_ages[i,j] = int( age_guess/0.5 + 0.5 ) * 0.5\n",
    "            \n",
    "    for i in range(0, 2):\n",
    "        for j in range(0, 3):\n",
    "            df.loc[ (df.Age.isnull()) & (df.Gender == i) & (df['Pclass'] == j+1),'Age'] = guess_ages[i,j]\n",
    "\n",
    "    df['Age'] = df['Age'].astype(int)\n",
    "    df.drop('Gender',axis=1,inplace=True)"
   ]
  },
  {
   "cell_type": "markdown",
   "metadata": {},
   "source": [
    "### Child"
   ]
  },
  {
   "cell_type": "code",
   "execution_count": 12,
   "metadata": {
    "ExecuteTime": {
     "end_time": "2020-03-04T11:47:36.225563Z",
     "start_time": "2020-03-04T11:47:36.212562Z"
    }
   },
   "outputs": [],
   "source": [
    "Age_adulthood=18\n",
    "Age_Childhood=3\n",
    "for df in combo:\n",
    "    df['Child'] = 'child'\n",
    "    df.loc[(df['Age']<Age_Childhood),'Child']='infant'\n",
    "    df.loc[df['Age']>=Age_adulthood,'Child']='adult'"
   ]
  },
  {
   "cell_type": "code",
   "execution_count": 13,
   "metadata": {
    "ExecuteTime": {
     "end_time": "2020-03-04T11:47:36.240487Z",
     "start_time": "2020-03-04T11:47:36.226527Z"
    },
    "scrolled": false
   },
   "outputs": [
    {
     "data": {
      "text/html": [
       "<style  type=\"text/css\" >\n",
       "    #T_f1316b48_5e0d_11ea_b2ce_a46fff3d379frow0_col0 {\n",
       "            background-color:  #67000d;\n",
       "            color:  #f1f1f1;\n",
       "        }    #T_f1316b48_5e0d_11ea_b2ce_a46fff3d379frow1_col0 {\n",
       "            background-color:  #f24734;\n",
       "            color:  #000000;\n",
       "        }    #T_f1316b48_5e0d_11ea_b2ce_a46fff3d379frow2_col0 {\n",
       "            background-color:  #fff5f0;\n",
       "            color:  #000000;\n",
       "        }</style><table id=\"T_f1316b48_5e0d_11ea_b2ce_a46fff3d379f\" ><thead>    <tr>        <th class=\"blank level0\" ></th>        <th class=\"col_heading level0 col0\" >Survived</th>    </tr>    <tr>        <th class=\"index_name level0\" >Child</th>        <th class=\"blank\" ></th>    </tr></thead><tbody>\n",
       "                <tr>\n",
       "                        <th id=\"T_f1316b48_5e0d_11ea_b2ce_a46fff3d379flevel0_row0\" class=\"row_heading level0 row0\" >infant</th>\n",
       "                        <td id=\"T_f1316b48_5e0d_11ea_b2ce_a46fff3d379frow0_col0\" class=\"data row0 col0\" >0.625</td>\n",
       "            </tr>\n",
       "            <tr>\n",
       "                        <th id=\"T_f1316b48_5e0d_11ea_b2ce_a46fff3d379flevel0_row1\" class=\"row_heading level0 row1\" >child</th>\n",
       "                        <td id=\"T_f1316b48_5e0d_11ea_b2ce_a46fff3d379frow1_col0\" class=\"data row1 col0\" >0.516854</td>\n",
       "            </tr>\n",
       "            <tr>\n",
       "                        <th id=\"T_f1316b48_5e0d_11ea_b2ce_a46fff3d379flevel0_row2\" class=\"row_heading level0 row2\" >adult</th>\n",
       "                        <td id=\"T_f1316b48_5e0d_11ea_b2ce_a46fff3d379frow2_col0\" class=\"data row2 col0\" >0.361183</td>\n",
       "            </tr>\n",
       "    </tbody></table>"
      ],
      "text/plain": [
       "<pandas.io.formats.style.Styler at 0x1969a75c308>"
      ]
     },
     "execution_count": 13,
     "metadata": {},
     "output_type": "execute_result"
    }
   ],
   "source": [
    "train_df[['Child', 'Survived']].groupby(['Child'], as_index=True).mean().sort_values(by='Survived',ascending=False).style.background_gradient(cmap='Reds')"
   ]
  },
  {
   "cell_type": "markdown",
   "metadata": {},
   "source": [
    "## Cleaning"
   ]
  },
  {
   "cell_type": "markdown",
   "metadata": {},
   "source": [
    "### Ticket and Cabin"
   ]
  },
  {
   "cell_type": "markdown",
   "metadata": {},
   "source": [
    "**Ticket** and **Cabin** Have So many uncertainties that they can not be of anymore Help"
   ]
  },
  {
   "cell_type": "code",
   "execution_count": 37,
   "metadata": {
    "ExecuteTime": {
     "end_time": "2020-03-04T11:47:36.923188Z",
     "start_time": "2020-03-04T11:47:36.918200Z"
    }
   },
   "outputs": [],
   "source": [
    "for df in combo:\n",
    "    df.drop(['Ticket','Cabin'],axis=1,inplace=True)"
   ]
  },
  {
   "cell_type": "markdown",
   "metadata": {},
   "source": [
    "**Name** , **SibSp**, **Parch** are no longer usefull"
   ]
  },
  {
   "cell_type": "code",
   "execution_count": 38,
   "metadata": {
    "ExecuteTime": {
     "end_time": "2020-03-04T11:47:36.932203Z",
     "start_time": "2020-03-04T11:47:36.925182Z"
    }
   },
   "outputs": [],
   "source": [
    "for df in combo:\n",
    "    df.drop(['Name','SibSp','Parch'],axis=1,inplace=True)"
   ]
  },
  {
   "cell_type": "code",
   "execution_count": 39,
   "metadata": {
    "ExecuteTime": {
     "end_time": "2020-03-04T11:47:36.936153Z",
     "start_time": "2020-03-04T11:47:36.933160Z"
    },
    "scrolled": false
   },
   "outputs": [],
   "source": [
    "#check\n",
    "sns.heatmap(train_df.isnull(), cbar=False)\n",
    "sns.heatmap(test_df.isnull(), cbar=False)"
   ]
  },
  {
   "cell_type": "markdown",
   "metadata": {},
   "source": [
    "# Machine learning"
   ]
  },
  {
   "cell_type": "markdown",
   "metadata": {},
   "source": [
    "## Features"
   ]
  },
  {
   "cell_type": "code",
   "execution_count": 40,
   "metadata": {
    "ExecuteTime": {
     "end_time": "2020-03-04T11:47:36.942138Z",
     "start_time": "2020-03-04T11:47:36.937151Z"
    }
   },
   "outputs": [
    {
     "name": "stdout",
     "output_type": "stream",
     "text": [
      "['Pclass', 'Sex', 'Age', 'Fare', 'Embarked', 'Title', 'Child', 'AgeG', 'FamilySize', 'FareG', 'isMother']\n"
     ]
    }
   ],
   "source": [
    "# all possible feature\n",
    "Possible_features=train_df.columns.to_list()\n",
    "Possible_features.remove('PassengerId')\n",
    "Possible_features.remove('Survived')\n",
    "print(Possible_features)"
   ]
  },
  {
   "cell_type": "code",
   "execution_count": 42,
   "metadata": {
    "ExecuteTime": {
     "end_time": "2020-03-04T11:48:00.150970Z",
     "start_time": "2020-03-04T11:48:00.140983Z"
    }
   },
   "outputs": [
    {
     "ename": "ValueError",
     "evalue": "list.remove(x): x not in list",
     "output_type": "error",
     "traceback": [
      "\u001b[1;31m---------------------------------------------------------------------------\u001b[0m",
      "\u001b[1;31mValueError\u001b[0m                                Traceback (most recent call last)",
      "\u001b[1;32m<ipython-input-42-47e1385be64f>\u001b[0m in \u001b[0;36m<module>\u001b[1;34m\u001b[0m\n\u001b[0;32m      1\u001b[0m \u001b[1;31m# remove feature\u001b[0m\u001b[1;33m\u001b[0m\u001b[1;33m\u001b[0m\u001b[1;33m\u001b[0m\u001b[0m\n\u001b[1;32m----> 2\u001b[1;33m \u001b[0mPossible_features\u001b[0m\u001b[1;33m.\u001b[0m\u001b[0mremove\u001b[0m\u001b[1;33m(\u001b[0m\u001b[1;34m'AgeG'\u001b[0m\u001b[1;33m)\u001b[0m\u001b[1;33m\u001b[0m\u001b[1;33m\u001b[0m\u001b[0m\n\u001b[0m\u001b[0;32m      3\u001b[0m \u001b[0mPossible_features\u001b[0m\u001b[1;33m.\u001b[0m\u001b[0mremove\u001b[0m\u001b[1;33m(\u001b[0m\u001b[1;34m'FareG'\u001b[0m\u001b[1;33m)\u001b[0m\u001b[1;33m\u001b[0m\u001b[1;33m\u001b[0m\u001b[0m\n\u001b[0;32m      4\u001b[0m \u001b[0mfeatures\u001b[0m\u001b[1;33m=\u001b[0m\u001b[0mPossible_features\u001b[0m\u001b[1;33m\u001b[0m\u001b[1;33m\u001b[0m\u001b[0m\n\u001b[0;32m      5\u001b[0m \u001b[0mprint\u001b[0m\u001b[1;33m(\u001b[0m\u001b[0mfeatures\u001b[0m\u001b[1;33m)\u001b[0m\u001b[1;33m\u001b[0m\u001b[1;33m\u001b[0m\u001b[0m\n",
      "\u001b[1;31mValueError\u001b[0m: list.remove(x): x not in list"
     ]
    }
   ],
   "source": [
    "# remove feature\n",
    "Possible_features.remove('AgeG')\n",
    "Possible_features.remove('FareG')\n",
    "features=Possible_features\n",
    "print(features)"
   ]
  },
  {
   "cell_type": "markdown",
   "metadata": {},
   "source": [
    "## Apply to Df"
   ]
  },
  {
   "cell_type": "code",
   "execution_count": 43,
   "metadata": {
    "ExecuteTime": {
     "end_time": "2020-03-04T11:48:07.435488Z",
     "start_time": "2020-03-04T11:48:07.410539Z"
    }
   },
   "outputs": [],
   "source": [
    "Y_train  = train_df[\"Survived\"]\n",
    "X_train  = pd.get_dummies(train_df[features])\n",
    "X_test = pd.get_dummies(test_df[features])\n",
    "#X_train.head()\n",
    "#X_test.head()"
   ]
  },
  {
   "cell_type": "markdown",
   "metadata": {},
   "source": [
    "## RandomForestClassifier"
   ]
  },
  {
   "cell_type": "markdown",
   "metadata": {},
   "source": [
    "### Model"
   ]
  },
  {
   "cell_type": "code",
   "execution_count": 44,
   "metadata": {
    "ExecuteTime": {
     "end_time": "2020-03-04T11:48:13.336406Z",
     "start_time": "2020-03-04T11:48:12.317460Z"
    }
   },
   "outputs": [
    {
     "data": {
      "text/plain": [
       "RandomForestClassifier(bootstrap=True, class_weight=None, criterion='gini',\n",
       "                       max_depth=None, max_features='auto', max_leaf_nodes=None,\n",
       "                       min_impurity_decrease=0.0, min_impurity_split=None,\n",
       "                       min_samples_leaf=1, min_samples_split=2,\n",
       "                       min_weight_fraction_leaf=0.0, n_estimators=1000,\n",
       "                       n_jobs=None, oob_score=False, random_state=None,\n",
       "                       verbose=0, warm_start=False)"
      ]
     },
     "execution_count": 44,
     "metadata": {},
     "output_type": "execute_result"
    }
   ],
   "source": [
    "#RFC\n",
    "model = RandomForestClassifier(n_estimators=1000)\n",
    "model.fit(X_train, Y_train)\n",
    "predictions = model.predict(X_test)"
   ]
  },
  {
   "cell_type": "markdown",
   "metadata": {},
   "source": [
    "### Score"
   ]
  },
  {
   "cell_type": "code",
   "execution_count": 45,
   "metadata": {
    "ExecuteTime": {
     "end_time": "2020-03-04T11:48:14.536420Z",
     "start_time": "2020-03-04T11:48:14.358663Z"
    }
   },
   "outputs": [
    {
     "data": {
      "text/plain": [
       "98.2"
      ]
     },
     "execution_count": 45,
     "metadata": {},
     "output_type": "execute_result"
    }
   ],
   "source": [
    "#Score\n",
    "round(model.score(X_train, Y_train)*100,2)"
   ]
  },
  {
   "cell_type": "markdown",
   "metadata": {},
   "source": [
    "### Importance"
   ]
  },
  {
   "cell_type": "code",
   "execution_count": 46,
   "metadata": {
    "ExecuteTime": {
     "end_time": "2020-03-04T11:48:17.276135Z",
     "start_time": "2020-03-04T11:48:16.982276Z"
    },
    "scrolled": false
   },
   "outputs": [
    {
     "data": {
      "text/plain": [
       "<matplotlib.axes._subplots.AxesSubplot at 0x1969ba783c8>"
      ]
     },
     "execution_count": 46,
     "metadata": {},
     "output_type": "execute_result"
    },
    {
     "data": {
      "text/html": [
       "<div>\n",
       "<style scoped>\n",
       "    .dataframe tbody tr th:only-of-type {\n",
       "        vertical-align: middle;\n",
       "    }\n",
       "\n",
       "    .dataframe tbody tr th {\n",
       "        vertical-align: top;\n",
       "    }\n",
       "\n",
       "    .dataframe thead th {\n",
       "        text-align: right;\n",
       "    }\n",
       "</style>\n",
       "<table border=\"1\" class=\"dataframe\">\n",
       "  <thead>\n",
       "    <tr style=\"text-align: right;\">\n",
       "      <th></th>\n",
       "      <th>importance</th>\n",
       "    </tr>\n",
       "    <tr>\n",
       "      <th>feature</th>\n",
       "      <th></th>\n",
       "    </tr>\n",
       "  </thead>\n",
       "  <tbody>\n",
       "    <tr>\n",
       "      <th>Fare</th>\n",
       "      <td>24.520622</td>\n",
       "    </tr>\n",
       "    <tr>\n",
       "      <th>Age</th>\n",
       "      <td>21.384189</td>\n",
       "    </tr>\n",
       "    <tr>\n",
       "      <th>Sex</th>\n",
       "      <td>16.950566</td>\n",
       "    </tr>\n",
       "    <tr>\n",
       "      <th>Title</th>\n",
       "      <td>15.689413</td>\n",
       "    </tr>\n",
       "    <tr>\n",
       "      <th>Pclass</th>\n",
       "      <td>7.921549</td>\n",
       "    </tr>\n",
       "    <tr>\n",
       "      <th>FamilySize</th>\n",
       "      <td>7.834334</td>\n",
       "    </tr>\n",
       "    <tr>\n",
       "      <th>Embarked</th>\n",
       "      <td>3.292776</td>\n",
       "    </tr>\n",
       "    <tr>\n",
       "      <th>Child</th>\n",
       "      <td>1.639559</td>\n",
       "    </tr>\n",
       "    <tr>\n",
       "      <th>isMother</th>\n",
       "      <td>0.766990</td>\n",
       "    </tr>\n",
       "  </tbody>\n",
       "</table>\n",
       "</div>"
      ],
      "text/plain": [
       "            importance\n",
       "feature               \n",
       "Fare         24.520622\n",
       "Age          21.384189\n",
       "Sex          16.950566\n",
       "Title        15.689413\n",
       "Pclass        7.921549\n",
       "FamilySize    7.834334\n",
       "Embarked      3.292776\n",
       "Child         1.639559\n",
       "isMother      0.766990"
      ]
     },
     "execution_count": 46,
     "metadata": {},
     "output_type": "execute_result"
    },
    {
     "data": {
      "image/png": "[encoded data removed]",
      "text/plain": [
       "<Figure size 432x288 with 1 Axes>"
      ]
     },
     "metadata": {
      "needs_background": "light"
     },
     "output_type": "display_data"
    }
   ],
   "source": [
    "# importance\n",
    "variable_importance = pd.DataFrame({'feature': X_train.columns, 'importance': model.feature_importances_*100})\n",
    "variable_importance['feature']=variable_importance['feature'].str.split(\"_\", n = 1, expand = True) \n",
    "variable_importance=variable_importance.groupby('feature',as_index=True).sum().sort_values(by='importance', ascending=True)\n",
    "variable_importance.plot.barh()\n",
    "variable_importance.sort_values(by='importance', ascending=False)"
   ]
  },
  {
   "cell_type": "markdown",
   "metadata": {
    "ExecuteTime": {
     "end_time": "2020-03-03T11:38:38.924871Z",
     "start_time": "2020-03-03T11:38:38.920831Z"
    }
   },
   "source": [
    "## Submit"
   ]
  },
  {
   "cell_type": "code",
   "execution_count": 47,
   "metadata": {
    "ExecuteTime": {
     "end_time": "2020-03-04T11:48:20.048934Z",
     "start_time": "2020-03-04T11:48:20.042788Z"
    }
   },
   "outputs": [
    {
     "data": {
      "text/html": [
       "<div>\n",
       "<style scoped>\n",
       "    .dataframe tbody tr th:only-of-type {\n",
       "        vertical-align: middle;\n",
       "    }\n",
       "\n",
       "    .dataframe tbody tr th {\n",
       "        vertical-align: top;\n",
       "    }\n",
       "\n",
       "    .dataframe thead th {\n",
       "        text-align: right;\n",
       "    }\n",
       "</style>\n",
       "<table border=\"1\" class=\"dataframe\">\n",
       "  <thead>\n",
       "    <tr style=\"text-align: right;\">\n",
       "      <th></th>\n",
       "      <th>PassengerId</th>\n",
       "      <th>Survived</th>\n",
       "    </tr>\n",
       "  </thead>\n",
       "  <tbody>\n",
       "    <tr>\n",
       "      <th>0</th>\n",
       "      <td>892</td>\n",
       "      <td>0</td>\n",
       "    </tr>\n",
       "    <tr>\n",
       "      <th>1</th>\n",
       "      <td>893</td>\n",
       "      <td>0</td>\n",
       "    </tr>\n",
       "    <tr>\n",
       "      <th>2</th>\n",
       "      <td>894</td>\n",
       "      <td>0</td>\n",
       "    </tr>\n",
       "    <tr>\n",
       "      <th>3</th>\n",
       "      <td>895</td>\n",
       "      <td>1</td>\n",
       "    </tr>\n",
       "    <tr>\n",
       "      <th>4</th>\n",
       "      <td>896</td>\n",
       "      <td>1</td>\n",
       "    </tr>\n",
       "  </tbody>\n",
       "</table>\n",
       "</div>"
      ],
      "text/plain": [
       "   PassengerId  Survived\n",
       "0          892         0\n",
       "1          893         0\n",
       "2          894         0\n",
       "3          895         1\n",
       "4          896         1"
      ]
     },
     "execution_count": 47,
     "metadata": {},
     "output_type": "execute_result"
    }
   ],
   "source": [
    "output = pd.DataFrame({'PassengerId': test_df.PassengerId, 'Survived': predictions})\n",
    "#output.set_index('PassengerId',inplace=True)\n",
    "output.head()"
   ]
  },
  {
   "cell_type": "code",
   "execution_count": 48,
   "metadata": {
    "ExecuteTime": {
     "end_time": "2020-03-04T11:48:20.836048Z",
     "start_time": "2020-03-04T11:48:20.829073Z"
    }
   },
   "outputs": [
    {
     "name": "stdout",
     "output_type": "stream",
     "text": [
      "Your submission was successfully saved!\n"
     ]
    }
   ],
   "source": [
    "output.to_csv('kaggle/output/my_ml_submission.csv', index=False)\n",
    "print(\"Your submission was successfully saved!\")"
   ]
  },
  {
   "cell_type": "code",
   "execution_count": null,
   "metadata": {},
   "outputs": [],
   "source": []
  }
 ],
 "metadata": {
  "kernelspec": {
   "display_name": "Python 3",
   "language": "python",
   "name": "python3"
  },
  "language_info": {
   "codemirror_mode": {
    "name": "ipython",
    "version": 3
   },
   "file_extension": ".py",
   "mimetype": "text/x-python",
   "name": "python",
   "nbconvert_exporter": "python",
   "pygments_lexer": "ipython3",
   "version": "3.7.4"
  },
  "latex_envs": {
   "LaTeX_envs_menu_present": true,
   "autoclose": false,
   "autocomplete": true,
   "bibliofile": "biblio.bib",
   "cite_by": "apalike",
   "current_citInitial": 1,
   "eqLabelWithNumbers": true,
   "eqNumInitial": 1,
   "hotkeys": {
    "equation": "Ctrl-E",
    "itemize": "Ctrl-I"
   },
   "labels_anchors": false,
   "latex_user_defs": false,
   "report_style_numbering": false,
   "user_envs_cfg": false
  },
  "toc": {
   "base_numbering": 1,
   "nav_menu": {},
   "number_sections": true,
   "sideBar": true,
   "skip_h1_title": false,
   "title_cell": "Table of Contents",
   "title_sidebar": "Contents",
   "toc_cell": false,
   "toc_position": {},
   "toc_section_display": true,
   "toc_window_display": false
  }
 },
 "nbformat": 4,
 "nbformat_minor": 4
}
